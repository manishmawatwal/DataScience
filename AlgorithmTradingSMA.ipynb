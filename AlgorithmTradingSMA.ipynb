{
  "nbformat": 4,
  "nbformat_minor": 0,
  "metadata": {
    "colab": {
      "name": "AlgorithmTradingSMA.ipynb",
      "provenance": [],
      "authorship_tag": "ABX9TyOfeJHPjzhsbvyml6xJuxtz",
      "include_colab_link": true
    },
    "kernelspec": {
      "name": "python3",
      "display_name": "Python 3"
    },
    "language_info": {
      "name": "python"
    }
  },
  "cells": [
    {
      "cell_type": "markdown",
      "metadata": {
        "id": "view-in-github",
        "colab_type": "text"
      },
      "source": [
        "<a href=\"https://colab.research.google.com/github/manishmawatwal/DataScience/blob/main/AlgorithmTradingSMA.ipynb\" target=\"_parent\"><img src=\"https://colab.research.google.com/assets/colab-badge.svg\" alt=\"Open In Colab\"/></a>"
      ]
    },
    {
      "cell_type": "code",
      "metadata": {
        "id": "hBCLFSTPxXPw"
      },
      "source": [
        "#description: This program uses the dual moving average crossover to determine when to buy and sell stocks"
      ],
      "execution_count": null,
      "outputs": []
    },
    {
      "cell_type": "code",
      "metadata": {
        "id": "ktOLMZwbx_mS"
      },
      "source": [
        "#importing libraries\n",
        "import pandas as pd\n",
        "import numpy as np\n",
        "from datetime import datetime\n",
        "import matplotlib.pyplot as plt\n",
        "plt.style.use('fivethirtyeight')"
      ],
      "execution_count": 2,
      "outputs": []
    },
    {
      "cell_type": "code",
      "metadata": {
        "id": "oWbIKxbWyaqs"
      },
      "source": [
        "#load data\n",
        "from google.colab import files\n",
        "uploaded = files.upload() "
      ],
      "execution_count": null,
      "outputs": []
    },
    {
      "cell_type": "code",
      "metadata": {
        "id": "CPufGUaNyy3Z"
      },
      "source": [
        "#store data\n",
        "AAPL = pd.read_csv('AAPL.csv')\n",
        "AAPL"
      ],
      "execution_count": null,
      "outputs": []
    },
    {
      "cell_type": "code",
      "metadata": {
        "id": "-Jzz42bvWq3u"
      },
      "source": [
        "#Visualize the data\n",
        "plt.figure(figsize=(12.5, 4.5))\n",
        "plt.plot(AAPL['Adj Close Price'], label = 'AAPL')\n",
        "plt.title('Apple Adj. Close Price History')\n",
        "plt.xlabel('Oct. 02. 2006 - Dec. 30. 2011')\n",
        "plt.ylabel('Adj. Close Price USD ($)')\n",
        "plt.legend(loc = 'upper left')\n",
        "plt.show()"
      ],
      "execution_count": null,
      "outputs": []
    },
    {
      "cell_type": "code",
      "metadata": {
        "id": "6iuan_unXpeK"
      },
      "source": [
        "#create the simple moving avg with a 30 day window\n",
        "sma30 = pd.DataFrame()\n",
        "sma30['Adj Close Price'] = AAPL['Adj Close Price'].rolling(window = 30).mean()\n",
        "sma30"
      ],
      "execution_count": null,
      "outputs": []
    },
    {
      "cell_type": "code",
      "metadata": {
        "id": "cLqe0MQFYC_I"
      },
      "source": [
        "#create a simple moving 100 day average\n",
        "sma100 = pd.DataFrame()\n",
        "sma100['Adj Close Price'] = AAPL['Adj Close Price'].rolling(window=100).mean()\n",
        "sma100"
      ],
      "execution_count": null,
      "outputs": []
    },
    {
      "cell_type": "code",
      "metadata": {
        "id": "3vTuATmCYX0W"
      },
      "source": [
        "#Visualize the data\n",
        "plt.figure(figsize=(12.5, 4.5))\n",
        "plt.plot(AAPL['Adj Close Price'], label = 'AAPL')\n",
        "plt.plot(sma30['Adj Close Price'], label = 'SMA30')\n",
        "plt.plot(sma100['Adj Close Price'], label = 'SMA100')\n",
        "plt.title('Apple Adj. Close Price History')\n",
        "plt.xlabel('Oct. 02. 2006 - Dec. 30. 2011')\n",
        "plt.ylabel('Adj. Close Price USD ($)')\n",
        "plt.legend(loc = 'upper left')\n",
        "plt.show()"
      ],
      "execution_count": null,
      "outputs": []
    },
    {
      "cell_type": "code",
      "metadata": {
        "id": "KeiednQOZeLV"
      },
      "source": [
        "#creating data frame to store all data\n",
        "data = pd.DataFrame()\n",
        "data['AAPL'] = AAPL['Adj Close Price']\n",
        "data['SMA30'] = sma30['Adj Close Price']\n",
        "data"
      ],
      "execution_count": null,
      "outputs": []
    },
    {
      "cell_type": "code",
      "metadata": {
        "id": "jTfxrYzkZ47V"
      },
      "source": [
        "#creating a function to signal buy/sell\n",
        "def buy_sell(data):\n",
        "  sigPriceBuy = []\n",
        "  sigPriceSell = []\n",
        "  flag = -1\n",
        "\n",
        "  for i in range(len(data)):\n",
        "    if data['SMA30'][i] > data['SMA100'][i]:\n",
        "      if flag != 1:\n",
        "        sigPriceBuy.append(data['AAPL'][i])\n",
        "        sigPriceSell.append(np.nan)\n",
        "        flag = 1\n",
        "      else:\n",
        "        sigPriceBuy.append(np.nan)\n",
        "        sigPriceSell.append(np.nan)\n",
        "    elif data['SMA30'][i] < data['SMA100'][i]:\n",
        "      if flag != 0:\n",
        "        sigPriceBuy.append(np.nan)\n",
        "        sigPriceSell.append(data['AAPL'][i])\n",
        "      else:\n",
        "        sigPriceBuy.append(np.nan)\n",
        "        sigPriceSell.append(np.nan)\n",
        "  return (sigPriceBuy, sigPriceSell)"
      ],
      "execution_count": null,
      "outputs": []
    },
    {
      "cell_type": "code",
      "metadata": {
        "id": "J2GfJbrebjhE"
      },
      "source": [
        "#Store buy/sell data into variable\n",
        "buy_sell = buy_sell(data)\n",
        "data['Buy_Signal_Price'] = buy_sell[0]\n",
        "data['Sell_Signal_Price'] = buy_sell[1]"
      ],
      "execution_count": null,
      "outputs": []
    },
    {
      "cell_type": "code",
      "metadata": {
        "id": "A0wmqd4mcHmf"
      },
      "source": [
        "#show data\n",
        "data"
      ],
      "execution_count": null,
      "outputs": []
    },
    {
      "cell_type": "code",
      "metadata": {
        "id": "SdjhzIzScPCP"
      },
      "source": [
        "#visualise data and strategy to buy and sell stock\n",
        "plt.figure(figsize=(12.6, 4.6))\n",
        "plt.plot(data['AAPL'], label = 'AAPL', alpha = 0.35)\n",
        "plt.plot(data['SMA30'], label = 'SMA30', alpha = 0.35)\n",
        "plt.plot(data['SMA100'], label = 'SMA100', alpha = 0.35)\n",
        "plt.scatter(data.index, data['Buy_Signal_Price'], label = 'Buy', marker = '^', color = 'green')\n",
        "plt.scatter(data.index, data['Sell_Signal_Price'], label = 'Sell', marker = 'V', color = 'red')\n",
        "plt.title('Apple Adj. Close Price History Buy and Sell Signals')\n",
        "plt.xlabel('Oct 02, 2006 - Dec 30, 2011')\n",
        "plt.ylabel('Adj Close Price USD ($)')\n",
        "plt.legend(loc = 'upper left')\n",
        "plt.show()"
      ],
      "execution_count": null,
      "outputs": []
    }
  ]
}