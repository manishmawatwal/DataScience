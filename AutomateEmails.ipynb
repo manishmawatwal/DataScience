{
  "nbformat": 4,
  "nbformat_minor": 0,
  "metadata": {
    "colab": {
      "name": "AutomateEmails.ipynb",
      "provenance": [],
      "collapsed_sections": [],
      "authorship_tag": "ABX9TyMcJfq26oFqvYJJxIYrhpv6",
      "include_colab_link": true
    },
    "kernelspec": {
      "name": "python3",
      "display_name": "Python 3"
    },
    "language_info": {
      "name": "python"
    }
  },
  "cells": [
    {
      "cell_type": "markdown",
      "metadata": {
        "id": "view-in-github",
        "colab_type": "text"
      },
      "source": [
        "<a href=\"https://colab.research.google.com/github/manishmawatwal/DataScience/blob/main/AutomateEmails.ipynb\" target=\"_parent\"><img src=\"https://colab.research.google.com/assets/colab-badge.svg\" alt=\"Open In Colab\"/></a>"
      ]
    },
    {
      "cell_type": "code",
      "metadata": {
        "id": "VUhHBvyKwvcC"
      },
      "source": [
        "#Description: This program sends email using python"
      ],
      "execution_count": 18,
      "outputs": []
    },
    {
      "cell_type": "code",
      "metadata": {
        "id": "L36qqEyew0BE"
      },
      "source": [
        "#import libraries\n",
        "import smtplib\n",
        "import ssl\n",
        "from email.mime.text import MIMEText as MT\n",
        "from email.mime.multipart import MIMEMultipart as MM"
      ],
      "execution_count": 19,
      "outputs": []
    },
    {
      "cell_type": "code",
      "metadata": {
        "id": "E-C2W_GDxDpS"
      },
      "source": [
        "#store the email address for the receiver and the sender and store the senders email password\n",
        "receiver = ''\n",
        "sender = ''\n",
        "sender_password = ''"
      ],
      "execution_count": 20,
      "outputs": []
    },
    {
      "cell_type": "code",
      "metadata": {
        "id": "vma6QoaRxiae"
      },
      "source": [
        "#Create the MIMEMultipart object\n",
        "msg = MM()\n",
        "msg['Subject'] = 'Python Programming is amazing !'\n",
        "msg['From'] = sender\n",
        "msg['To'] = receiver"
      ],
      "execution_count": 21,
      "outputs": []
    },
    {
      "cell_type": "code",
      "metadata": {
        "id": "r5eRTRZMx0Wl"
      },
      "source": [
        "#create the HTML message\n",
        "HTML = \"\"\"\n",
        "<html>\n",
        "  <body>\n",
        "    <h1> Python is cool !</h1>\n",
        "    <img src = \"https://everythingcomputerscience.com/Photos/Python_Image.png\" alt=\"Python_Image width = \"640\" height = \"360\"</img>\n",
        "    <h2>\n",
        "      <p> Hello, <br>\n",
        "        Checkout: <a href = \"https://www.everythingcomputerscience.com\">Everything Computer Science</a>\n",
        "        It has great info\n",
        "      </p>\n",
        "    </h2>\n",
        "  </body>  \n",
        "</html>\n",
        "\"\"\""
      ],
      "execution_count": 22,
      "outputs": []
    },
    {
      "cell_type": "code",
      "metadata": {
        "id": "w7H-prf4y8Ra"
      },
      "source": [
        "#create a html MIMEText object\n",
        "MTObj = MT(HTML, \"html\")"
      ],
      "execution_count": 23,
      "outputs": []
    },
    {
      "cell_type": "code",
      "metadata": {
        "id": "OC8MPiNfzFmL"
      },
      "source": [
        "#Attach the MIMEText object into the message container\n",
        "msg.attach(MTObj)"
      ],
      "execution_count": 24,
      "outputs": []
    },
    {
      "cell_type": "code",
      "metadata": {
        "id": "sMDaoAmezNLD"
      },
      "source": [
        "#Create a secure connection with the server and send email\n",
        "#create the secure socket layer (SSL) context object\n",
        "SSL_context = ssl.create_default_context()\n",
        "#create the secure Simple MAil Transfer Protocol (SMTP) connection\n",
        "server = smtplib.SMTP_SSL(host = 'smtp.gmail.com', port = 465, context = SSL_context)\n",
        "#login to email account\n",
        "server.login(sender, sender_password)\n",
        "#send the email\n",
        "server.sendmail(sender, receiver, msg.as_string())"
      ],
      "execution_count": null,
      "outputs": []
    }
  ]
}