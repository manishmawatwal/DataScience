{
  "nbformat": 4,
  "nbformat_minor": 0,
  "metadata": {
    "colab": {
      "name": "BookRecommender.ipynb",
      "provenance": [],
      "authorship_tag": "ABX9TyNAoqzWT8Gpz2tm9ZcbCuqQ",
      "include_colab_link": true
    },
    "kernelspec": {
      "name": "python3",
      "display_name": "Python 3"
    },
    "language_info": {
      "name": "python"
    }
  },
  "cells": [
    {
      "cell_type": "markdown",
      "metadata": {
        "id": "view-in-github",
        "colab_type": "text"
      },
      "source": [
        "<a href=\"https://colab.research.google.com/github/manishmawatwal/DataScience/blob/main/BookRecommender.ipynb\" target=\"_parent\"><img src=\"https://colab.research.google.com/assets/colab-badge.svg\" alt=\"Open In Colab\"/></a>"
      ]
    },
    {
      "cell_type": "code",
      "metadata": {
        "id": "3uv6C1MxaFb4"
      },
      "source": [
        "#Description: Build a book recommendation system"
      ],
      "execution_count": null,
      "outputs": []
    },
    {
      "cell_type": "code",
      "metadata": {
        "id": "tXhcX51laTkT"
      },
      "source": [
        "#import ibraries\n",
        "import numpy as np\n",
        "import pandas as pd\n",
        "from sklearn.metrics.pairwise import cosine_similarity\n",
        "from sklearn.feature_extraction.text import CountVectorizer"
      ],
      "execution_count": null,
      "outputs": []
    },
    {
      "cell_type": "code",
      "metadata": {
        "id": "gdyo2G11ajTS"
      },
      "source": [
        "#load data\n",
        "from google.colab import files\n",
        "files.upload()"
      ],
      "execution_count": null,
      "outputs": []
    },
    {
      "cell_type": "code",
      "metadata": {
        "id": "J0gw7twXap7m"
      },
      "source": [
        "#store the data\n",
        "df = pd.read_csv('books.csv', encoding='unicode_escape', error_bad_lines = False)"
      ],
      "execution_count": null,
      "outputs": []
    },
    {
      "cell_type": "code",
      "metadata": {
        "id": "QzvgmHora69Y"
      },
      "source": [
        "#show data\n",
        "df"
      ],
      "execution_count": null,
      "outputs": []
    },
    {
      "cell_type": "code",
      "metadata": {
        "id": "h2zk8rKEbBnx"
      },
      "source": [
        "#create a list of columns to keep\n",
        "#make sure the file has the same column names as given below or change accordingly\n",
        "columns = ['title', 'authors', 'publisher']"
      ],
      "execution_count": null,
      "outputs": []
    },
    {
      "cell_type": "code",
      "metadata": {
        "id": "tFROWRK3bhII"
      },
      "source": [
        "#create a function to combine important features\n",
        "def combine_features(data):\n",
        "  features = []\n",
        "  for i in range(0, data.shape[0]):\n",
        "    features.append(data['title'][i] + ' ' + data['authors'] + ' ' + data['publisher'][i])\n",
        "  return features"
      ],
      "execution_count": null,
      "outputs": []
    },
    {
      "cell_type": "code",
      "metadata": {
        "id": "USaHQaKQg-XW"
      },
      "source": [
        "#create a column to store the combined features\n",
        "df['combined_features'] = combine_features(df)\n",
        "#show data\n",
        "df"
      ],
      "execution_count": null,
      "outputs": []
    },
    {
      "cell_type": "code",
      "metadata": {
        "id": "aLXc1oQLhNb0"
      },
      "source": [
        "#convert the text from the new column to a matrix of word counts\n",
        "cm = CountVectorizer().fit_transform(df['combined_features'])"
      ],
      "execution_count": null,
      "outputs": []
    },
    {
      "cell_type": "code",
      "metadata": {
        "id": "tG4ON32ahmRa"
      },
      "source": [
        "#get the cosine similarity matrix from the count matrix\n",
        "cs = cosine_similarity(cm)\n",
        "#print the scores\n",
        "print(cs)"
      ],
      "execution_count": null,
      "outputs": []
    },
    {
      "cell_type": "code",
      "metadata": {
        "id": "43JmHnnBiIgW"
      },
      "source": [
        "#get the title of the books the reader likes\n",
        "title = df['title'][1]\n",
        "#show the title\n",
        "title"
      ],
      "execution_count": null,
      "outputs": []
    },
    {
      "cell_type": "code",
      "metadata": {
        "id": "9bbc2xZdiTal"
      },
      "source": [
        "#find the book id of the book that the user likes\n",
        "book_id = df[df.title == title]['book_id'].values[0]\n",
        "#show book id\n",
        "book_id"
      ],
      "execution_count": null,
      "outputs": []
    },
    {
      "cell_type": "code",
      "metadata": {
        "id": "T0ghupm9imYD"
      },
      "source": [
        "#create a list of tuples\n",
        "scores = list(enumerate(cs[book_id]))\n",
        "print(scores)"
      ],
      "execution_count": null,
      "outputs": []
    },
    {
      "cell_type": "code",
      "metadata": {
        "id": "HPo31960i93L"
      },
      "source": [
        "#sort the list of similar books in descending order\n",
        "sorted_scores = sorted(scores, key = lambda x:x[1], reverse = True)\n",
        "#to remove the first book id because it is the same book\n",
        "sorted_scores = sorted_scores[1:]\n",
        "#show sorted scores\n",
        "sorted_scores"
      ],
      "execution_count": null,
      "outputs": []
    },
    {
      "cell_type": "code",
      "metadata": {
        "id": "EmbuD6c6jiLX"
      },
      "source": [
        "#create a loop to print the top 10 books from sorted list\n",
        "j = 0\n",
        "print('The 10 most recommended books to ' + title + ' are:\\n')\n",
        "for items in sorted_scores:\n",
        "  book_title = df[df.book_id == item[0]]['title'].values[0]\n",
        "  print(j+1, book_title)\n",
        "  j = j+1\n",
        "  if j >= 10:\n",
        "    break"
      ],
      "execution_count": null,
      "outputs": []
    }
  ]
}