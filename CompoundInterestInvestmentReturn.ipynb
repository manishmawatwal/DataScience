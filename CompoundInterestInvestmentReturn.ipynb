{
  "nbformat": 4,
  "nbformat_minor": 0,
  "metadata": {
    "colab": {
      "name": "CompoundInterestInvestmentReturn.ipynb",
      "provenance": [],
      "authorship_tag": "ABX9TyPMhOHvVsDYePaacvbZswdg",
      "include_colab_link": true
    },
    "kernelspec": {
      "name": "python3",
      "display_name": "Python 3"
    },
    "language_info": {
      "name": "python"
    }
  },
  "cells": [
    {
      "cell_type": "markdown",
      "metadata": {
        "id": "view-in-github",
        "colab_type": "text"
      },
      "source": [
        "<a href=\"https://colab.research.google.com/github/manishmawatwal/DataScience/blob/main/CompoundInterestInvestmentReturn.ipynb\" target=\"_parent\"><img src=\"https://colab.research.google.com/assets/colab-badge.svg\" alt=\"Open In Colab\"/></a>"
      ]
    },
    {
      "cell_type": "code",
      "metadata": {
        "id": "YjkaBM_YLutd"
      },
      "source": [
        "#Description : This program shows how much you can make on Shares by consistently investing "
      ],
      "execution_count": 2,
      "outputs": []
    },
    {
      "cell_type": "code",
      "metadata": {
        "id": "COz6Yx7vQBDP"
      },
      "source": [
        "#importing libraries\n",
        "import math\n",
        "import numpy as np\n",
        "import pandas as pd\n",
        "import matplotlib.pyplot as plt\n",
        "plt.style.use('fivethirtyeight')"
      ],
      "execution_count": 4,
      "outputs": []
    },
    {
      "cell_type": "code",
      "metadata": {
        "id": "-vGL2jRaQRvw"
      },
      "source": [
        "#creating vriables for monthly deposit, interest rate, \n",
        "#time, number of times the interest is applied per time period\n",
        "#store the number of months invested\n",
        "monthly_saving = 200 #INR 200\n",
        "rate = 0.09 #9%\n",
        "time = 1/12\n",
        "num_compounded = 12\n",
        "num_months_saving = 240 #12 months * 20 years = 240"
      ],
      "execution_count": 5,
      "outputs": []
    },
    {
      "cell_type": "code",
      "metadata": {
        "id": "Og4y58dARV8V"
      },
      "source": [
        "#creating a function to mimic the compound formula\n",
        "def compound_interest(P, r, t, n):\n",
        "  A = P * pow((1 + r/n), (t*n))\n",
        "  return A"
      ],
      "execution_count": 6,
      "outputs": []
    },
    {
      "cell_type": "code",
      "metadata": {
        "id": "R61kC2wWRrA3"
      },
      "source": [
        "#creating a function for the strategy\n",
        "def investment_strategy():\n",
        "  compound_list = []\n",
        "  monthly_deposit_list = []\n",
        "\n",
        "  #adding the initial deposit or the 1st month savings to the lists\n",
        "  compound_list.append(monthly_saving)\n",
        "  monthly_deposit_list.append(monthly_saving)\n",
        "\n",
        "  for i in range(1, num_months_saving):\n",
        "    Amount = compound_interest(compound_list[i-1], rate, time, num_compounded)\n",
        "    compound_list.append(Amount + monthly_saving)\n",
        "    monthly_deposit_list.append(monthly_saving)\n",
        "\n",
        "  return(compound_list, monthly_deposit_list)"
      ],
      "execution_count": 7,
      "outputs": []
    },
    {
      "cell_type": "code",
      "metadata": {
        "id": "JJMVlFtMS9dg"
      },
      "source": [
        "#storing compound list\n",
        "compound_list = investment_strategy()[0]\n",
        "compound_list"
      ],
      "execution_count": null,
      "outputs": []
    },
    {
      "cell_type": "code",
      "metadata": {
        "colab": {
          "base_uri": "https://localhost:8080/"
        },
        "id": "-CtUlbXBTX52",
        "outputId": "0fee3c2a-1369-4d5d-eb9e-aeedea747b91"
      },
      "source": [
        "#show total return on investment\n",
        "total_return = compound_list[num_months_saving - 1]\n",
        "total_return"
      ],
      "execution_count": 9,
      "outputs": [
        {
          "output_type": "execute_result",
          "data": {
            "text/plain": [
              "133577.3739859352"
            ]
          },
          "metadata": {
            "tags": []
          },
          "execution_count": 9
        }
      ]
    },
    {
      "cell_type": "code",
      "metadata": {
        "colab": {
          "base_uri": "https://localhost:8080/"
        },
        "id": "Sf1dYfE8TnSQ",
        "outputId": "0ebc6270-6f30-4915-b2b6-c4dc10d1c863"
      },
      "source": [
        "#get the list of monthly deposits\n",
        "monthly_deposit_list = investment_strategy()[1]\n",
        "\n",
        "#get the total deposit amount\n",
        "total_deposit = len(monthly_deposit_list) * monthly_saving\n",
        "total_deposit"
      ],
      "execution_count": 10,
      "outputs": [
        {
          "output_type": "execute_result",
          "data": {
            "text/plain": [
              "48000"
            ]
          },
          "metadata": {
            "tags": []
          },
          "execution_count": 10
        }
      ]
    },
    {
      "cell_type": "code",
      "metadata": {
        "colab": {
          "base_uri": "https://localhost:8080/",
          "height": 325
        },
        "id": "4ofbkul9T9fA",
        "outputId": "3da2eb91-1334-4b95-b7b5-590fcc5df527"
      },
      "source": [
        "#visually show the invetments\n",
        "plt.plot(compound_list, label='Comp')\n",
        "plt.plot(monthly_deposit_list, label='Cash')\n",
        "plt.title('Amount gained over time')\n",
        "plt.ylabel('USD Price')\n",
        "plt.xlabel('Months')\n",
        "plt.legend(loc='upper left')\n",
        "plt.show()"
      ],
      "execution_count": 11,
      "outputs": [
        {
          "output_type": "display_data",
          "data": {
            "image/png": "[encoded data removed]",
            "text/plain": [
              "<Figure size 432x288 with 1 Axes>"
            ]
          },
          "metadata": {
            "tags": []
          }
        }
      ]
    }
  ]
}