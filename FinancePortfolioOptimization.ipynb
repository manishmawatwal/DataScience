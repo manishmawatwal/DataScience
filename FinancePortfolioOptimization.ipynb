{
  "nbformat": 4,
  "nbformat_minor": 0,
  "metadata": {
    "colab": {
      "name": "FinancePortfolioOptimization.ipynb",
      "provenance": [],
      "collapsed_sections": [],
      "authorship_tag": "ABX9TyNooJV3SLo8YQTiINwVKOYI",
      "include_colab_link": true
    },
    "kernelspec": {
      "name": "python3",
      "display_name": "Python 3"
    },
    "language_info": {
      "name": "python"
    }
  },
  "cells": [
    {
      "cell_type": "markdown",
      "metadata": {
        "id": "view-in-github",
        "colab_type": "text"
      },
      "source": [
        "<a href=\"https://colab.research.google.com/github/manishmawatwal/DataScience/blob/main/FinancePortfolioOptimization.ipynb\" target=\"_parent\"><img src=\"https://colab.research.google.com/assets/colab-badge.svg\" alt=\"Open In Colab\"/></a>"
      ]
    },
    {
      "cell_type": "code",
      "metadata": {
        "id": "cewJshEDRFb-"
      },
      "source": [
        "#Description: This program attempts to optimize a users portfolio using Efficient Frontier"
      ],
      "execution_count": 185,
      "outputs": []
    },
    {
      "cell_type": "code",
      "metadata": {
        "id": "6WG8eUiej6vo"
      },
      "source": [
        "#import python libraries\n",
        "from pandas_datareader import data as web\n",
        "import pandas as pd\n",
        "import numpy as np\n",
        "import requests\n",
        "from datetime import datetime\n",
        "import matplotlib.pyplot as plt\n",
        "plt.style.use('fivethirtyeight')"
      ],
      "execution_count": 186,
      "outputs": []
    },
    {
      "cell_type": "code",
      "metadata": {
        "id": "69Zb9cQgAmG_"
      },
      "source": [
        "'''\n",
        "#load the data\n",
        "from google.colab import files\n",
        "files.upload()\n",
        "#store the data and print\n",
        "df = pd.read_csv('NYSE_Close.csv')\n",
        "#set the date as index\n",
        "df = df.set_index(pd.DatetimeIndex(df['Date'].values))\n",
        "#remove the date column\n",
        "df.drop(columns=['Date'], axis = 1, inplace = True)\n",
        "df\n",
        "#get the tickers\n",
        "assets = df.columns\n",
        "'''"
      ],
      "execution_count": null,
      "outputs": []
    },
    {
      "cell_type": "code",
      "metadata": {
        "id": "K2ipu5_GkQXM"
      },
      "source": [
        "#get stock symbol/tickers in the portfolio\n",
        "#FAANG\n",
        "assets = ['FB', 'AMZN', 'AAPL', 'NFLX', 'GOOG', 'TSLA']"
      ],
      "execution_count": 188,
      "outputs": []
    },
    {
      "cell_type": "code",
      "metadata": {
        "id": "3t3nqHPLkjC6"
      },
      "source": [
        "#Assign weights to the stocks\n",
        "weights = np.array([0.2, 0.2, 0.2, 0.2, 0.2, 0.2])"
      ],
      "execution_count": 189,
      "outputs": []
    },
    {
      "cell_type": "code",
      "metadata": {
        "id": "90q_-QgYkzsu"
      },
      "source": [
        "#get the stock/portfolio starting date\n",
        "stockStartDate = '2013-01-01'"
      ],
      "execution_count": 190,
      "outputs": []
    },
    {
      "cell_type": "code",
      "metadata": {
        "colab": {
          "base_uri": "https://localhost:8080/",
          "height": 36
        },
        "id": "RUE8hUumlIVv",
        "outputId": "f9d9ab58-8ef4-463e-d898-c38571a48e86"
      },
      "source": [
        "#get the ending date\n",
        "today = datetime.today().strftime('%Y-%m-%d')\n",
        "today"
      ],
      "execution_count": 191,
      "outputs": [
        {
          "output_type": "execute_result",
          "data": {
            "application/vnd.google.colaboratory.intrinsic+json": {
              "type": "string"
            },
            "text/plain": [
              "'2021-05-09'"
            ]
          },
          "metadata": {
            "tags": []
          },
          "execution_count": 191
        }
      ]
    },
    {
      "cell_type": "code",
      "metadata": {
        "id": "6XWFeJ3dlTQb"
      },
      "source": [
        "#create a dataframe to store the adjusted close price of the stocks\n",
        "df = pd.DataFrame()"
      ],
      "execution_count": 192,
      "outputs": []
    },
    {
      "cell_type": "code",
      "metadata": {
        "id": "LVFYA0y4lfIC"
      },
      "source": [
        "#store the adjusted close price of the stock into the df\n",
        "for stock in assets:\n",
        "  df[stock] = web.DataReader(stock, data_source='yahoo', start=stockStartDate, end=today)['Adj Close']"
      ],
      "execution_count": 193,
      "outputs": []
    },
    {
      "cell_type": "code",
      "metadata": {
        "id": "RQvP5tiVl-pR"
      },
      "source": [
        "#show the df\n",
        "df"
      ],
      "execution_count": null,
      "outputs": []
    },
    {
      "cell_type": "code",
      "metadata": {
        "colab": {
          "base_uri": "https://localhost:8080/",
          "height": 325
        },
        "id": "lgUF0mZ4mEe_",
        "outputId": "0e8e0d87-b976-4fb7-f189-4504fb41d05a"
      },
      "source": [
        "#visually show the stock/portfolio\n",
        "title = 'Portfolio Adj Close Price History'\n",
        "\n",
        "#get the stocks\n",
        "my_stocks = df\n",
        "\n",
        "#create and plot the graph\n",
        "for c in my_stocks.columns.values:\n",
        "  plt.plot(my_stocks[c], label = c)\n",
        "\n",
        "plt.title(title)\n",
        "plt.xlabel('Date', fontsize = 18)\n",
        "plt.ylabel('Adj. Price USD ($)', fontsize = 18)\n",
        "plt.legend(my_stocks.columns.values, loc = 'upper left')\n",
        "plt.show()"
      ],
      "execution_count": 195,
      "outputs": [
        {
          "output_type": "display_data",
          "data": {
            "image/png": "[encoded data removed]",
            "text/plain": [
              "<Figure size 432x288 with 1 Axes>"
            ]
          },
          "metadata": {
            "tags": []
          }
        }
      ]
    },
    {
      "cell_type": "code",
      "metadata": {
        "id": "pHpTXjgoAQIO"
      },
      "source": [
        "#show the daily simple return\n",
        "returns = df.pct_change()\n",
        "returns"
      ],
      "execution_count": null,
      "outputs": []
    },
    {
      "cell_type": "code",
      "metadata": {
        "colab": {
          "base_uri": "https://localhost:8080/",
          "height": 237
        },
        "id": "yrQcDAUtAr2O",
        "outputId": "0b5bb304-e7d9-4c88-e865-367fd058356c"
      },
      "source": [
        "#create and show the annualized covariance matrix\n",
        "cov_matrix_annual = returns.cov() * 252\n",
        "cov_matrix_annual"
      ],
      "execution_count": 197,
      "outputs": [
        {
          "output_type": "execute_result",
          "data": {
            "text/html": [
              "<div>\n",
              "<style scoped>\n",
              "    .dataframe tbody tr th:only-of-type {\n",
              "        vertical-align: middle;\n",
              "    }\n",
              "\n",
              "    .dataframe tbody tr th {\n",
              "        vertical-align: top;\n",
              "    }\n",
              "\n",
              "    .dataframe thead th {\n",
              "        text-align: right;\n",
              "    }\n",
              "</style>\n",
              "<table border=\"1\" class=\"dataframe\">\n",
              "  <thead>\n",
              "    <tr style=\"text-align: right;\">\n",
              "      <th></th>\n",
              "      <th>FB</th>\n",
              "      <th>AMZN</th>\n",
              "      <th>AAPL</th>\n",
              "      <th>NFLX</th>\n",
              "      <th>GOOG</th>\n",
              "      <th>TSLA</th>\n",
              "    </tr>\n",
              "  </thead>\n",
              "  <tbody>\n",
              "    <tr>\n",
              "      <th>FB</th>\n",
              "      <td>0.118200</td>\n",
              "      <td>0.055077</td>\n",
              "      <td>0.045418</td>\n",
              "      <td>0.057034</td>\n",
              "      <td>0.050766</td>\n",
              "      <td>0.058794</td>\n",
              "    </tr>\n",
              "    <tr>\n",
              "      <th>AMZN</th>\n",
              "      <td>0.055077</td>\n",
              "      <td>0.092854</td>\n",
              "      <td>0.040361</td>\n",
              "      <td>0.063633</td>\n",
              "      <td>0.047601</td>\n",
              "      <td>0.058011</td>\n",
              "    </tr>\n",
              "    <tr>\n",
              "      <th>AAPL</th>\n",
              "      <td>0.045418</td>\n",
              "      <td>0.040361</td>\n",
              "      <td>0.082191</td>\n",
              "      <td>0.036095</td>\n",
              "      <td>0.038826</td>\n",
              "      <td>0.052503</td>\n",
              "    </tr>\n",
              "    <tr>\n",
              "      <th>NFLX</th>\n",
              "      <td>0.057034</td>\n",
              "      <td>0.063633</td>\n",
              "      <td>0.036095</td>\n",
              "      <td>0.209936</td>\n",
              "      <td>0.049399</td>\n",
              "      <td>0.074282</td>\n",
              "    </tr>\n",
              "    <tr>\n",
              "      <th>GOOG</th>\n",
              "      <td>0.050766</td>\n",
              "      <td>0.047601</td>\n",
              "      <td>0.038826</td>\n",
              "      <td>0.049399</td>\n",
              "      <td>0.066768</td>\n",
              "      <td>0.047662</td>\n",
              "    </tr>\n",
              "    <tr>\n",
              "      <th>TSLA</th>\n",
              "      <td>0.058794</td>\n",
              "      <td>0.058011</td>\n",
              "      <td>0.052503</td>\n",
              "      <td>0.074282</td>\n",
              "      <td>0.047662</td>\n",
              "      <td>0.320697</td>\n",
              "    </tr>\n",
              "  </tbody>\n",
              "</table>\n",
              "</div>"
            ],
            "text/plain": [
              "            FB      AMZN      AAPL      NFLX      GOOG      TSLA\n",
              "FB    0.118200  0.055077  0.045418  0.057034  0.050766  0.058794\n",
              "AMZN  0.055077  0.092854  0.040361  0.063633  0.047601  0.058011\n",
              "AAPL  0.045418  0.040361  0.082191  0.036095  0.038826  0.052503\n",
              "NFLX  0.057034  0.063633  0.036095  0.209936  0.049399  0.074282\n",
              "GOOG  0.050766  0.047601  0.038826  0.049399  0.066768  0.047662\n",
              "TSLA  0.058794  0.058011  0.052503  0.074282  0.047662  0.320697"
            ]
          },
          "metadata": {
            "tags": []
          },
          "execution_count": 197
        }
      ]
    },
    {
      "cell_type": "code",
      "metadata": {
        "colab": {
          "base_uri": "https://localhost:8080/"
        },
        "id": "HKO-vQPNGl4K",
        "outputId": "86fbe2fd-a2c3-4e3f-a02e-490e91ce1fe7"
      },
      "source": [
        "#Calculate the portfolio variance\n",
        "port_variance = np.dot(weights.T, np.dot(cov_matrix_annual, weights))\n",
        "port_variance"
      ],
      "execution_count": 198,
      "outputs": [
        {
          "output_type": "execute_result",
          "data": {
            "text/plain": [
              "0.09766275061203177"
            ]
          },
          "metadata": {
            "tags": []
          },
          "execution_count": 198
        }
      ]
    },
    {
      "cell_type": "code",
      "metadata": {
        "colab": {
          "base_uri": "https://localhost:8080/"
        },
        "id": "kHPj4ED2G_xk",
        "outputId": "3c86a663-71c0-4f27-9801-4c7cccbcc9b2"
      },
      "source": [
        "#calulate the portfolio volatility aka standard deviation\n",
        "port_volatility = np.sqrt(port_variance)\n",
        "port_volatility"
      ],
      "execution_count": 199,
      "outputs": [
        {
          "output_type": "execute_result",
          "data": {
            "text/plain": [
              "0.312510400806168"
            ]
          },
          "metadata": {
            "tags": []
          },
          "execution_count": 199
        }
      ]
    },
    {
      "cell_type": "code",
      "metadata": {
        "colab": {
          "base_uri": "https://localhost:8080/"
        },
        "id": "SC6SsmpeHQ8g",
        "outputId": "07013491-06a7-4cab-f407-300f10252a2d"
      },
      "source": [
        "#calculate annual portfolio return\n",
        "portfolioSimpleAnnualReturn = np.sum(returns.mean() * weights) * 252\n",
        "portfolioSimpleAnnualReturn"
      ],
      "execution_count": 200,
      "outputs": [
        {
          "output_type": "execute_result",
          "data": {
            "text/plain": [
              "0.49865050220896523"
            ]
          },
          "metadata": {
            "tags": []
          },
          "execution_count": 200
        }
      ]
    },
    {
      "cell_type": "code",
      "metadata": {
        "colab": {
          "base_uri": "https://localhost:8080/"
        },
        "id": "IGkp4TlHwMOv",
        "outputId": "d498a351-4f7c-451c-ff28-0d74f112810a"
      },
      "source": [
        "#show the expected annual return, volatility (risk), and variance\n",
        "percent_var = str(round(port_variance, 2) * 100) + '%'\n",
        "percent_vols = str(round(port_volatility, 2) * 100) + '%'\n",
        "percent_ret = str(round(portfolioSimpleAnnualReturn, 2) * 100) + '%'\n",
        "\n",
        "print('Expected annual return: ' + percent_ret)\n",
        "print('Annual volatility/risks:' + percent_vols)\n",
        "print('Annual variance' + percent_var)"
      ],
      "execution_count": 201,
      "outputs": [
        {
          "output_type": "stream",
          "text": [
            "Expected annual return: 50.0%\n",
            "Annual volatility/risks:31.0%\n",
            "Annual variance10.0%\n"
          ],
          "name": "stdout"
        }
      ]
    },
    {
      "cell_type": "code",
      "metadata": {
        "id": "eWbNCxLnxMoA"
      },
      "source": [
        "#install the below package\n",
        "#pip install PyPortfolioOpt"
      ],
      "execution_count": 202,
      "outputs": []
    },
    {
      "cell_type": "code",
      "metadata": {
        "id": "FfiIQg3ExbMY"
      },
      "source": [
        "from pypfopt.efficient_frontier import EfficientFrontier\n",
        "from pypfopt import risk_models\n",
        "from pypfopt import expected_returns"
      ],
      "execution_count": 203,
      "outputs": []
    },
    {
      "cell_type": "code",
      "metadata": {
        "colab": {
          "base_uri": "https://localhost:8080/"
        },
        "id": "bNxNs8hJx-jt",
        "outputId": "9a6c4c27-4356-45a5-8021-e070032816ec"
      },
      "source": [
        "#Porfolio Optimization\n",
        "#Calculate the expected returns and the annualised sample covariance matrix of asset returns\n",
        "mu = expected_returns.mean_historical_return(df)\n",
        "s = risk_models.sample_cov(df)\n",
        "\n",
        "#create Efficient Frontier Object\n",
        "#optimize for max sharpe ratio\n",
        "ef = EfficientFrontier(mu, s)\n",
        "weights = ef.max_sharpe()\n",
        "cleaned_weights = ef.clean_weights()\n",
        "print(cleaned_weights)\n",
        "ef.portfolio_performance(verbose = True)"
      ],
      "execution_count": 204,
      "outputs": [
        {
          "output_type": "stream",
          "text": [
            "OrderedDict([('FB', 0.08979), ('AMZN', 0.22296), ('AAPL', 0.14187), ('NFLX', 0.26582), ('GOOG', 0.0), ('TSLA', 0.27956)])\n",
            "Expected annual return: 49.8%\n",
            "Annual volatility: 30.2%\n",
            "Sharpe Ratio: 1.58\n"
          ],
          "name": "stdout"
        },
        {
          "output_type": "execute_result",
          "data": {
            "text/plain": [
              "(0.4984100731885987, 0.30234441229193, 1.582334760421065)"
            ]
          },
          "metadata": {
            "tags": []
          },
          "execution_count": 204
        }
      ]
    },
    {
      "cell_type": "code",
      "metadata": {
        "id": "radw2F16CA9e"
      },
      "source": [
        "#install the below package\n",
        "#pip install pulp"
      ],
      "execution_count": 205,
      "outputs": []
    },
    {
      "cell_type": "code",
      "metadata": {
        "colab": {
          "base_uri": "https://localhost:8080/"
        },
        "id": "P0ng6c-JzF3W",
        "outputId": "fd854310-b328-47ea-a951-1439fabdf516"
      },
      "source": [
        "#get the discrete allocation of each share per stock\n",
        "from pypfopt.discrete_allocation import DiscreteAllocation, get_latest_prices\n",
        "total_portfolio_value = 5000\n",
        "latest_prices = get_latest_prices(df)\n",
        "weights = cleaned_weights\n",
        "da = DiscreteAllocation(weights, latest_prices, total_portfolio_value)\n",
        "\n",
        "allocation , leftover = da.lp_portfolio()\n",
        "print('Discrete allocation:', allocation)\n",
        "print('Funds remaining: ${:.2f}'.format(leftover))"
      ],
      "execution_count": 206,
      "outputs": [
        {
          "output_type": "stream",
          "text": [
            "Discrete allocation: {'FB': 2, 'AAPL': 6, 'NFLX': 3, 'TSLA': 3}\n",
            "Funds remaining: $51.95\n"
          ],
          "name": "stdout"
        }
      ]
    },
    {
      "cell_type": "code",
      "metadata": {
        "id": "kRanQ39E8V5c"
      },
      "source": [
        "#create a function to get the companies name\n",
        "def get_company_name(symbol):\n",
        "  url = 'http://d.yimg.com/autoc.finance.yahoo.com/autoc?query='+symbol+'&region=1&lang=en'\n",
        "  result = requests.get(url).json()\n",
        "  for r in result['ResultSet']['Result']:\n",
        "    if r['symbol'] == symbol:\n",
        "      return r['name']"
      ],
      "execution_count": 207,
      "outputs": []
    },
    {
      "cell_type": "code",
      "metadata": {
        "id": "3bEZVOCU-Th3"
      },
      "source": [
        "#store the company name into a list\n",
        "company_name = []\n",
        "for symbol in allocation:\n",
        "  company_name.append(get_company_name(symbol))"
      ],
      "execution_count": 208,
      "outputs": []
    },
    {
      "cell_type": "code",
      "metadata": {
        "id": "5tyZkw_W-nSu"
      },
      "source": [
        "#get the discrete allocation values\n",
        "discrete_allocation_list = []\n",
        "for symbol in allocation:\n",
        "  discrete_allocation_list.append(allocation.get(symbol))"
      ],
      "execution_count": 209,
      "outputs": []
    },
    {
      "cell_type": "code",
      "metadata": {
        "id": "Pe7-d_0F-291"
      },
      "source": [
        "#create a dataframe for the portfolio\n",
        "portfolio_df = pd.DataFrame(columns = ['Company_name', 'Company_Ticker', 'Discrete_val_'+str(total_portfolio_value)])"
      ],
      "execution_count": 210,
      "outputs": []
    },
    {
      "cell_type": "code",
      "metadata": {
        "colab": {
          "base_uri": "https://localhost:8080/",
          "height": 175
        },
        "id": "WhvlFej4_Q42",
        "outputId": "00ac339c-e3ff-45da-fa20-bdc2ea8deb8b"
      },
      "source": [
        "portfolio_df['Company_name'] = company_name\n",
        "portfolio_df['Company_Ticker'] = allocation\n",
        "portfolio_df['Discrete_val_'+str(total_portfolio_value)] = discrete_allocation_list \n",
        "#show the portfolio\n",
        "portfolio_df"
      ],
      "execution_count": 211,
      "outputs": [
        {
          "output_type": "execute_result",
          "data": {
            "text/html": [
              "<div>\n",
              "<style scoped>\n",
              "    .dataframe tbody tr th:only-of-type {\n",
              "        vertical-align: middle;\n",
              "    }\n",
              "\n",
              "    .dataframe tbody tr th {\n",
              "        vertical-align: top;\n",
              "    }\n",
              "\n",
              "    .dataframe thead th {\n",
              "        text-align: right;\n",
              "    }\n",
              "</style>\n",
              "<table border=\"1\" class=\"dataframe\">\n",
              "  <thead>\n",
              "    <tr style=\"text-align: right;\">\n",
              "      <th></th>\n",
              "      <th>Company_name</th>\n",
              "      <th>Company_Ticker</th>\n",
              "      <th>Discrete_val_5000</th>\n",
              "    </tr>\n",
              "  </thead>\n",
              "  <tbody>\n",
              "    <tr>\n",
              "      <th>0</th>\n",
              "      <td>Facebook, Inc.</td>\n",
              "      <td>FB</td>\n",
              "      <td>2</td>\n",
              "    </tr>\n",
              "    <tr>\n",
              "      <th>1</th>\n",
              "      <td>Apple Inc.</td>\n",
              "      <td>AAPL</td>\n",
              "      <td>6</td>\n",
              "    </tr>\n",
              "    <tr>\n",
              "      <th>2</th>\n",
              "      <td>Netflix, Inc.</td>\n",
              "      <td>NFLX</td>\n",
              "      <td>3</td>\n",
              "    </tr>\n",
              "    <tr>\n",
              "      <th>3</th>\n",
              "      <td>Tesla, Inc.</td>\n",
              "      <td>TSLA</td>\n",
              "      <td>3</td>\n",
              "    </tr>\n",
              "  </tbody>\n",
              "</table>\n",
              "</div>"
            ],
            "text/plain": [
              "     Company_name Company_Ticker  Discrete_val_5000\n",
              "0  Facebook, Inc.             FB                  2\n",
              "1      Apple Inc.           AAPL                  6\n",
              "2   Netflix, Inc.           NFLX                  3\n",
              "3     Tesla, Inc.           TSLA                  3"
            ]
          },
          "metadata": {
            "tags": []
          },
          "execution_count": 211
        }
      ]
    }
  ]
}