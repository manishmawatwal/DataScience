{
  "nbformat": 4,
  "nbformat_minor": 0,
  "metadata": {
    "colab": {
      "name": "Object Oriented Programming in Python.ipynb",
      "provenance": [],
      "collapsed_sections": [],
      "authorship_tag": "ABX9TyPUUGXQwi5fstAvBqNAr83d",
      "include_colab_link": true
    },
    "kernelspec": {
      "name": "python3",
      "display_name": "Python 3"
    },
    "language_info": {
      "name": "python"
    }
  },
  "cells": [
    {
      "cell_type": "markdown",
      "metadata": {
        "id": "view-in-github",
        "colab_type": "text"
      },
      "source": [
        "<a href=\"https://colab.research.google.com/github/manishmawatwal/DataScience/blob/main/Object_Oriented_Programming_in_Python.ipynb\" target=\"_parent\"><img src=\"https://colab.research.google.com/assets/colab-badge.svg\" alt=\"Open In Colab\"/></a>"
      ]
    },
    {
      "cell_type": "markdown",
      "metadata": {
        "id": "FNvhUFv_oKkN"
      },
      "source": [
        "Object Oriented Programming in Python"
      ]
    },
    {
      "cell_type": "code",
      "metadata": {
        "colab": {
          "base_uri": "https://localhost:8080/"
        },
        "id": "LtWdf3B5zHqY",
        "outputId": "f36a8530-3936-4d19-e987-3e1302798748"
      },
      "source": [
        "def hello():\n",
        "    print(\"hello\")\n",
        "\n",
        "x = 1\n",
        "y = \"hello\"\n",
        "print(type(hello), type(x), type(y))\n",
        "print(y.upper())"
      ],
      "execution_count": 3,
      "outputs": [
        {
          "output_type": "stream",
          "text": [
            "<class 'function'> <class 'int'> <class 'str'>\n",
            "HELLO\n"
          ],
          "name": "stdout"
        }
      ]
    },
    {
      "cell_type": "code",
      "metadata": {
        "colab": {
          "base_uri": "https://localhost:8080/"
        },
        "id": "BjvgjsAlrdZN",
        "outputId": "c1bdcf11-44c7-4449-d8be-360f8b8367e6"
      },
      "source": [
        "class Dog:\n",
        "    def __init__(self, name, age):\n",
        "        self.name = name\n",
        "        self.age = age\n",
        "        print(name)\n",
        "    \n",
        "    def get_name(self):\n",
        "        return self.name\n",
        "\n",
        "    def get_age(self):\n",
        "        return self.age\n",
        "    \n",
        "    def set_age(self, age):\n",
        "        self.age = age\n",
        "\n",
        "    def add_one(self, x):\n",
        "        return x+1\n",
        "         \n",
        "    def bark(self):\n",
        "        print('bark')\n",
        "\n",
        "d1 = Dog(\"Tim\", 34)\n",
        "print(d1.get_name())\n",
        "d1.set_age(23)\n",
        "print(d1.get_age())\n",
        "d2 = Dog(\"Bill\", 23)\n",
        "d.bark()\n",
        "print(d.add_one(5))\n",
        "print(type(d))"
      ],
      "execution_count": 10,
      "outputs": [
        {
          "output_type": "stream",
          "text": [
            "Tim\n",
            "Tim\n",
            "23\n",
            "Bill\n",
            "bark\n",
            "6\n",
            "<class '__main__.Dog'>\n"
          ],
          "name": "stdout"
        }
      ]
    },
    {
      "cell_type": "code",
      "metadata": {
        "colab": {
          "base_uri": "https://localhost:8080/"
        },
        "id": "QkWO1woSvwWg",
        "outputId": "88197c29-e0bf-4f3e-bfe6-cdd0c22fb5a9"
      },
      "source": [
        "class Student:\n",
        "    def __init__(self, name, age, grade):\n",
        "        self.name = name\n",
        "        self.age = age\n",
        "        self.grade = grade\n",
        "\n",
        "    def get_grade(self):\n",
        "        return self.grade\n",
        "\n",
        "class Course:\n",
        "    def __init__(self, name, max_students):\n",
        "        self.name = name\n",
        "        self.max_students = max_students\n",
        "        self.students = []\n",
        "    \n",
        "    def add_student(self, student):\n",
        "        if len(self.students) < self.max_students:\n",
        "            self.students.append(student)\n",
        "            return True\n",
        "        return False\n",
        "\n",
        "    def get_average_grade(self):\n",
        "        value = 0\n",
        "        for student in self.students:\n",
        "            value += student.get_grade()\n",
        "        return value/len(self.students)\n",
        "\n",
        "s1 = Student(\"Tim\", 19, 95)\n",
        "s2 = Student(\"Bill\", 19, 75)\n",
        "s3 = Student(\"Jill\", 19, 65)\n",
        "\n",
        "course = Course(\"Science\", 2)\n",
        "course.add_student(s1)\n",
        "course.add_student(s2)\n",
        "print(course.students[0].name)\n",
        "print(course.get_average_grade())"
      ],
      "execution_count": 18,
      "outputs": [
        {
          "output_type": "stream",
          "text": [
            "Tim\n",
            "85.0\n"
          ],
          "name": "stdout"
        }
      ]
    },
    {
      "cell_type": "code",
      "metadata": {
        "colab": {
          "base_uri": "https://localhost:8080/"
        },
        "id": "1n-qAQQ49f1y",
        "outputId": "6fdf9f28-6693-4e11-d91a-ebafae44c956"
      },
      "source": [
        "class Pet:\n",
        "    def __init__(self, name, age):\n",
        "        self.name = name\n",
        "        self.age = age\n",
        "\n",
        "    def show(self):\n",
        "        print(f\"I am {self.name} and I am {self.age} years old\")\n",
        "\n",
        "    def speak(self):\n",
        "        print(\"I don't know what I say\")\n",
        "\n",
        "class Cat(Pet):\n",
        "    def __init__(self, name, age, color):\n",
        "        super().__init__(name, age)\n",
        "        self.color = color\n",
        "\n",
        "    def speak(self):\n",
        "        print(\"Meow\")\n",
        "    \n",
        "    def show(self):\n",
        "        print(f\"I am {self.name} and I am {self.age} years old and I am {self.color}\")\n",
        "\n",
        "class Dog(Pet):\n",
        "    def speak(self):\n",
        "        print(\"Bark\")\n",
        "\n",
        "class Fish(Pet):\n",
        "    pass\n",
        "\n",
        "p = Pet(\"Tim\", 19)\n",
        "p.show()\n",
        "c = Cat(\"Bill\", 34, \"Brown\")\n",
        "c.show()\n",
        "d = Dog(\"Jill\", 25)\n",
        "d.show()\n",
        "f = Fish(\"Bubbles\", 10)\n",
        "\n",
        "p.speak()\n",
        "c.speak()\n",
        "d.speak()\n",
        "f.speak()"
      ],
      "execution_count": 28,
      "outputs": [
        {
          "output_type": "stream",
          "text": [
            "I am Tim and I am 19 years old\n",
            "I am Bill and I am 34 years old and I am Brown\n",
            "I am Jill and I am 25 years old\n",
            "I don't know what I say\n",
            "Meow\n",
            "Bark\n",
            "I don't know what I say\n"
          ],
          "name": "stdout"
        }
      ]
    },
    {
      "cell_type": "code",
      "metadata": {
        "colab": {
          "base_uri": "https://localhost:8080/"
        },
        "id": "RHVl1ztTFeFA",
        "outputId": "4c97c8fa-9bb5-4e1a-db44-81e4253b6b24"
      },
      "source": [
        "class Person:\n",
        "    number_of_people = 0\n",
        "    GRAVITY = -9.8\n",
        "\n",
        "    def __init__(self, name):\n",
        "        self.name = name\n",
        "        Person.add_person()\n",
        "\n",
        "    @classmethod\n",
        "    def number_of_people_(cls):\n",
        "        return cls.number_of_people()\n",
        "    \n",
        "    @classmethod\n",
        "    def add_person(cls):\n",
        "        cls.number_of_people += 1\n",
        "\n",
        "p1 = Person(\"tim\")\n",
        "p2 = Person(\"jill\")\n",
        "print(p1.number_of_people)\n",
        "print(Person.number_of_people)\n",
        "Person.number_of_people = 8\n",
        "print(p2.number_of_people)\n",
        "Person.number_of_people = 9\n",
        "print(p1.number_of_people)"
      ],
      "execution_count": 39,
      "outputs": [
        {
          "output_type": "stream",
          "text": [
            "2\n",
            "2\n",
            "8\n",
            "9\n"
          ],
          "name": "stdout"
        }
      ]
    },
    {
      "cell_type": "code",
      "metadata": {
        "colab": {
          "base_uri": "https://localhost:8080/"
        },
        "id": "rIey1HlCKtV4",
        "outputId": "a9e8c49f-ef24-4b36-c136-29e0165ca262"
      },
      "source": [
        "class Math:\n",
        "    @staticmethod\n",
        "    def add5(x):\n",
        "        return x+5\n",
        "    \n",
        "    @staticmethod\n",
        "    def pr():\n",
        "        print(\"run\")\n",
        "\n",
        "print(Math.add5(5))\n",
        "Math.pr()"
      ],
      "execution_count": 43,
      "outputs": [
        {
          "output_type": "stream",
          "text": [
            "10\n",
            "run\n"
          ],
          "name": "stdout"
        }
      ]
    }
  ]
}