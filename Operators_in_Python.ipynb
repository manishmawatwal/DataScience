{
  "nbformat": 4,
  "nbformat_minor": 0,
  "metadata": {
    "colab": {
      "name": "Operators in Python.ipynb",
      "provenance": [],
      "authorship_tag": "ABX9TyOeYWL8EZVSDMwDkZIE+XoD",
      "include_colab_link": true
    },
    "kernelspec": {
      "name": "python3",
      "display_name": "Python 3"
    },
    "language_info": {
      "name": "python"
    }
  },
  "cells": [
    {
      "cell_type": "markdown",
      "metadata": {
        "id": "view-in-github",
        "colab_type": "text"
      },
      "source": [
        "<a href=\"https://colab.research.google.com/github/manishmawatwal/DataScience/blob/main/Operators_in_Python.ipynb\" target=\"_parent\"><img src=\"https://colab.research.google.com/assets/colab-badge.svg\" alt=\"Open In Colab\"/></a>"
      ]
    },
    {
      "cell_type": "markdown",
      "metadata": {
        "id": "Td34lZo0LxN3"
      },
      "source": [
        "Arithmetic Operators: +, -, *, /, %, **"
      ]
    },
    {
      "cell_type": "code",
      "metadata": {
        "colab": {
          "base_uri": "https://localhost:8080/"
        },
        "id": "7HEIYGdqLwNE",
        "outputId": "d0f55e23-e632-4a1a-95f5-798ebd4b3c0c"
      },
      "source": [
        "x = 10\n",
        "y = 4\n",
        "print(x+y, x-y, x*y, x/y, x%y, x**y, x//y)"
      ],
      "execution_count": 29,
      "outputs": [
        {
          "output_type": "stream",
          "text": [
            "14 6 40 2.5 2 10000 2\n"
          ],
          "name": "stdout"
        }
      ]
    },
    {
      "cell_type": "markdown",
      "metadata": {
        "id": "iWSeM0dEM8N8"
      },
      "source": [
        "Assignment Operators: =, +=, -=, *=, %=, **=, //="
      ]
    },
    {
      "cell_type": "code",
      "metadata": {
        "colab": {
          "base_uri": "https://localhost:8080/"
        },
        "id": "lPWfhayfM-1u",
        "outputId": "a685f932-2a90-4fbf-f570-e15398ad8c36"
      },
      "source": [
        "u,v,w,x,y,z = 1,2,3,4,5,6\n",
        "u *= 7\n",
        "v /= 8\n",
        "w **= 9 \n",
        "y += 4\n",
        "z -= 5\n",
        "print(u, v, w, x, y, z)\n",
        "# do not give space between operators in shorthand assignment"
      ],
      "execution_count": 30,
      "outputs": [
        {
          "output_type": "stream",
          "text": [
            "7 0.25 19683 4 9 1\n"
          ],
          "name": "stdout"
        }
      ]
    },
    {
      "cell_type": "markdown",
      "metadata": {
        "id": "xkS2PK0fOJw6"
      },
      "source": [
        "Comparison Operators: <, >, <=, >=, !=, =="
      ]
    },
    {
      "cell_type": "code",
      "metadata": {
        "colab": {
          "base_uri": "https://localhost:8080/"
        },
        "id": "QlWGyXaoOIev",
        "outputId": "eeb8fc9c-12cb-4a6c-e18b-2babde4a8569"
      },
      "source": [
        "x = 7\n",
        "y = 3\n",
        "print(x != y, x > y, x < y, x == y, x >= y, x <= y)"
      ],
      "execution_count": 31,
      "outputs": [
        {
          "output_type": "stream",
          "text": [
            "True True False False True False\n"
          ],
          "name": "stdout"
        }
      ]
    },
    {
      "cell_type": "markdown",
      "metadata": {
        "id": "BGaOm_uxLmeF"
      },
      "source": [
        "Logical Operators: and, or, not"
      ]
    },
    {
      "cell_type": "code",
      "metadata": {
        "colab": {
          "base_uri": "https://localhost:8080/"
        },
        "id": "ypp2TphnLa8h",
        "outputId": "a656da6c-0b8a-42dc-bc32-d5b097c05e3e"
      },
      "source": [
        "x = 7\n",
        "y = 12\n",
        "print(x > 2 and y < 10, x > 3 or x < 10, not(x > 2))"
      ],
      "execution_count": 32,
      "outputs": [
        {
          "output_type": "stream",
          "text": [
            "False True False\n"
          ],
          "name": "stdout"
        }
      ]
    },
    {
      "cell_type": "markdown",
      "metadata": {
        "id": "8NR05TvGPPQo"
      },
      "source": [
        "Identity Operators: is, is not"
      ]
    },
    {
      "cell_type": "code",
      "metadata": {
        "colab": {
          "base_uri": "https://localhost:8080/"
        },
        "id": "Me708ExzPR6U",
        "outputId": "212fc132-e328-4ddf-fef1-39d83bcd4956"
      },
      "source": [
        "x = 505\n",
        "y = 500 + 5\n",
        "z = [5, 6, 7, 1, 9]\n",
        "w = [5, 6, 7, 1, 9]\n",
        "v = z\n",
        "print(x, y, id(x), id(y), x is y, x is not y, v is z)"
      ],
      "execution_count": 33,
      "outputs": [
        {
          "output_type": "stream",
          "text": [
            "505 505 140527477012848 140527477014000 False True True\n"
          ],
          "name": "stdout"
        }
      ]
    },
    {
      "cell_type": "markdown",
      "metadata": {
        "id": "g5i74D0rWpbt"
      },
      "source": [
        "Membership Operators: in, not in"
      ]
    },
    {
      "cell_type": "code",
      "metadata": {
        "colab": {
          "base_uri": "https://localhost:8080/"
        },
        "id": "aZLh2SWDWtXk",
        "outputId": "472aa120-4728-4c53-93e4-105c5f8b9e50"
      },
      "source": [
        "a = [1, 2, 3, 4, 5]\n",
        "b = [6, 'python', 7, 8]\n",
        "c = {\n",
        "    'a': 'India',\n",
        "    'b': 'USA'\n",
        "}\n",
        "print(5 in a, 55 in a, 4 in b, 'Python' in b, 'a' in c, 'India' in c)\n",
        "# membership operators only work on keys in a dictionary"
      ],
      "execution_count": 34,
      "outputs": [
        {
          "output_type": "stream",
          "text": [
            "True False False False True False\n"
          ],
          "name": "stdout"
        }
      ]
    },
    {
      "cell_type": "markdown",
      "metadata": {
        "id": "_umFkSoCYB5n"
      },
      "source": [
        "Bitwise Operator: &, |, >>, <<"
      ]
    },
    {
      "cell_type": "code",
      "metadata": {
        "colab": {
          "base_uri": "https://localhost:8080/"
        },
        "id": "A4n5IS7fYEP4",
        "outputId": "4501ebd0-8368-4b46-d900-878b151b0688"
      },
      "source": [
        "print(7&2, 10 | 5)"
      ],
      "execution_count": 35,
      "outputs": [
        {
          "output_type": "stream",
          "text": [
            "2 15\n"
          ],
          "name": "stdout"
        }
      ]
    }
  ]
}