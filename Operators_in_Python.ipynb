{
  "nbformat": 4,
  "nbformat_minor": 0,
  "metadata": {
    "colab": {
      "name": "Operators in Python.ipynb",
      "provenance": [],
      "authorship_tag": "ABX9TyN8CmP/AiIN/oCnrdN8XimF",
      "include_colab_link": true
    },
    "kernelspec": {
      "name": "python3",
      "display_name": "Python 3"
    },
    "language_info": {
      "name": "python"
    }
  },
  "cells": [
    {
      "cell_type": "markdown",
      "metadata": {
        "id": "view-in-github",
        "colab_type": "text"
      },
      "source": [
        "<a href=\"https://colab.research.google.com/github/manishmawatwal/DataScience/blob/main/Operators_in_Python.ipynb\" target=\"_parent\"><img src=\"https://colab.research.google.com/assets/colab-badge.svg\" alt=\"Open In Colab\"/></a>"
      ]
    },
    {
      "cell_type": "markdown",
      "metadata": {
        "id": "Td34lZo0LxN3"
      },
      "source": [
        "Arithmetic Operators:"
      ]
    },
    {
      "cell_type": "code",
      "metadata": {
        "colab": {
          "base_uri": "https://localhost:8080/"
        },
        "id": "7HEIYGdqLwNE",
        "outputId": "3d49b459-352c-4e1e-b429-8f58b33ead42"
      },
      "source": [
        "x = 10\n",
        "y = 4\n",
        "print(x+y, x-y, x*y, x/y, x%y, x**y, x//y)"
      ],
      "execution_count": 8,
      "outputs": [
        {
          "output_type": "stream",
          "text": [
            "14 6 40 2.5 2 10000 2\n"
          ],
          "name": "stdout"
        }
      ]
    },
    {
      "cell_type": "markdown",
      "metadata": {
        "id": "iWSeM0dEM8N8"
      },
      "source": [
        "Assignment Operators:"
      ]
    },
    {
      "cell_type": "code",
      "metadata": {
        "colab": {
          "base_uri": "https://localhost:8080/"
        },
        "id": "lPWfhayfM-1u",
        "outputId": "e1e70db0-435e-4ba6-b634-e3c997748edc"
      },
      "source": [
        "u,v,w,x,y,z = 1,2,3,4,5,6\n",
        "u *= 7\n",
        "v /= 8\n",
        "w **= 9 \n",
        "y += 4\n",
        "z -= 5\n",
        "print(u, v, w, x, y, z)\n",
        "# do not give space between operators in shorthand assignment"
      ],
      "execution_count": 13,
      "outputs": [
        {
          "output_type": "stream",
          "text": [
            "7 0.25 19683 4 9 1\n"
          ],
          "name": "stdout"
        }
      ]
    },
    {
      "cell_type": "markdown",
      "metadata": {
        "id": "xkS2PK0fOJw6"
      },
      "source": [
        "Comparison Operators:"
      ]
    },
    {
      "cell_type": "code",
      "metadata": {
        "colab": {
          "base_uri": "https://localhost:8080/"
        },
        "id": "QlWGyXaoOIev",
        "outputId": "a79a9a6c-7899-4876-c7f7-aa5c49d21dcb"
      },
      "source": [
        "x = 7\n",
        "y = 3\n",
        "print(x != y, x > y, x < y, x == y, x >= y, x <= y)"
      ],
      "execution_count": 16,
      "outputs": [
        {
          "output_type": "stream",
          "text": [
            "True True False False True False\n"
          ],
          "name": "stdout"
        }
      ]
    },
    {
      "cell_type": "markdown",
      "metadata": {
        "id": "BGaOm_uxLmeF"
      },
      "source": [
        "Logical Operators: and, or, not"
      ]
    },
    {
      "cell_type": "code",
      "metadata": {
        "colab": {
          "base_uri": "https://localhost:8080/"
        },
        "id": "ypp2TphnLa8h",
        "outputId": "4b4c8dd2-1ebb-4c6a-d8cf-969c923f44ad"
      },
      "source": [
        "x = 7\n",
        "y = 12\n",
        "print(x > 2 and y < 10, x > 3 or x < 10, not(x > 2))"
      ],
      "execution_count": 20,
      "outputs": [
        {
          "output_type": "stream",
          "text": [
            "False True False\n"
          ],
          "name": "stdout"
        }
      ]
    },
    {
      "cell_type": "markdown",
      "metadata": {
        "id": "8NR05TvGPPQo"
      },
      "source": [
        "Identity Operators"
      ]
    },
    {
      "cell_type": "code",
      "metadata": {
        "colab": {
          "base_uri": "https://localhost:8080/"
        },
        "id": "Me708ExzPR6U",
        "outputId": "03a28573-ab21-4941-846f-5715ff90bf55"
      },
      "source": [
        "x = 505\n",
        "y = 500 + 5\n",
        "print(x, y, id(x), id(y), x is y)"
      ],
      "execution_count": 22,
      "outputs": [
        {
          "output_type": "stream",
          "text": [
            "505 505 140527545354416 140527545354608 False\n"
          ],
          "name": "stdout"
        }
      ]
    }
  ]
}