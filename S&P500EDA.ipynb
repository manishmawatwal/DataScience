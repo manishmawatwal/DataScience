{
  "nbformat": 4,
  "nbformat_minor": 0,
  "metadata": {
    "colab": {
      "name": "S&P500EDA.ipynb",
      "provenance": [],
      "collapsed_sections": [],
      "authorship_tag": "ABX9TyNla6GtBBP/rNuvas3CQSN7",
      "include_colab_link": true
    },
    "kernelspec": {
      "name": "python3",
      "display_name": "Python 3"
    },
    "language_info": {
      "name": "python"
    }
  },
  "cells": [
    {
      "cell_type": "markdown",
      "metadata": {
        "id": "view-in-github",
        "colab_type": "text"
      },
      "source": [
        "<a href=\"https://colab.research.google.com/github/manishmawatwal/manishmawatwal/blob/main/S%26P500EDA.ipynb\" target=\"_parent\"><img src=\"https://colab.research.google.com/assets/colab-badge.svg\" alt=\"Open In Colab\"/></a>"
      ]
    },
    {
      "cell_type": "code",
      "metadata": {
        "id": "hID9T_eo5Qy0"
      },
      "source": [
        "import pandas as pd\n",
        "def load_data():\n",
        "  url = 'https://en.wikipedia.org/wiki/List_of_S%26P_500_companies'\n",
        "  html = pd.read_html(url, header = 0)\n",
        "  df = html[0]\n",
        "  return df"
      ],
      "execution_count": null,
      "outputs": []
    },
    {
      "cell_type": "code",
      "metadata": {
        "id": "TxJ8c5Ecb3YL"
      },
      "source": [
        "df = load_data()\n",
        "df"
      ],
      "execution_count": null,
      "outputs": []
    },
    {
      "cell_type": "code",
      "metadata": {
        "id": "_Azz73gydhAD"
      },
      "source": [
        "sector_unique = df['GICS Sector'].unique()\n",
        "sector_unique"
      ],
      "execution_count": null,
      "outputs": []
    },
    {
      "cell_type": "code",
      "metadata": {
        "id": "QIVU6B11d6AK"
      },
      "source": [
        "len(sector_unique)"
      ],
      "execution_count": null,
      "outputs": []
    },
    {
      "cell_type": "code",
      "metadata": {
        "id": "4cuE2BGDeCGZ"
      },
      "source": [
        "sector = df.groupby('GICS Sector')"
      ],
      "execution_count": null,
      "outputs": []
    },
    {
      "cell_type": "code",
      "metadata": {
        "id": "kQPcL94GeS_b"
      },
      "source": [
        "sector.first()"
      ],
      "execution_count": null,
      "outputs": []
    },
    {
      "cell_type": "code",
      "metadata": {
        "id": "LreLG55zeVgz"
      },
      "source": [
        "sector.describe()"
      ],
      "execution_count": null,
      "outputs": []
    },
    {
      "cell_type": "code",
      "metadata": {
        "id": "e8EBrOB-edMI"
      },
      "source": [
        "sector.get_group('Health Care')"
      ],
      "execution_count": null,
      "outputs": []
    },
    {
      "cell_type": "code",
      "metadata": {
        "id": "rsC_5Tp8eiCF"
      },
      "source": [
        "import yfinance as yf"
      ],
      "execution_count": null,
      "outputs": []
    },
    {
      "cell_type": "code",
      "metadata": {
        "id": "88OEJpOQex15"
      },
      "source": [
        "list(df.Symbol)"
      ],
      "execution_count": null,
      "outputs": []
    },
    {
      "cell_type": "code",
      "metadata": {
        "id": "bBDYWNGxfiXb"
      },
      "source": [
        "data = yf.download(  # or pdr.get_data_yahoo(...\n",
        "        # tickers list or string as well\n",
        "        tickers = list(df.Symbol),\n",
        "\n",
        "        # use \"period\" instead of start/end\n",
        "        # valid periods: 1d,5d,1mo,3mo,6mo,1y,2y,5y,10y,ytd,max\n",
        "        # (optional, default is '1mo')\n",
        "        period = \"ytd\",\n",
        "\n",
        "        # fetch data by interval (including intraday if period < 60 days)\n",
        "        # valid intervals: 1m,2m,5m,15m,30m,60m,90m,1h,1d,5d,1wk,1mo,3mo\n",
        "        # (optional, default is '1d')\n",
        "        interval = \"1d\",\n",
        "\n",
        "        # group by ticker (to access via data['SPY'])\n",
        "        # (optional, default is 'column')\n",
        "        group_by = 'ticker',\n",
        "\n",
        "        # adjust all OHLC automatically\n",
        "        # (optional, default is False)\n",
        "        auto_adjust = True,\n",
        "        \n",
        "        # download pre/post regular market hours data\n",
        "        # (optional, default is False)\n",
        "        prepost = True,\n",
        "\n",
        "        # use threads for mass downloading? (True/False/Integer)\n",
        "        # (optional, default is True)\n",
        "        threads = True,\n",
        "\n",
        "        # proxy URL scheme use use when downloading?\n",
        "        # (optional, default is None)\n",
        "        proxy = None\n",
        ")"
      ],
      "execution_count": null,
      "outputs": []
    },
    {
      "cell_type": "code",
      "metadata": {
        "id": "WFnFxte4gZZD"
      },
      "source": [
        "data"
      ],
      "execution_count": null,
      "outputs": []
    },
    {
      "cell_type": "code",
      "metadata": {
        "id": "xa3x3S0ng5bD"
      },
      "source": [
        "data['AAPL']"
      ],
      "execution_count": null,
      "outputs": []
    },
    {
      "cell_type": "code",
      "metadata": {
        "id": "fWEFiYz0g_Tm"
      },
      "source": [
        "df2 = pd.DataFrame(data['AAPL'].Close)\n",
        "df2['Date'] = df2.index\n",
        "df2"
      ],
      "execution_count": null,
      "outputs": []
    },
    {
      "cell_type": "code",
      "metadata": {
        "id": "StcZaCnGhT84"
      },
      "source": [
        "import matplotlib.pyplot as plt\n",
        "def price_plot(symbol):\n",
        "  df = pd.DataFrame(data[symbol].Close)\n",
        "  df['Date'] = df.index\n",
        "  plt.fill_between(df2.Date, df2.Close, color=\"skyblue\", alpha=0.3)\n",
        "  plt.plot(df2.Date, df2.Close, color=\"skyblue\", alpha=0.8)\n",
        "  plt.xticks(rotation=90)\n",
        "  plt.title(symbol, fontweight='bold')\n",
        "  plt.xlabel(\"Date\", fontweight='bold')\n",
        "  plt.ylabel(\"Closing Price\", fontweight='bold')\n",
        "  return plt.show()"
      ],
      "execution_count": null,
      "outputs": []
    },
    {
      "cell_type": "code",
      "metadata": {
        "id": "H0eYMq5TiGGl"
      },
      "source": [
        "for i in list(df.Symbol)[:10]:\n",
        "  price_plot(i)"
      ],
      "execution_count": null,
      "outputs": []
    },
    {
      "cell_type": "code",
      "metadata": {
        "id": "WPe4xs8RjI87"
      },
      "source": [
        ""
      ],
      "execution_count": null,
      "outputs": []
    }
  ]
}