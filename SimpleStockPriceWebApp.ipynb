{
  "nbformat": 4,
  "nbformat_minor": 0,
  "metadata": {
    "colab": {
      "name": "SimpleStockPriceWebApp.ipynb",
      "provenance": [],
      "authorship_tag": "ABX9TyPb3dwgKRW2oK+pxzwFvUQI",
      "include_colab_link": true
    },
    "kernelspec": {
      "name": "python3",
      "display_name": "Python 3"
    },
    "language_info": {
      "name": "python"
    }
  },
  "cells": [
    {
      "cell_type": "markdown",
      "metadata": {
        "id": "view-in-github",
        "colab_type": "text"
      },
      "source": [
        "<a href=\"https://colab.research.google.com/github/manishmawatwal/manishmawatwal/blob/main/SimpleStockPriceWebApp.ipynb\" target=\"_parent\"><img src=\"https://colab.research.google.com/assets/colab-badge.svg\" alt=\"Open In Colab\"/></a>"
      ]
    },
    {
      "cell_type": "code",
      "metadata": {
        "id": "TwGiHPKWj9ve"
      },
      "source": [
        "import yfinance as yf\n",
        "import streamlit as st\n",
        "import pandas as pd"
      ],
      "execution_count": 1,
      "outputs": []
    },
    {
      "cell_type": "code",
      "metadata": {
        "colab": {
          "base_uri": "https://localhost:8080/"
        },
        "id": "m6QAeClKkFCn",
        "outputId": "e5b5f843-cfbc-4bee-8eb3-76f4fdfa1877"
      },
      "source": [
        "st.write(\"\"\" Stock Price App \"\"\")\n",
        "ticker_symbol = 'GOOGL'\n",
        "tickerData = yf.Ticker(ticker_symbol)"
      ],
      "execution_count": 2,
      "outputs": [
        {
          "output_type": "stream",
          "text": [
            "2021-04-14 18:19:30.972 WARNING root: \n",
            "  \u001b[33m\u001b[1mWarning:\u001b[0m to view this Streamlit app on a browser, run it with the following\n",
            "  command:\n",
            "\n",
            "    streamlit run /usr/local/lib/python3.7/dist-packages/ipykernel_launcher.py [ARGUMENTS]\n"
          ],
          "name": "stderr"
        }
      ]
    },
    {
      "cell_type": "code",
      "metadata": {
        "colab": {
          "base_uri": "https://localhost:8080/"
        },
        "id": "SsykLe-QnBQG",
        "outputId": "a5ed3413-2f74-4f03-ea8e-1a5cab69a2b7"
      },
      "source": [
        "tickerDf = tickerData.history(period='1d', start='2010-5-31', end='2020-5-31')"
      ],
      "execution_count": 3,
      "outputs": [
        {
          "output_type": "stream",
          "text": [
            "2021-04-14 18:20:16.845 INFO    numexpr.utils: NumExpr defaulting to 2 threads.\n"
          ],
          "name": "stderr"
        }
      ]
    },
    {
      "cell_type": "code",
      "metadata": {
        "colab": {
          "base_uri": "https://localhost:8080/"
        },
        "id": "o7pMXMimnMen",
        "outputId": "543a7468-bfd2-4649-d8da-500fc36de036"
      },
      "source": [
        "st.line_chart(tickerDf.Close)"
      ],
      "execution_count": 4,
      "outputs": [
        {
          "output_type": "execute_result",
          "data": {
            "text/plain": [
              "DeltaGenerator(_root_container=0, _provided_cursor=None, _parent=None, _block_type=None)"
            ]
          },
          "metadata": {
            "tags": []
          },
          "execution_count": 4
        }
      ]
    },
    {
      "cell_type": "code",
      "metadata": {
        "colab": {
          "base_uri": "https://localhost:8080/"
        },
        "id": "y-1AN1LSnSsa",
        "outputId": "e64cc123-7bcf-4a1a-be9c-76127d02145c"
      },
      "source": [
        "st.line_chart(tickerDf.Volume)"
      ],
      "execution_count": 5,
      "outputs": [
        {
          "output_type": "execute_result",
          "data": {
            "text/plain": [
              "DeltaGenerator(_root_container=0, _provided_cursor=None, _parent=None, _block_type=None)"
            ]
          },
          "metadata": {
            "tags": []
          },
          "execution_count": 5
        }
      ]
    }
  ]
}