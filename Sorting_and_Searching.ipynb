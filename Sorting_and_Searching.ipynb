{
  "nbformat": 4,
  "nbformat_minor": 0,
  "metadata": {
    "colab": {
      "name": "Sorting and Searching.ipynb",
      "provenance": [],
      "authorship_tag": "ABX9TyPBfeRG+U1K+AycwjUR8wVq",
      "include_colab_link": true
    },
    "kernelspec": {
      "name": "python3",
      "display_name": "Python 3"
    },
    "language_info": {
      "name": "python"
    }
  },
  "cells": [
    {
      "cell_type": "markdown",
      "metadata": {
        "id": "view-in-github",
        "colab_type": "text"
      },
      "source": [
        "<a href=\"https://colab.research.google.com/github/manishmawatwal/DataScience/blob/main/Sorting_and_Searching.ipynb\" target=\"_parent\"><img src=\"https://colab.research.google.com/assets/colab-badge.svg\" alt=\"Open In Colab\"/></a>"
      ]
    },
    {
      "cell_type": "markdown",
      "metadata": {
        "id": "C3OHwlPilaDD"
      },
      "source": [
        "QuickSort\n",
        "Worst case - O(n^2)\n",
        "Average case - O(nlog n)"
      ]
    },
    {
      "cell_type": "code",
      "metadata": {
        "colab": {
          "base_uri": "https://localhost:8080/"
        },
        "id": "PTjmp_tQlXsl",
        "outputId": "e6aec909-ca24-4e2c-df96-29a1f5a3e99a"
      },
      "source": [
        "def quick_sort(sequence):\n",
        "  length = len(sequence)\n",
        "  if length <=1:\n",
        "    return sequence\n",
        "  else:\n",
        "    pivot = sequence.pop()\n",
        "\n",
        "  items_greater = []\n",
        "  items_lower = []\n",
        "\n",
        "  for item in sequence:\n",
        "    if item > pivot:\n",
        "      items_greater.append(item)\n",
        "    else:\n",
        "      items_lower.append(item)\n",
        "  return quick_sort(items_lower) + [pivot] + quick_sort(items_greater)\n",
        "  \n",
        "print(quick_sort([5,6,7,8,9,4,2,10]))"
      ],
      "execution_count": 7,
      "outputs": [
        {
          "output_type": "stream",
          "text": [
            "[2, 4, 5, 6, 7, 8, 9, 10]\n"
          ],
          "name": "stdout"
        }
      ]
    },
    {
      "cell_type": "markdown",
      "metadata": {
        "id": "A6inGGDEsAu0"
      },
      "source": [
        "Insertion Sort"
      ]
    },
    {
      "cell_type": "code",
      "metadata": {
        "colab": {
          "base_uri": "https://localhost:8080/"
        },
        "id": "5Oubp2eYsBRi",
        "outputId": "b42729f5-fd44-4198-b24b-7535b3d1402f"
      },
      "source": [
        "def insertion_sort(list):\n",
        "    indexing_length = range(1, len(list))\n",
        "\n",
        "    for i in indexing_length:\n",
        "        value_to_sort = list[i]\n",
        "        while list[i-1] > value_to_sort and i > 0:\n",
        "            list[i], list[i-1] = list[i-1], list[i]\n",
        "            i = i - 1\n",
        "    return list\n",
        "print(insertion_sort([3,5,4,6,2,7]))"
      ],
      "execution_count": 15,
      "outputs": [
        {
          "output_type": "stream",
          "text": [
            "[2, 3, 4, 5, 6, 7]\n"
          ],
          "name": "stdout"
        }
      ]
    },
    {
      "cell_type": "markdown",
      "metadata": {
        "id": "9c54c2znqm4M"
      },
      "source": [
        "Selection Sort"
      ]
    },
    {
      "cell_type": "code",
      "metadata": {
        "colab": {
          "base_uri": "https://localhost:8080/"
        },
        "id": "dEyf_rFlqnVP",
        "outputId": "9eb4fa65-7d4d-4dfa-8a5c-c400952972ec"
      },
      "source": [
        "def selection_sort(list):\n",
        "    indexing_length = range(0, len(list)-1)\n",
        "\n",
        "    for i in indexing_length:\n",
        "        min_value = i\n",
        "        for j in range(i+1, len(list)):\n",
        "            if list[j] < list[min_value]:\n",
        "                min_value = j\n",
        "            if min_value != i:\n",
        "                list[min_value], list[i] = list[i], list[min_value]\n",
        "    return list\n",
        "\n",
        "print(selection_sort([4,3,6,5,7,2]))"
      ],
      "execution_count": 13,
      "outputs": [
        {
          "output_type": "stream",
          "text": [
            "[2, 3, 4, 5, 6, 7]\n"
          ],
          "name": "stdout"
        }
      ]
    },
    {
      "cell_type": "markdown",
      "metadata": {
        "id": "wJoVenQstz9s"
      },
      "source": [
        "Bubble Sort"
      ]
    },
    {
      "cell_type": "code",
      "metadata": {
        "colab": {
          "base_uri": "https://localhost:8080/"
        },
        "id": "aG8kz3AIt0hx",
        "outputId": "8eb53e6a-d9ea-47ac-e810-f645a444dc59"
      },
      "source": [
        "def bubble_sort(list):\n",
        "    indexing_length = len(list) - 1\n",
        "    sorted = False\n",
        "\n",
        "    while not sorted:\n",
        "        sorted = True\n",
        "        for i in range(0, indexing_length):\n",
        "            if list[i] > list[i+1]:\n",
        "                sorted = False\n",
        "                list[i], list[i+1] = list[i+1], list[i]\n",
        "    return list\n",
        "print(bubble_sort([3,5,4,6,2,7]))"
      ],
      "execution_count": 16,
      "outputs": [
        {
          "output_type": "stream",
          "text": [
            "[2, 3, 4, 5, 6, 7]\n"
          ],
          "name": "stdout"
        }
      ]
    },
    {
      "cell_type": "markdown",
      "metadata": {
        "id": "EfAq6BXDoD64"
      },
      "source": [
        "Binary Search Algorithm\n",
        "O(log n) #list has to be sorted"
      ]
    },
    {
      "cell_type": "code",
      "metadata": {
        "colab": {
          "base_uri": "https://localhost:8080/"
        },
        "id": "JG_MErEfoEgG",
        "outputId": "433e8dbd-8e07-4a70-c0bb-7858165581cf"
      },
      "source": [
        "def binary_search(sequence, item):\n",
        "    begin_index = 0\n",
        "    end_index = len(sequence) - 1\n",
        "\n",
        "    while begin_index <= end_index:\n",
        "        midpoint = begin_index + (end_index - begin_index) // 2\n",
        "        midpoint_value = sequence[midpoint]\n",
        "        if midpoint_value == item:\n",
        "            return midpoint\n",
        "        elif item < midpoint_value:\n",
        "            end_index = midpoint - 1\n",
        "        else:\n",
        "            begin_index = midpoint + 1\n",
        "    return None\n",
        "\n",
        "print(binary_search([2,4,5,6,7,8,9,10,11,12,13],10))"
      ],
      "execution_count": 12,
      "outputs": [
        {
          "output_type": "stream",
          "text": [
            "7\n"
          ],
          "name": "stdout"
        }
      ]
    }
  ]
}