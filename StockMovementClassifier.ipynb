{
  "nbformat": 4,
  "nbformat_minor": 0,
  "metadata": {
    "colab": {
      "name": "StockMovementClassifier.ipynb",
      "provenance": [],
      "collapsed_sections": [],
      "authorship_tag": "ABX9TyMRCab3zGiUNwWvohhwc7yG",
      "include_colab_link": true
    },
    "kernelspec": {
      "name": "python3",
      "display_name": "Python 3"
    },
    "language_info": {
      "name": "python"
    }
  },
  "cells": [
    {
      "cell_type": "markdown",
      "metadata": {
        "id": "view-in-github",
        "colab_type": "text"
      },
      "source": [
        "<a href=\"https://colab.research.google.com/github/manishmawatwal/DataScience/blob/main/StockMovementClassifier.ipynb\" target=\"_parent\"><img src=\"https://colab.research.google.com/assets/colab-badge.svg\" alt=\"Open In Colab\"/></a>"
      ]
    },
    {
      "cell_type": "code",
      "metadata": {
        "id": "9YJe-660FuQ_"
      },
      "source": [
        "#Description: Use stock indicators with Machine Learning to predict stock price"
      ],
      "execution_count": 1,
      "outputs": []
    },
    {
      "cell_type": "code",
      "metadata": {
        "id": "B4etLAu2TPsi"
      },
      "source": [
        "#install the below package\n",
        "#pip install sklearn\n",
        "#pip install yfinance\n",
        "#pip install bokeh"
      ],
      "execution_count": 2,
      "outputs": []
    },
    {
      "cell_type": "code",
      "metadata": {
        "id": "ueTKszisF38P"
      },
      "source": [
        "#import libraries\n",
        "import numpy as np\n",
        "import pandas as pd\n",
        "from sklearn.model_selection import train_test_split\n",
        "from sklearn.tree import DecisionTreeClassifier\n",
        "from pandas_datareader import data as web\n",
        "import requests\n",
        "from datetime import datetime\n",
        "import matplotlib.pyplot as plt\n",
        "plt.style.use('fivethirtyeight')\n",
        "import yfinance as yf\n",
        "from bokeh.plotting import figure, show\n",
        "import streamlit as st"
      ],
      "execution_count": null,
      "outputs": []
    },
    {
      "cell_type": "code",
      "metadata": {
        "id": "e0SBFT_DP4Qn"
      },
      "source": [
        "#get stock symbol/tickers in the portfolio\n",
        "assets = ['GOOG']\n",
        "#get the stock/portfolio starting date\n",
        "stockStartDate = '2013-01-01'\n",
        "#get the ending date\n",
        "today = datetime.today().strftime('%Y-%m-%d')\n",
        "#create a dataframe to store the adjusted close price of the stocks\n",
        "df = pd.DataFrame()"
      ],
      "execution_count": null,
      "outputs": []
    },
    {
      "cell_type": "code",
      "metadata": {
        "id": "XkvupOR3QVgh"
      },
      "source": [
        "#store the adjusted close price of the stock into the df and display\n",
        "for stock in assets:\n",
        "  df[stock] = web.DataReader(stock, data_source='yahoo', start=stockStartDate, end=today)['Close']\n",
        "\n",
        "#show the df\n",
        "df"
      ],
      "execution_count": null,
      "outputs": []
    },
    {
      "cell_type": "code",
      "metadata": {
        "id": "pr50-z69WpX4"
      },
      "source": [
        "st.write(\"\"\" Stock Price App \"\"\")\n",
        "ticker_symbol = 'GOOGL'\n",
        "tickerData = yf.Ticker(ticker_symbol)\n",
        "tickerDf = tickerData.history(period='1d', start='2010-5-31', end='2020-5-31')\n",
        "st.line_chart(tickerDf.Close)\n",
        "st.line_chart(tickerDf.Volume)"
      ],
      "execution_count": null,
      "outputs": []
    },
    {
      "cell_type": "code",
      "metadata": {
        "id": "K7lTDmqpL4dU"
      },
      "source": [
        "#Create functions to calculate the Simple Moving Average (SMA) and Exponnetial Moving Average (EMA)\n",
        "#typical time period for moving averages are 15, 20, and 30\n",
        "#create the simple moving average (SMA)\n",
        "def SMA(data, period = 30, column = 'GOOG'):\n",
        "  return data[column].rolling(window = period).mean()\n",
        "\n",
        "#create the exponential moving average (EMA)\n",
        "def EMA(data, period = 20, column = 'GOOG'):\n",
        "  return data[column].ewm(span = period, adjust = False).mean()"
      ],
      "execution_count": null,
      "outputs": []
    },
    {
      "cell_type": "code",
      "metadata": {
        "id": "nDlCITHoL9rh"
      },
      "source": [
        "#create a function to calculate the Moving Average Convergence/Divergence (MACD)\n",
        "def MACD(data, period_long = 26, period_short = 12, period_signal = 9, column = 'GOOG'):\n",
        "  #calculate the short term EMA\n",
        "  ShortEMA = EMA(data, period = period_short, column = column)\n",
        "  #calculate the long term EMA\n",
        "  LongEMA = EMA(data, period = period_long, column = column)\n",
        "  #calculate and store the MACD into the data frame\n",
        "  data['MACD'] = ShortEMA - LongEMA\n",
        "  #calculate the signal line and store it into the data frame\n",
        "  data['Signal_Line'] = EMA(data, period = period_signal, column = 'MACD')\n",
        "\n",
        "  return data"
      ],
      "execution_count": null,
      "outputs": []
    },
    {
      "cell_type": "code",
      "metadata": {
        "id": "YfFPyGM0MBQT"
      },
      "source": [
        "#create a function to calculate Relative Strength Index (RSI)\n",
        "def RSI(data, period = 14, column = 'GOOG'):\n",
        "  delta = data[column].diff(1)\n",
        "  delta = delta.dropna()\n",
        "  up = delta.copy()\n",
        "  down = delta.copy()\n",
        "  up[up < 0] = 0\n",
        "  down[down > 0] = 0\n",
        "  data['up'] = up\n",
        "  data['down'] = down\n",
        "  AVG_Gain = SMA(data, period, column = 'up')\n",
        "  AVG_Loss = abs(SMA(data, period, column = 'down'))\n",
        "  RS = AVG_Gain / AVG_Loss\n",
        "  RSI = 100.0 - (100.0 / (1.0 + RS))\n",
        "\n",
        "  data['RSI'] = RSI\n",
        "  return data"
      ],
      "execution_count": null,
      "outputs": []
    },
    {
      "cell_type": "code",
      "metadata": {
        "id": "g8FbmHQAMEot"
      },
      "source": [
        "#Add the indicators to the data set\n",
        "MACD(df)\n",
        "RSI(df)\n",
        "df['SMA'] = SMA(df)\n",
        "df['EMA'] = EMA(df)\n",
        "# show the data\n",
        "df"
      ],
      "execution_count": null,
      "outputs": []
    },
    {
      "cell_type": "code",
      "metadata": {
        "id": "AwxPwWVwMTSP"
      },
      "source": [
        "#create the Target column\n",
        "#if tommorrow's close price is gonna increase or decrease \n",
        "df['Target'] = np.where(df['GOOG'].shift(-1) > df['GOOG'], 1, 0)\n",
        "#show the data\n",
        "df"
      ],
      "execution_count": null,
      "outputs": []
    },
    {
      "cell_type": "code",
      "metadata": {
        "id": "R-V5Kr25MwHY"
      },
      "source": [
        "#Remove the first 29 days of data since the RSI and SMA have NaN values\n",
        "df = df[29:]\n",
        "#show the data\n",
        "df"
      ],
      "execution_count": null,
      "outputs": []
    },
    {
      "cell_type": "code",
      "metadata": {
        "id": "OJffuqXYNLb-"
      },
      "source": [
        "#split the data set into a feature or independent data set (X) and a Target or dependent data set (Y)\n",
        "keep_columns = ['GOOG', 'MACD', 'Signal_Line', 'RSI', 'SMA', 'EMA']\n",
        "X = df[keep_columns].values\n",
        "Y = df['Target'].values"
      ],
      "execution_count": null,
      "outputs": []
    },
    {
      "cell_type": "code",
      "metadata": {
        "id": "DXY4UetaN7jR"
      },
      "source": [
        "#split the data again but this time into 80% training and 20% testing data set\n",
        "X_train, X_test, Y_train, Y_test = train_test_split(X, Y, test_size = 0.2, random_state = 2)"
      ],
      "execution_count": null,
      "outputs": []
    },
    {
      "cell_type": "code",
      "metadata": {
        "id": "062jycNVOWWb"
      },
      "source": [
        "#create and train the decision tree classifier model\n",
        "tree = DecisionTreeClassifier().fit(X_train, Y_train)"
      ],
      "execution_count": null,
      "outputs": []
    },
    {
      "cell_type": "code",
      "metadata": {
        "id": "tv5w8UwzOlvo"
      },
      "source": [
        "#check how well the model did on the training data set\n",
        "print(tree.score(X_train, Y_train))"
      ],
      "execution_count": null,
      "outputs": []
    },
    {
      "cell_type": "code",
      "metadata": {
        "id": "_u8iC3L1Oxl6"
      },
      "source": [
        "#check how well the model did on the testing data set\n",
        "print(tree.score(X_test, Y_test))"
      ],
      "execution_count": null,
      "outputs": []
    },
    {
      "cell_type": "code",
      "metadata": {
        "id": "HDKpiK7oO8o1"
      },
      "source": [
        "#show the model tree predictions\n",
        "tree_predictions = tree.predict(X_test)\n",
        "print(tree_predictions)"
      ],
      "execution_count": null,
      "outputs": []
    },
    {
      "cell_type": "code",
      "metadata": {
        "id": "c7OYmVsGPJD9"
      },
      "source": [
        "#show the actual values from the test data\n",
        "Y_test"
      ],
      "execution_count": null,
      "outputs": []
    },
    {
      "cell_type": "code",
      "metadata": {
        "id": "Njpm4orQPVJD"
      },
      "source": [
        "#get the model metrics\n",
        "from sklearn.metrics import classification_report\n",
        "print(classification_report(Y_test, tree_predictions))"
      ],
      "execution_count": null,
      "outputs": []
    }
  ]
}