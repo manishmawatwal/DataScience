{
  "nbformat": 4,
  "nbformat_minor": 0,
  "metadata": {
    "colab": {
      "name": "StockMovementClassifier.ipynb",
      "provenance": [],
      "collapsed_sections": [],
      "authorship_tag": "ABX9TyMs2BehRiBPcyRw1ialY4Gx",
      "include_colab_link": true
    },
    "kernelspec": {
      "name": "python3",
      "display_name": "Python 3"
    },
    "language_info": {
      "name": "python"
    }
  },
  "cells": [
    {
      "cell_type": "markdown",
      "metadata": {
        "id": "view-in-github",
        "colab_type": "text"
      },
      "source": [
        "<a href=\"https://colab.research.google.com/github/manishmawatwal/DataScience/blob/main/StockMovementClassifier.ipynb\" target=\"_parent\"><img src=\"https://colab.research.google.com/assets/colab-badge.svg\" alt=\"Open In Colab\"/></a>"
      ]
    },
    {
      "cell_type": "code",
      "metadata": {
        "id": "9YJe-660FuQ_"
      },
      "source": [
        "#Description: Use stock indicators with Machine Learning to predict stock price"
      ],
      "execution_count": 310,
      "outputs": []
    },
    {
      "cell_type": "code",
      "metadata": {
        "id": "B4etLAu2TPsi"
      },
      "source": [
        "#install the below package\n",
        "#pip install sklearn"
      ],
      "execution_count": 311,
      "outputs": []
    },
    {
      "cell_type": "code",
      "metadata": {
        "id": "ueTKszisF38P"
      },
      "source": [
        "#import libraries\n",
        "import numpy as np\n",
        "import pandas as pd\n",
        "from sklearn.model_selection import train_test_split\n",
        "from sklearn.tree import DecisionTreeClassifier\n",
        "from pandas_datareader import data as web\n",
        "import requests\n",
        "from datetime import datetime\n",
        "import matplotlib.pyplot as plt\n",
        "plt.style.use('fivethirtyeight')"
      ],
      "execution_count": 312,
      "outputs": []
    },
    {
      "cell_type": "code",
      "metadata": {
        "id": "e0SBFT_DP4Qn"
      },
      "source": [
        "#get stock symbol/tickers in the portfolio\n",
        "#FAANG\n",
        "assets = ['GOOG']"
      ],
      "execution_count": 313,
      "outputs": []
    },
    {
      "cell_type": "code",
      "metadata": {
        "id": "TrX46X12P_c0"
      },
      "source": [
        "#get the stock/portfolio starting date\n",
        "stockStartDate = '2013-01-01'"
      ],
      "execution_count": 314,
      "outputs": []
    },
    {
      "cell_type": "code",
      "metadata": {
        "colab": {
          "base_uri": "https://localhost:8080/",
          "height": 36
        },
        "id": "E0-KQ08HQB8d",
        "outputId": "a1772504-c4ac-49fc-e29e-0d3fc94789e4"
      },
      "source": [
        "#get the ending date\n",
        "today = datetime.today().strftime('%Y-%m-%d')\n",
        "today"
      ],
      "execution_count": 315,
      "outputs": [
        {
          "output_type": "execute_result",
          "data": {
            "application/vnd.google.colaboratory.intrinsic+json": {
              "type": "string"
            },
            "text/plain": [
              "'2021-05-09'"
            ]
          },
          "metadata": {
            "tags": []
          },
          "execution_count": 315
        }
      ]
    },
    {
      "cell_type": "code",
      "metadata": {
        "id": "MPT9SVCyQD_L"
      },
      "source": [
        "#create a dataframe to store the adjusted close price of the stocks\n",
        "df = pd.DataFrame()"
      ],
      "execution_count": 316,
      "outputs": []
    },
    {
      "cell_type": "code",
      "metadata": {
        "id": "XkvupOR3QVgh"
      },
      "source": [
        "#store the adjusted close price of the stock into the df\n",
        "for stock in assets:\n",
        "  df[stock] = web.DataReader(stock, data_source='yahoo', start=stockStartDate, end=today)['Close']"
      ],
      "execution_count": 317,
      "outputs": []
    },
    {
      "cell_type": "code",
      "metadata": {
        "colab": {
          "base_uri": "https://localhost:8080/",
          "height": 455
        },
        "id": "aPgJxPUPQQVn",
        "outputId": "9c05535a-a2ea-4907-f6e0-7e355fae63ef"
      },
      "source": [
        "#show the df\n",
        "df"
      ],
      "execution_count": 318,
      "outputs": [
        {
          "output_type": "execute_result",
          "data": {
            "text/html": [
              "<div>\n",
              "<style scoped>\n",
              "    .dataframe tbody tr th:only-of-type {\n",
              "        vertical-align: middle;\n",
              "    }\n",
              "\n",
              "    .dataframe tbody tr th {\n",
              "        vertical-align: top;\n",
              "    }\n",
              "\n",
              "    .dataframe thead th {\n",
              "        text-align: right;\n",
              "    }\n",
              "</style>\n",
              "<table border=\"1\" class=\"dataframe\">\n",
              "  <thead>\n",
              "    <tr style=\"text-align: right;\">\n",
              "      <th></th>\n",
              "      <th>GOOG</th>\n",
              "    </tr>\n",
              "    <tr>\n",
              "      <th>Date</th>\n",
              "      <th></th>\n",
              "    </tr>\n",
              "  </thead>\n",
              "  <tbody>\n",
              "    <tr>\n",
              "      <th>2013-01-02</th>\n",
              "      <td>360.274597</td>\n",
              "    </tr>\n",
              "    <tr>\n",
              "      <th>2013-01-03</th>\n",
              "      <td>360.483826</td>\n",
              "    </tr>\n",
              "    <tr>\n",
              "      <th>2013-01-04</th>\n",
              "      <td>367.607117</td>\n",
              "    </tr>\n",
              "    <tr>\n",
              "      <th>2013-01-07</th>\n",
              "      <td>366.003143</td>\n",
              "    </tr>\n",
              "    <tr>\n",
              "      <th>2013-01-08</th>\n",
              "      <td>365.280823</td>\n",
              "    </tr>\n",
              "    <tr>\n",
              "      <th>...</th>\n",
              "      <td>...</td>\n",
              "    </tr>\n",
              "    <tr>\n",
              "      <th>2021-05-03</th>\n",
              "      <td>2395.169922</td>\n",
              "    </tr>\n",
              "    <tr>\n",
              "      <th>2021-05-04</th>\n",
              "      <td>2354.250000</td>\n",
              "    </tr>\n",
              "    <tr>\n",
              "      <th>2021-05-05</th>\n",
              "      <td>2356.739990</td>\n",
              "    </tr>\n",
              "    <tr>\n",
              "      <th>2021-05-06</th>\n",
              "      <td>2381.350098</td>\n",
              "    </tr>\n",
              "    <tr>\n",
              "      <th>2021-05-07</th>\n",
              "      <td>2398.689941</td>\n",
              "    </tr>\n",
              "  </tbody>\n",
              "</table>\n",
              "<p>2102 rows × 1 columns</p>\n",
              "</div>"
            ],
            "text/plain": [
              "                   GOOG\n",
              "Date                   \n",
              "2013-01-02   360.274597\n",
              "2013-01-03   360.483826\n",
              "2013-01-04   367.607117\n",
              "2013-01-07   366.003143\n",
              "2013-01-08   365.280823\n",
              "...                 ...\n",
              "2021-05-03  2395.169922\n",
              "2021-05-04  2354.250000\n",
              "2021-05-05  2356.739990\n",
              "2021-05-06  2381.350098\n",
              "2021-05-07  2398.689941\n",
              "\n",
              "[2102 rows x 1 columns]"
            ]
          },
          "metadata": {
            "tags": []
          },
          "execution_count": 318
        }
      ]
    },
    {
      "cell_type": "code",
      "metadata": {
        "id": "K7lTDmqpL4dU"
      },
      "source": [
        "#Create functions to calculate the Simple Moving Average (SMA) and Exponnetial Moving Average (EMA)\n",
        "#typical time period for moving averages are 15, 20, and 30\n",
        "#create the simple moving average (SMA)\n",
        "def SMA(data, period = 30, column = 'GOOG'):\n",
        "  return data[column].rolling(window = period).mean()\n",
        "\n",
        "#create the exponential moving average (EMA)\n",
        "def EMA(data, period = 20, column = 'GOOG'):\n",
        "  return data[column].ewm(span = period, adjust = False).mean()"
      ],
      "execution_count": 319,
      "outputs": []
    },
    {
      "cell_type": "code",
      "metadata": {
        "id": "nDlCITHoL9rh"
      },
      "source": [
        "#create a function to calculate the Moving Average Convergence/Divergence (MACD)\n",
        "def MACD(data, period_long = 26, period_short = 12, period_signal = 9, column = 'GOOG'):\n",
        "  #calculate the short term EMA\n",
        "  ShortEMA = EMA(data, period = period_short, column = column)\n",
        "  #calculate the long term EMA\n",
        "  LongEMA = EMA(data, period = period_long, column = column)\n",
        "  #calculate and store the MACD into the data frame\n",
        "  data['MACD'] = ShortEMA - LongEMA\n",
        "  #calculate the signal line and store it into the data frame\n",
        "  data['Signal_Line'] = EMA(data, period = period_signal, column = 'MACD')\n",
        "\n",
        "  return data"
      ],
      "execution_count": 320,
      "outputs": []
    },
    {
      "cell_type": "code",
      "metadata": {
        "id": "YfFPyGM0MBQT"
      },
      "source": [
        "#create a function to calculate Relative Strength Index (RSI)\n",
        "def RSI(data, period = 14, column = 'GOOG'):\n",
        "  delta = data[column].diff(1)\n",
        "  delta = delta.dropna()\n",
        "  up = delta.copy()\n",
        "  down = delta.copy()\n",
        "  up[up < 0] = 0\n",
        "  down[down > 0] = 0\n",
        "  data['up'] = up\n",
        "  data['down'] = down\n",
        "  AVG_Gain = SMA(data, period, column = 'up')\n",
        "  AVG_Loss = abs(SMA(data, period, column = 'down'))\n",
        "  RS = AVG_Gain / AVG_Loss\n",
        "  RSI = 100.0 - (100.0 / (1.0 + RS))\n",
        "\n",
        "  data['RSI'] = RSI\n",
        "  return data"
      ],
      "execution_count": 321,
      "outputs": []
    },
    {
      "cell_type": "code",
      "metadata": {
        "colab": {
          "base_uri": "https://localhost:8080/",
          "height": 475
        },
        "id": "g8FbmHQAMEot",
        "outputId": "7ac9aef3-ac63-4371-a615-64f50aa20840"
      },
      "source": [
        "#Add the indicators to the data set\n",
        "MACD(df)\n",
        "RSI(df)\n",
        "df['SMA'] = SMA(df)\n",
        "df['EMA'] = EMA(df)\n",
        "# show the data\n",
        "df"
      ],
      "execution_count": 322,
      "outputs": [
        {
          "output_type": "execute_result",
          "data": {
            "text/html": [
              "<div>\n",
              "<style scoped>\n",
              "    .dataframe tbody tr th:only-of-type {\n",
              "        vertical-align: middle;\n",
              "    }\n",
              "\n",
              "    .dataframe tbody tr th {\n",
              "        vertical-align: top;\n",
              "    }\n",
              "\n",
              "    .dataframe thead th {\n",
              "        text-align: right;\n",
              "    }\n",
              "</style>\n",
              "<table border=\"1\" class=\"dataframe\">\n",
              "  <thead>\n",
              "    <tr style=\"text-align: right;\">\n",
              "      <th></th>\n",
              "      <th>GOOG</th>\n",
              "      <th>MACD</th>\n",
              "      <th>Signal_Line</th>\n",
              "      <th>up</th>\n",
              "      <th>down</th>\n",
              "      <th>RSI</th>\n",
              "      <th>SMA</th>\n",
              "      <th>EMA</th>\n",
              "    </tr>\n",
              "    <tr>\n",
              "      <th>Date</th>\n",
              "      <th></th>\n",
              "      <th></th>\n",
              "      <th></th>\n",
              "      <th></th>\n",
              "      <th></th>\n",
              "      <th></th>\n",
              "      <th></th>\n",
              "      <th></th>\n",
              "    </tr>\n",
              "  </thead>\n",
              "  <tbody>\n",
              "    <tr>\n",
              "      <th>2013-01-02</th>\n",
              "      <td>360.274597</td>\n",
              "      <td>0.000000</td>\n",
              "      <td>0.000000</td>\n",
              "      <td>NaN</td>\n",
              "      <td>NaN</td>\n",
              "      <td>NaN</td>\n",
              "      <td>NaN</td>\n",
              "      <td>360.274597</td>\n",
              "    </tr>\n",
              "    <tr>\n",
              "      <th>2013-01-03</th>\n",
              "      <td>360.483826</td>\n",
              "      <td>0.016691</td>\n",
              "      <td>0.003338</td>\n",
              "      <td>0.209229</td>\n",
              "      <td>0.000000</td>\n",
              "      <td>NaN</td>\n",
              "      <td>NaN</td>\n",
              "      <td>360.294524</td>\n",
              "    </tr>\n",
              "    <tr>\n",
              "      <th>2013-01-04</th>\n",
              "      <td>367.607117</td>\n",
              "      <td>0.597817</td>\n",
              "      <td>0.122234</td>\n",
              "      <td>7.123291</td>\n",
              "      <td>0.000000</td>\n",
              "      <td>NaN</td>\n",
              "      <td>NaN</td>\n",
              "      <td>360.990961</td>\n",
              "    </tr>\n",
              "    <tr>\n",
              "      <th>2013-01-07</th>\n",
              "      <td>366.003143</td>\n",
              "      <td>0.918350</td>\n",
              "      <td>0.281457</td>\n",
              "      <td>0.000000</td>\n",
              "      <td>-1.603973</td>\n",
              "      <td>NaN</td>\n",
              "      <td>NaN</td>\n",
              "      <td>361.468312</td>\n",
              "    </tr>\n",
              "    <tr>\n",
              "      <th>2013-01-08</th>\n",
              "      <td>365.280823</td>\n",
              "      <td>1.101394</td>\n",
              "      <td>0.445444</td>\n",
              "      <td>0.000000</td>\n",
              "      <td>-0.722321</td>\n",
              "      <td>NaN</td>\n",
              "      <td>NaN</td>\n",
              "      <td>361.831408</td>\n",
              "    </tr>\n",
              "    <tr>\n",
              "      <th>...</th>\n",
              "      <td>...</td>\n",
              "      <td>...</td>\n",
              "      <td>...</td>\n",
              "      <td>...</td>\n",
              "      <td>...</td>\n",
              "      <td>...</td>\n",
              "      <td>...</td>\n",
              "      <td>...</td>\n",
              "    </tr>\n",
              "    <tr>\n",
              "      <th>2021-05-03</th>\n",
              "      <td>2395.169922</td>\n",
              "      <td>69.268652</td>\n",
              "      <td>63.500948</td>\n",
              "      <td>0.000000</td>\n",
              "      <td>-14.950195</td>\n",
              "      <td>69.355346</td>\n",
              "      <td>2229.283317</td>\n",
              "      <td>2299.356322</td>\n",
              "    </tr>\n",
              "    <tr>\n",
              "      <th>2021-05-04</th>\n",
              "      <td>2354.250000</td>\n",
              "      <td>65.167418</td>\n",
              "      <td>63.834242</td>\n",
              "      <td>0.000000</td>\n",
              "      <td>-40.919922</td>\n",
              "      <td>63.849658</td>\n",
              "      <td>2239.805318</td>\n",
              "      <td>2304.584291</td>\n",
              "    </tr>\n",
              "    <tr>\n",
              "      <th>2021-05-05</th>\n",
              "      <td>2356.739990</td>\n",
              "      <td>61.410184</td>\n",
              "      <td>63.349430</td>\n",
              "      <td>2.489990</td>\n",
              "      <td>0.000000</td>\n",
              "      <td>59.400450</td>\n",
              "      <td>2249.931319</td>\n",
              "      <td>2309.551501</td>\n",
              "    </tr>\n",
              "    <tr>\n",
              "      <th>2021-05-06</th>\n",
              "      <td>2381.350098</td>\n",
              "      <td>59.729850</td>\n",
              "      <td>62.625514</td>\n",
              "      <td>24.610107</td>\n",
              "      <td>0.000000</td>\n",
              "      <td>62.182673</td>\n",
              "      <td>2261.140987</td>\n",
              "      <td>2316.389462</td>\n",
              "    </tr>\n",
              "    <tr>\n",
              "      <th>2021-05-07</th>\n",
              "      <td>2398.689941</td>\n",
              "      <td>59.115902</td>\n",
              "      <td>61.923592</td>\n",
              "      <td>17.339844</td>\n",
              "      <td>0.000000</td>\n",
              "      <td>63.532643</td>\n",
              "      <td>2272.951986</td>\n",
              "      <td>2324.227603</td>\n",
              "    </tr>\n",
              "  </tbody>\n",
              "</table>\n",
              "<p>2102 rows × 8 columns</p>\n",
              "</div>"
            ],
            "text/plain": [
              "                   GOOG       MACD  ...          SMA          EMA\n",
              "Date                                ...                          \n",
              "2013-01-02   360.274597   0.000000  ...          NaN   360.274597\n",
              "2013-01-03   360.483826   0.016691  ...          NaN   360.294524\n",
              "2013-01-04   367.607117   0.597817  ...          NaN   360.990961\n",
              "2013-01-07   366.003143   0.918350  ...          NaN   361.468312\n",
              "2013-01-08   365.280823   1.101394  ...          NaN   361.831408\n",
              "...                 ...        ...  ...          ...          ...\n",
              "2021-05-03  2395.169922  69.268652  ...  2229.283317  2299.356322\n",
              "2021-05-04  2354.250000  65.167418  ...  2239.805318  2304.584291\n",
              "2021-05-05  2356.739990  61.410184  ...  2249.931319  2309.551501\n",
              "2021-05-06  2381.350098  59.729850  ...  2261.140987  2316.389462\n",
              "2021-05-07  2398.689941  59.115902  ...  2272.951986  2324.227603\n",
              "\n",
              "[2102 rows x 8 columns]"
            ]
          },
          "metadata": {
            "tags": []
          },
          "execution_count": 322
        }
      ]
    },
    {
      "cell_type": "code",
      "metadata": {
        "colab": {
          "base_uri": "https://localhost:8080/",
          "height": 475
        },
        "id": "AwxPwWVwMTSP",
        "outputId": "fbb34eee-2f77-4577-f02b-875a2eabb262"
      },
      "source": [
        "#create the Target column\n",
        "#if tommorrow's close price is gonna increase or decrease \n",
        "df['Target'] = np.where(df['GOOG'].shift(-1) > df['GOOG'], 1, 0)\n",
        "#show the data\n",
        "df"
      ],
      "execution_count": 323,
      "outputs": [
        {
          "output_type": "execute_result",
          "data": {
            "text/html": [
              "<div>\n",
              "<style scoped>\n",
              "    .dataframe tbody tr th:only-of-type {\n",
              "        vertical-align: middle;\n",
              "    }\n",
              "\n",
              "    .dataframe tbody tr th {\n",
              "        vertical-align: top;\n",
              "    }\n",
              "\n",
              "    .dataframe thead th {\n",
              "        text-align: right;\n",
              "    }\n",
              "</style>\n",
              "<table border=\"1\" class=\"dataframe\">\n",
              "  <thead>\n",
              "    <tr style=\"text-align: right;\">\n",
              "      <th></th>\n",
              "      <th>GOOG</th>\n",
              "      <th>MACD</th>\n",
              "      <th>Signal_Line</th>\n",
              "      <th>up</th>\n",
              "      <th>down</th>\n",
              "      <th>RSI</th>\n",
              "      <th>SMA</th>\n",
              "      <th>EMA</th>\n",
              "      <th>Target</th>\n",
              "    </tr>\n",
              "    <tr>\n",
              "      <th>Date</th>\n",
              "      <th></th>\n",
              "      <th></th>\n",
              "      <th></th>\n",
              "      <th></th>\n",
              "      <th></th>\n",
              "      <th></th>\n",
              "      <th></th>\n",
              "      <th></th>\n",
              "      <th></th>\n",
              "    </tr>\n",
              "  </thead>\n",
              "  <tbody>\n",
              "    <tr>\n",
              "      <th>2013-01-02</th>\n",
              "      <td>360.274597</td>\n",
              "      <td>0.000000</td>\n",
              "      <td>0.000000</td>\n",
              "      <td>NaN</td>\n",
              "      <td>NaN</td>\n",
              "      <td>NaN</td>\n",
              "      <td>NaN</td>\n",
              "      <td>360.274597</td>\n",
              "      <td>1</td>\n",
              "    </tr>\n",
              "    <tr>\n",
              "      <th>2013-01-03</th>\n",
              "      <td>360.483826</td>\n",
              "      <td>0.016691</td>\n",
              "      <td>0.003338</td>\n",
              "      <td>0.209229</td>\n",
              "      <td>0.000000</td>\n",
              "      <td>NaN</td>\n",
              "      <td>NaN</td>\n",
              "      <td>360.294524</td>\n",
              "      <td>1</td>\n",
              "    </tr>\n",
              "    <tr>\n",
              "      <th>2013-01-04</th>\n",
              "      <td>367.607117</td>\n",
              "      <td>0.597817</td>\n",
              "      <td>0.122234</td>\n",
              "      <td>7.123291</td>\n",
              "      <td>0.000000</td>\n",
              "      <td>NaN</td>\n",
              "      <td>NaN</td>\n",
              "      <td>360.990961</td>\n",
              "      <td>0</td>\n",
              "    </tr>\n",
              "    <tr>\n",
              "      <th>2013-01-07</th>\n",
              "      <td>366.003143</td>\n",
              "      <td>0.918350</td>\n",
              "      <td>0.281457</td>\n",
              "      <td>0.000000</td>\n",
              "      <td>-1.603973</td>\n",
              "      <td>NaN</td>\n",
              "      <td>NaN</td>\n",
              "      <td>361.468312</td>\n",
              "      <td>0</td>\n",
              "    </tr>\n",
              "    <tr>\n",
              "      <th>2013-01-08</th>\n",
              "      <td>365.280823</td>\n",
              "      <td>1.101394</td>\n",
              "      <td>0.445444</td>\n",
              "      <td>0.000000</td>\n",
              "      <td>-0.722321</td>\n",
              "      <td>NaN</td>\n",
              "      <td>NaN</td>\n",
              "      <td>361.831408</td>\n",
              "      <td>1</td>\n",
              "    </tr>\n",
              "    <tr>\n",
              "      <th>...</th>\n",
              "      <td>...</td>\n",
              "      <td>...</td>\n",
              "      <td>...</td>\n",
              "      <td>...</td>\n",
              "      <td>...</td>\n",
              "      <td>...</td>\n",
              "      <td>...</td>\n",
              "      <td>...</td>\n",
              "      <td>...</td>\n",
              "    </tr>\n",
              "    <tr>\n",
              "      <th>2021-05-03</th>\n",
              "      <td>2395.169922</td>\n",
              "      <td>69.268652</td>\n",
              "      <td>63.500948</td>\n",
              "      <td>0.000000</td>\n",
              "      <td>-14.950195</td>\n",
              "      <td>69.355346</td>\n",
              "      <td>2229.283317</td>\n",
              "      <td>2299.356322</td>\n",
              "      <td>0</td>\n",
              "    </tr>\n",
              "    <tr>\n",
              "      <th>2021-05-04</th>\n",
              "      <td>2354.250000</td>\n",
              "      <td>65.167418</td>\n",
              "      <td>63.834242</td>\n",
              "      <td>0.000000</td>\n",
              "      <td>-40.919922</td>\n",
              "      <td>63.849658</td>\n",
              "      <td>2239.805318</td>\n",
              "      <td>2304.584291</td>\n",
              "      <td>1</td>\n",
              "    </tr>\n",
              "    <tr>\n",
              "      <th>2021-05-05</th>\n",
              "      <td>2356.739990</td>\n",
              "      <td>61.410184</td>\n",
              "      <td>63.349430</td>\n",
              "      <td>2.489990</td>\n",
              "      <td>0.000000</td>\n",
              "      <td>59.400450</td>\n",
              "      <td>2249.931319</td>\n",
              "      <td>2309.551501</td>\n",
              "      <td>1</td>\n",
              "    </tr>\n",
              "    <tr>\n",
              "      <th>2021-05-06</th>\n",
              "      <td>2381.350098</td>\n",
              "      <td>59.729850</td>\n",
              "      <td>62.625514</td>\n",
              "      <td>24.610107</td>\n",
              "      <td>0.000000</td>\n",
              "      <td>62.182673</td>\n",
              "      <td>2261.140987</td>\n",
              "      <td>2316.389462</td>\n",
              "      <td>1</td>\n",
              "    </tr>\n",
              "    <tr>\n",
              "      <th>2021-05-07</th>\n",
              "      <td>2398.689941</td>\n",
              "      <td>59.115902</td>\n",
              "      <td>61.923592</td>\n",
              "      <td>17.339844</td>\n",
              "      <td>0.000000</td>\n",
              "      <td>63.532643</td>\n",
              "      <td>2272.951986</td>\n",
              "      <td>2324.227603</td>\n",
              "      <td>0</td>\n",
              "    </tr>\n",
              "  </tbody>\n",
              "</table>\n",
              "<p>2102 rows × 9 columns</p>\n",
              "</div>"
            ],
            "text/plain": [
              "                   GOOG       MACD  ...          EMA  Target\n",
              "Date                                ...                     \n",
              "2013-01-02   360.274597   0.000000  ...   360.274597       1\n",
              "2013-01-03   360.483826   0.016691  ...   360.294524       1\n",
              "2013-01-04   367.607117   0.597817  ...   360.990961       0\n",
              "2013-01-07   366.003143   0.918350  ...   361.468312       0\n",
              "2013-01-08   365.280823   1.101394  ...   361.831408       1\n",
              "...                 ...        ...  ...          ...     ...\n",
              "2021-05-03  2395.169922  69.268652  ...  2299.356322       0\n",
              "2021-05-04  2354.250000  65.167418  ...  2304.584291       1\n",
              "2021-05-05  2356.739990  61.410184  ...  2309.551501       1\n",
              "2021-05-06  2381.350098  59.729850  ...  2316.389462       1\n",
              "2021-05-07  2398.689941  59.115902  ...  2324.227603       0\n",
              "\n",
              "[2102 rows x 9 columns]"
            ]
          },
          "metadata": {
            "tags": []
          },
          "execution_count": 323
        }
      ]
    },
    {
      "cell_type": "code",
      "metadata": {
        "colab": {
          "base_uri": "https://localhost:8080/",
          "height": 475
        },
        "id": "R-V5Kr25MwHY",
        "outputId": "a9ae0ca6-79ba-4ef0-a6eb-bb1f4c3b8047"
      },
      "source": [
        "#Remove the first 29 days of data since the RSI and SMA have NaN values\n",
        "df = df[29:]\n",
        "#show the data\n",
        "df"
      ],
      "execution_count": 324,
      "outputs": [
        {
          "output_type": "execute_result",
          "data": {
            "text/html": [
              "<div>\n",
              "<style scoped>\n",
              "    .dataframe tbody tr th:only-of-type {\n",
              "        vertical-align: middle;\n",
              "    }\n",
              "\n",
              "    .dataframe tbody tr th {\n",
              "        vertical-align: top;\n",
              "    }\n",
              "\n",
              "    .dataframe thead th {\n",
              "        text-align: right;\n",
              "    }\n",
              "</style>\n",
              "<table border=\"1\" class=\"dataframe\">\n",
              "  <thead>\n",
              "    <tr style=\"text-align: right;\">\n",
              "      <th></th>\n",
              "      <th>GOOG</th>\n",
              "      <th>MACD</th>\n",
              "      <th>Signal_Line</th>\n",
              "      <th>up</th>\n",
              "      <th>down</th>\n",
              "      <th>RSI</th>\n",
              "      <th>SMA</th>\n",
              "      <th>EMA</th>\n",
              "      <th>Target</th>\n",
              "    </tr>\n",
              "    <tr>\n",
              "      <th>Date</th>\n",
              "      <th></th>\n",
              "      <th></th>\n",
              "      <th></th>\n",
              "      <th></th>\n",
              "      <th></th>\n",
              "      <th></th>\n",
              "      <th></th>\n",
              "      <th></th>\n",
              "      <th></th>\n",
              "    </tr>\n",
              "  </thead>\n",
              "  <tbody>\n",
              "    <tr>\n",
              "      <th>2013-02-13</th>\n",
              "      <td>389.968292</td>\n",
              "      <td>7.042438</td>\n",
              "      <td>5.781522</td>\n",
              "      <td>1.075958</td>\n",
              "      <td>0.000000</td>\n",
              "      <td>68.339454</td>\n",
              "      <td>371.835270</td>\n",
              "      <td>378.920834</td>\n",
              "      <td>1</td>\n",
              "    </tr>\n",
              "    <tr>\n",
              "      <th>2013-02-14</th>\n",
              "      <td>392.439056</td>\n",
              "      <td>7.236307</td>\n",
              "      <td>6.072479</td>\n",
              "      <td>2.470764</td>\n",
              "      <td>0.000000</td>\n",
              "      <td>70.689431</td>\n",
              "      <td>372.907419</td>\n",
              "      <td>380.208284</td>\n",
              "      <td>1</td>\n",
              "    </tr>\n",
              "    <tr>\n",
              "      <th>2013-02-15</th>\n",
              "      <td>394.964569</td>\n",
              "      <td>7.507200</td>\n",
              "      <td>6.359423</td>\n",
              "      <td>2.525513</td>\n",
              "      <td>0.000000</td>\n",
              "      <td>74.899558</td>\n",
              "      <td>374.056777</td>\n",
              "      <td>381.613644</td>\n",
              "      <td>1</td>\n",
              "    </tr>\n",
              "    <tr>\n",
              "      <th>2013-02-19</th>\n",
              "      <td>401.918518</td>\n",
              "      <td>8.188616</td>\n",
              "      <td>6.725262</td>\n",
              "      <td>6.953949</td>\n",
              "      <td>0.000000</td>\n",
              "      <td>77.788187</td>\n",
              "      <td>375.200490</td>\n",
              "      <td>383.547442</td>\n",
              "      <td>0</td>\n",
              "    </tr>\n",
              "    <tr>\n",
              "      <th>2013-02-20</th>\n",
              "      <td>394.750366</td>\n",
              "      <td>8.057353</td>\n",
              "      <td>6.991680</td>\n",
              "      <td>0.000000</td>\n",
              "      <td>-7.168152</td>\n",
              "      <td>67.573426</td>\n",
              "      <td>376.158731</td>\n",
              "      <td>384.614387</td>\n",
              "      <td>1</td>\n",
              "    </tr>\n",
              "    <tr>\n",
              "      <th>...</th>\n",
              "      <td>...</td>\n",
              "      <td>...</td>\n",
              "      <td>...</td>\n",
              "      <td>...</td>\n",
              "      <td>...</td>\n",
              "      <td>...</td>\n",
              "      <td>...</td>\n",
              "      <td>...</td>\n",
              "      <td>...</td>\n",
              "    </tr>\n",
              "    <tr>\n",
              "      <th>2021-05-03</th>\n",
              "      <td>2395.169922</td>\n",
              "      <td>69.268652</td>\n",
              "      <td>63.500948</td>\n",
              "      <td>0.000000</td>\n",
              "      <td>-14.950195</td>\n",
              "      <td>69.355346</td>\n",
              "      <td>2229.283317</td>\n",
              "      <td>2299.356322</td>\n",
              "      <td>0</td>\n",
              "    </tr>\n",
              "    <tr>\n",
              "      <th>2021-05-04</th>\n",
              "      <td>2354.250000</td>\n",
              "      <td>65.167418</td>\n",
              "      <td>63.834242</td>\n",
              "      <td>0.000000</td>\n",
              "      <td>-40.919922</td>\n",
              "      <td>63.849658</td>\n",
              "      <td>2239.805318</td>\n",
              "      <td>2304.584291</td>\n",
              "      <td>1</td>\n",
              "    </tr>\n",
              "    <tr>\n",
              "      <th>2021-05-05</th>\n",
              "      <td>2356.739990</td>\n",
              "      <td>61.410184</td>\n",
              "      <td>63.349430</td>\n",
              "      <td>2.489990</td>\n",
              "      <td>0.000000</td>\n",
              "      <td>59.400450</td>\n",
              "      <td>2249.931319</td>\n",
              "      <td>2309.551501</td>\n",
              "      <td>1</td>\n",
              "    </tr>\n",
              "    <tr>\n",
              "      <th>2021-05-06</th>\n",
              "      <td>2381.350098</td>\n",
              "      <td>59.729850</td>\n",
              "      <td>62.625514</td>\n",
              "      <td>24.610107</td>\n",
              "      <td>0.000000</td>\n",
              "      <td>62.182673</td>\n",
              "      <td>2261.140987</td>\n",
              "      <td>2316.389462</td>\n",
              "      <td>1</td>\n",
              "    </tr>\n",
              "    <tr>\n",
              "      <th>2021-05-07</th>\n",
              "      <td>2398.689941</td>\n",
              "      <td>59.115902</td>\n",
              "      <td>61.923592</td>\n",
              "      <td>17.339844</td>\n",
              "      <td>0.000000</td>\n",
              "      <td>63.532643</td>\n",
              "      <td>2272.951986</td>\n",
              "      <td>2324.227603</td>\n",
              "      <td>0</td>\n",
              "    </tr>\n",
              "  </tbody>\n",
              "</table>\n",
              "<p>2073 rows × 9 columns</p>\n",
              "</div>"
            ],
            "text/plain": [
              "                   GOOG       MACD  ...          EMA  Target\n",
              "Date                                ...                     \n",
              "2013-02-13   389.968292   7.042438  ...   378.920834       1\n",
              "2013-02-14   392.439056   7.236307  ...   380.208284       1\n",
              "2013-02-15   394.964569   7.507200  ...   381.613644       1\n",
              "2013-02-19   401.918518   8.188616  ...   383.547442       0\n",
              "2013-02-20   394.750366   8.057353  ...   384.614387       1\n",
              "...                 ...        ...  ...          ...     ...\n",
              "2021-05-03  2395.169922  69.268652  ...  2299.356322       0\n",
              "2021-05-04  2354.250000  65.167418  ...  2304.584291       1\n",
              "2021-05-05  2356.739990  61.410184  ...  2309.551501       1\n",
              "2021-05-06  2381.350098  59.729850  ...  2316.389462       1\n",
              "2021-05-07  2398.689941  59.115902  ...  2324.227603       0\n",
              "\n",
              "[2073 rows x 9 columns]"
            ]
          },
          "metadata": {
            "tags": []
          },
          "execution_count": 324
        }
      ]
    },
    {
      "cell_type": "code",
      "metadata": {
        "id": "OJffuqXYNLb-"
      },
      "source": [
        "#split the data set into a feature or independent data set (X) and a Target or dependent data set (Y)\n",
        "keep_columns = ['GOOG', 'MACD', 'Signal_Line', 'RSI', 'SMA', 'EMA']\n",
        "X = df[keep_columns].values\n",
        "Y = df['Target'].values"
      ],
      "execution_count": 325,
      "outputs": []
    },
    {
      "cell_type": "code",
      "metadata": {
        "id": "DXY4UetaN7jR"
      },
      "source": [
        "#split the data again but this time into 80% training and 20% testing data set\n",
        "X_train, X_test, Y_train, Y_test = train_test_split(X, Y, test_size = 0.2, random_state = 2)"
      ],
      "execution_count": 326,
      "outputs": []
    },
    {
      "cell_type": "code",
      "metadata": {
        "id": "062jycNVOWWb"
      },
      "source": [
        "#create and train the decision tree classifier model\n",
        "tree = DecisionTreeClassifier().fit(X_train, Y_train)"
      ],
      "execution_count": 327,
      "outputs": []
    },
    {
      "cell_type": "code",
      "metadata": {
        "colab": {
          "base_uri": "https://localhost:8080/"
        },
        "id": "tv5w8UwzOlvo",
        "outputId": "97e535b1-f66b-4194-f5e5-0c96d22b2377"
      },
      "source": [
        "#check how well the model did on the training data set\n",
        "print(tree.score(X_train, Y_train))"
      ],
      "execution_count": 328,
      "outputs": [
        {
          "output_type": "stream",
          "text": [
            "1.0\n"
          ],
          "name": "stdout"
        }
      ]
    },
    {
      "cell_type": "code",
      "metadata": {
        "colab": {
          "base_uri": "https://localhost:8080/"
        },
        "id": "_u8iC3L1Oxl6",
        "outputId": "7b921fb8-9ad0-4dea-b0c4-9623027718e5"
      },
      "source": [
        "#check how well the model did on the testing data set\n",
        "print(tree.score(X_test, Y_test))"
      ],
      "execution_count": 329,
      "outputs": [
        {
          "output_type": "stream",
          "text": [
            "0.5132530120481927\n"
          ],
          "name": "stdout"
        }
      ]
    },
    {
      "cell_type": "code",
      "metadata": {
        "colab": {
          "base_uri": "https://localhost:8080/"
        },
        "id": "HDKpiK7oO8o1",
        "outputId": "417b3cf8-acd2-439c-d0ec-d6a50e945273"
      },
      "source": [
        "#show the model tree predictions\n",
        "tree_predictions = tree.predict(X_test)\n",
        "print(tree_predictions)"
      ],
      "execution_count": 330,
      "outputs": [
        {
          "output_type": "stream",
          "text": [
            "[0 1 0 1 1 0 1 0 0 1 0 1 0 0 0 1 1 1 1 0 1 1 1 0 0 0 1 1 0 0 1 1 0 1 1 0 1\n",
            " 0 0 1 0 0 0 0 1 0 1 0 1 0 0 1 1 0 1 1 1 1 1 1 0 0 0 0 0 0 0 1 1 1 1 0 0 0\n",
            " 1 1 1 1 1 1 1 0 0 0 0 1 0 0 0 0 1 0 1 1 0 1 0 1 0 1 1 1 0 0 1 1 1 1 1 0 1\n",
            " 1 1 0 0 0 0 1 0 0 1 0 0 1 1 0 1 1 0 1 0 0 0 0 0 0 0 1 0 1 1 1 1 0 1 1 0 0\n",
            " 0 0 0 0 0 0 0 1 1 1 0 1 1 1 0 1 0 0 1 0 0 0 0 1 0 1 1 1 1 0 1 0 0 0 1 0 1\n",
            " 0 1 1 0 1 1 0 0 1 1 1 1 0 1 1 1 1 1 1 0 1 0 1 1 1 0 1 0 1 1 1 0 1 0 1 1 0\n",
            " 0 0 1 0 1 0 0 1 1 1 0 1 0 0 1 0 1 0 1 0 1 0 1 1 1 0 0 1 1 1 0 1 1 1 1 0 0\n",
            " 1 0 1 1 1 1 1 1 0 1 0 0 1 1 1 0 0 1 1 0 0 0 0 1 0 0 0 1 0 0 0 0 1 0 0 1 0\n",
            " 1 1 1 1 0 0 0 0 1 1 1 0 0 0 1 1 0 1 1 0 0 1 0 0 1 0 0 1 1 0 1 1 1 1 1 1 1\n",
            " 1 1 0 1 1 1 1 1 0 0 1 0 0 0 1 1 1 0 0 0 0 1 0 1 0 1 0 1 1 0 1 0 0 1 1 1 1\n",
            " 1 1 1 1 1 1 1 0 0 1 1 1 1 0 1 0 0 0 1 1 0 0 1 1 1 0 0 0 0 1 0 0 1 1 0 0 1\n",
            " 0 0 0 1 0 1 1 1]\n"
          ],
          "name": "stdout"
        }
      ]
    },
    {
      "cell_type": "code",
      "metadata": {
        "colab": {
          "base_uri": "https://localhost:8080/"
        },
        "id": "c7OYmVsGPJD9",
        "outputId": "9d79f743-1107-46b7-fc90-504c7393f8ae"
      },
      "source": [
        "#show the actual values from the test data\n",
        "Y_test"
      ],
      "execution_count": 331,
      "outputs": [
        {
          "output_type": "execute_result",
          "data": {
            "text/plain": [
              "array([1, 1, 0, 0, 0, 1, 0, 1, 0, 1, 1, 1, 0, 0, 0, 1, 0, 0, 1, 0, 1, 0,\n",
              "       0, 0, 0, 1, 0, 1, 0, 1, 0, 0, 1, 0, 1, 1, 1, 0, 0, 0, 1, 1, 0, 1,\n",
              "       1, 1, 1, 0, 1, 1, 0, 0, 0, 0, 0, 1, 0, 1, 1, 1, 0, 1, 0, 0, 1, 1,\n",
              "       1, 1, 1, 0, 1, 1, 0, 1, 1, 1, 1, 1, 1, 1, 1, 1, 1, 1, 0, 0, 1, 1,\n",
              "       0, 1, 0, 1, 1, 0, 1, 0, 0, 1, 0, 1, 0, 0, 1, 1, 0, 1, 0, 1, 0, 0,\n",
              "       0, 1, 0, 0, 1, 0, 0, 0, 1, 1, 1, 1, 1, 0, 0, 0, 0, 1, 0, 0, 0, 1,\n",
              "       0, 0, 1, 1, 0, 1, 1, 1, 1, 1, 1, 1, 1, 1, 0, 0, 0, 0, 0, 1, 0, 0,\n",
              "       1, 0, 1, 1, 0, 0, 0, 1, 1, 0, 1, 1, 0, 1, 0, 0, 1, 1, 1, 0, 0, 0,\n",
              "       0, 0, 1, 0, 1, 0, 0, 0, 0, 1, 0, 0, 1, 0, 1, 1, 1, 1, 1, 1, 1, 0,\n",
              "       0, 1, 1, 1, 0, 1, 1, 1, 0, 1, 0, 1, 1, 1, 0, 1, 1, 0, 0, 1, 0, 1,\n",
              "       1, 0, 1, 1, 0, 1, 1, 1, 0, 1, 1, 1, 0, 0, 0, 0, 0, 1, 1, 1, 1, 0,\n",
              "       0, 0, 0, 0, 0, 0, 0, 0, 0, 1, 0, 0, 0, 1, 1, 0, 0, 0, 0, 0, 1, 0,\n",
              "       0, 0, 0, 0, 1, 1, 0, 0, 0, 0, 1, 0, 0, 1, 1, 0, 1, 0, 1, 0, 1, 1,\n",
              "       1, 1, 1, 0, 0, 1, 1, 1, 1, 1, 0, 1, 0, 0, 0, 1, 0, 0, 1, 0, 1, 0,\n",
              "       1, 0, 0, 1, 1, 1, 1, 0, 1, 1, 1, 1, 0, 0, 0, 1, 1, 0, 1, 0, 1, 1,\n",
              "       0, 0, 1, 1, 1, 1, 1, 1, 1, 1, 0, 1, 1, 1, 0, 0, 1, 0, 0, 0, 0, 0,\n",
              "       0, 0, 1, 1, 0, 1, 0, 0, 0, 1, 0, 1, 1, 1, 0, 0, 0, 1, 1, 1, 1, 1,\n",
              "       1, 0, 1, 1, 0, 0, 0, 1, 0, 0, 1, 0, 1, 1, 1, 0, 0, 1, 0, 1, 1, 1,\n",
              "       1, 1, 1, 0, 1, 0, 1, 0, 1, 1, 0, 1, 1, 1, 0, 1, 0, 1, 1])"
            ]
          },
          "metadata": {
            "tags": []
          },
          "execution_count": 331
        }
      ]
    },
    {
      "cell_type": "code",
      "metadata": {
        "colab": {
          "base_uri": "https://localhost:8080/"
        },
        "id": "Njpm4orQPVJD",
        "outputId": "dcfed89c-c00a-4a95-a8c8-fae475b6e620"
      },
      "source": [
        "#get the model metrics\n",
        "from sklearn.metrics import classification_report\n",
        "print(classification_report(Y_test, tree_predictions))"
      ],
      "execution_count": 332,
      "outputs": [
        {
          "output_type": "stream",
          "text": [
            "              precision    recall  f1-score   support\n",
            "\n",
            "           0       0.49      0.48      0.48       197\n",
            "           1       0.54      0.54      0.54       218\n",
            "\n",
            "    accuracy                           0.51       415\n",
            "   macro avg       0.51      0.51      0.51       415\n",
            "weighted avg       0.51      0.51      0.51       415\n",
            "\n"
          ],
          "name": "stdout"
        }
      ]
    }
  ]
}