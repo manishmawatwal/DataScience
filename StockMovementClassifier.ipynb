{
  "nbformat": 4,
  "nbformat_minor": 0,
  "metadata": {
    "colab": {
      "name": "StockMovementClassifier.ipynb",
      "provenance": [],
      "collapsed_sections": [],
      "authorship_tag": "ABX9TyNn9pk4AzwQS2EgaNhsoaZ/",
      "include_colab_link": true
    },
    "kernelspec": {
      "name": "python3",
      "display_name": "Python 3"
    },
    "language_info": {
      "name": "python"
    }
  },
  "cells": [
    {
      "cell_type": "markdown",
      "metadata": {
        "id": "view-in-github",
        "colab_type": "text"
      },
      "source": [
        "<a href=\"https://colab.research.google.com/github/manishmawatwal/DataScience/blob/main/StockMovementClassifier.ipynb\" target=\"_parent\"><img src=\"https://colab.research.google.com/assets/colab-badge.svg\" alt=\"Open In Colab\"/></a>"
      ]
    },
    {
      "cell_type": "code",
      "metadata": {
        "id": "9YJe-660FuQ_"
      },
      "source": [
        "#Description: Use stock indicators with Machine Learning to predict stock price"
      ],
      "execution_count": 118,
      "outputs": []
    },
    {
      "cell_type": "code",
      "metadata": {
        "id": "ueTKszisF38P"
      },
      "source": [
        "#import libraries\n",
        "import numpy as np\n",
        "import pandas as pd\n",
        "from sklearn.model_selection import train_test_split\n",
        "from sklearn.tree import DecisionTreeClassifier\n",
        "from pandas_datareader import data as web\n",
        "import requests\n",
        "from datetime import datetime\n",
        "import matplotlib.pyplot as plt\n",
        "plt.style.use('fivethirtyeight')\n",
        "from bokeh.plotting import figure, show"
      ],
      "execution_count": 119,
      "outputs": []
    },
    {
      "cell_type": "code",
      "metadata": {
        "id": "NJOKsmUx9nWd"
      },
      "source": [
        "'''\n",
        "#load the data\n",
        "from google.colab import files\n",
        "files.upload()\n",
        "#store the data and print\n",
        "df = pd.read_csv('_filename_.csv')\n",
        "#set the date as index for better understanding\n",
        "df = df.set_index(pd.DatetimeIndex(df['Date'].values))\n",
        "#remove the date column as it has already been used as index\n",
        "df.drop(columns=['Date'], axis = 1, inplace = True)\n",
        "df\n",
        "'''\n",
        "#get stock symbol/tickers in the portfolio\n",
        "stockSymbols = ['GOOG', 'TSLA', 'NFLX', 'FB', 'AMZN', 'AAPL']\n",
        "#Assign weights to the stocks\n",
        "weights = np.array([0.2, 0.2, 0.2, 0.2, 0.1, 0.1])\n",
        "#get the stock/portfolio starting date\n",
        "stockStartDate = '2013-01-01'\n",
        "#get the ending date in the format YYYY-mm-dd / today's date\n",
        "today = datetime.today().strftime('%Y-%m-%d')\n",
        "#create a dataframe to store the adjusted close price of the stocks\n",
        "df = pd.DataFrame()\n",
        "#get the number of assets in the portfolio\n",
        "numAssets = len(stockSymbols)\n",
        "print('You have '+str(numAssets)+' assets in your portfolio')"
      ],
      "execution_count": null,
      "outputs": []
    },
    {
      "cell_type": "code",
      "metadata": {
        "id": "givYfEMrEkv5"
      },
      "source": [
        "#create function to get the stock price in the portfolio\n",
        "def getMyPortfolio(stocks = stockSymbols, start = stockStartDate, end = today, col='Adj Close'):\n",
        "  data = web.DataReader(stocks, data_source = 'yahoo', start = start, end = end)[col]\n",
        "  return data\n",
        "\n",
        "#get the stock portfolio Adj Close Price\n",
        "my_stocks = getMyPortfolio(stockSymbols)\n",
        "my_stocks\n",
        "#create a function to visualize the portfolio\n",
        "def showGraph(stocks = stockSymbols, start = stockStartDate, end = today, col = 'Adj Close'):\n",
        "  #Create the title for the portfolio\n",
        "  title = 'Portfolio '+col+' Price History'\n",
        "  #get the stocks\n",
        "  my_stocks = getMyPortfolio(stocks = stocks, start= start, end =end, col=col)\n",
        "  #give the figure size\n",
        "  plt.figure(figsize=(12.2, 4.5))\n",
        "  #loop through each stock and plot the price\n",
        "  for c in my_stocks.columns.values:\n",
        "    plt.plot(my_stocks[c], label = c, alpha = 0.7)\n",
        "  plt.title(title)\n",
        "  plt.xlabel('Date', fontsize = 18)\n",
        "  plt.ylabel(col+'Price USD ($)', fontsize = 18)\n",
        "  plt.legend(my_stocks.columns.values, loc = 'upper left')\n",
        "  plt.show()\n",
        "\n",
        "#show the adjusted close price\n",
        "showGraph(stockSymbols)\n",
        "'''\n",
        "#visually show the stock/portfolio\n",
        "title = 'Portfolio Adj Close Price History'\n",
        "#get the stocks\n",
        "my_stocks = df\n",
        "#create and plot the graph\n",
        "for c in my_stocks.columns.values:\n",
        "  plt.plot(my_stocks[c], label = c)\n",
        "\n",
        "plt.title(title)\n",
        "plt.xlabel('Date', fontsize = 18)\n",
        "plt.ylabel('Adj. Price USD ($)', fontsize = 18)\n",
        "plt.legend(my_stocks.columns.values, loc = 'upper left')\n",
        "plt.show()\n",
        "'''"
      ],
      "execution_count": null,
      "outputs": []
    },
    {
      "cell_type": "code",
      "metadata": {
        "id": "4X9RFLcvJkqB"
      },
      "source": [
        "#calculate and print the daily simple returns\n",
        "daily_simple_returns = my_stocks.pct_change(1)\n",
        "daily_simple_returns\n",
        "#show the daily simple stock correlation\n",
        "daily_simple_returns.corr()\n",
        "#create and show the annualized covariance matrix\n",
        "daily_simple_returns.cov()\n",
        "#show variance\n",
        "daily_simple_returns.var()\n",
        "#print the standard deviation for daily simple returns\n",
        "daily_simple_returns.std()\n",
        "#show the mean of daily simple return\n",
        "daily_simple_returns.mean()\n",
        "#visualize the stocks daily simple returns\n",
        "plt.figure(figsize=(12,4.5))\n",
        "#loop through each stock and plot the simple returns\n",
        "for c in daily_simple_returns.columns.values:\n",
        "  plt.plot(daily_simple_returns.index, daily_simple_returns[c], lw=2, label=c, alpha = 0.7)\n",
        "#create a legend\n",
        "plt.legend(loc='upper right', fontsize = 10)\n",
        "plt.title('Volatility')\n",
        "plt.xlabel('Date')\n",
        "plt.ylabel('Daily simple returns')"
      ],
      "execution_count": null,
      "outputs": []
    },
    {
      "cell_type": "code",
      "metadata": {
        "id": "prSWHZZW4qad"
      },
      "source": [
        "\n",
        "#calculate the expected simple annual portfolio return\n",
        "#there are only 252 trading days in a year\n",
        "portfolioSimpleAnnualReturn = np.sum(daily_simple_returns.mean() * weights)* 252\n",
        "#create and print the annualized covariance matrix\n",
        "cov_matrix_annual = daily_simple_returns.cov() * 252\n",
        "cov_matrix_annual\n",
        "#Calculate the portfolio variance\n",
        "port_variance = np.dot(weights.T, np.dot(daily_simple_returns.cov() * 252, weights))\n",
        "port_variance\n",
        "#calulate the portfolio volatility aka standard deviation\n",
        "port_volatility = np.sqrt(port_variance)\n",
        "port_volatility\n",
        "#calculate the expected annual return, volatility (risk), and variance in percentage\n",
        "percent_var = str(round(port_variance, 2) * 100) + '%'\n",
        "percent_vols = str(round(port_volatility, 2) * 100) + '%'\n",
        "percent_ret = str(round(portfolioSimpleAnnualReturn, 2) * 100) + '%'\n",
        "#print \n",
        "print('Expected annual return: ' + percent_ret)\n",
        "print('Annual volatility/risks:' + percent_vols)\n",
        "print('Annual variance' + percent_var)"
      ],
      "execution_count": null,
      "outputs": []
    },
    {
      "cell_type": "code",
      "metadata": {
        "id": "dopTyDKW6yRI"
      },
      "source": [
        "#calculate the growth of the investment\n",
        "dailyCumulSimpleReturn = (daily_simple_returns + 1).cumprod()\n",
        "#show the cumulative simple returns\n",
        "dailyCumulSimpleReturn\n",
        "#Visualize the daily cumulative simple return\n",
        "plt.figure(figsize = (12.2, 4.5))\n",
        "for c in dailyCumulSimpleReturn.columns.values:\n",
        "  plt.plot(dailyCumulSimpleReturn.index, dailyCumulSimpleReturn[c], lw = 2, label = c, alpha = 0.7)\n",
        "\n",
        "plt.legend(loc = 'upper left', fontsize = 10)\n",
        "plt.xlabel('Date')\n",
        "plt.ylabel('Growth of $1 investment')\n",
        "plt.title('Daily Cumulative Simple Returns')\n",
        "plt.show()"
      ],
      "execution_count": null,
      "outputs": []
    },
    {
      "cell_type": "markdown",
      "metadata": {
        "id": "I_GiWqZjOeCl"
      },
      "source": [
        "**Portfolio Optimization**\n",
        "\n",
        "---\n",
        "\n"
      ]
    },
    {
      "cell_type": "code",
      "metadata": {
        "id": "Q8vVIx8_ETY_"
      },
      "source": [
        "#pip install PyPortfolioOpt\n",
        "#pip install pulp\n",
        "from pypfopt.efficient_frontier import EfficientFrontier\n",
        "from pypfopt import risk_models\n",
        "from pypfopt import expected_returns"
      ],
      "execution_count": 125,
      "outputs": []
    },
    {
      "cell_type": "code",
      "metadata": {
        "id": "56xDig2YEgye"
      },
      "source": [
        "#Porfolio Optimization\n",
        "#Calculate the expected returns and the annualised sample covariance matrix of asset returns\n",
        "mu = expected_returns.mean_historical_return(my_stocks)\n",
        "s = risk_models.sample_cov(my_stocks)\n",
        "#create Efficient Frontier Object\n",
        "#optimize for max sharpe ratio\n",
        "ef = EfficientFrontier(mu, s)\n",
        "weights = ef.max_sharpe()\n",
        "cleaned_weights = ef.clean_weights()\n",
        "print(cleaned_weights)\n",
        "ef.portfolio_performance(verbose = True)\n",
        "#get the discrete allocation of each share per stock\n",
        "from pypfopt.discrete_allocation import DiscreteAllocation, get_latest_prices\n",
        "total_portfolio_value = 5000\n",
        "latest_prices = get_latest_prices(my_stocks)\n",
        "weights = cleaned_weights\n",
        "da = DiscreteAllocation(weights, latest_prices, total_portfolio_value)\n",
        "\n",
        "allocation , leftover = da.lp_portfolio()\n",
        "print('Discrete allocation:', allocation)\n",
        "print('Funds remaining: ${:.2f}'.format(leftover))"
      ],
      "execution_count": null,
      "outputs": []
    },
    {
      "cell_type": "code",
      "metadata": {
        "id": "fkH0ncIeEs5i"
      },
      "source": [
        "#create a function to get the companies name\n",
        "def get_company_name(symbol):\n",
        "  url = 'http://d.yimg.com/autoc.finance.yahoo.com/autoc?query='+symbol+'&region=1&lang=en'\n",
        "  result = requests.get(url).json()\n",
        "  for r in result['ResultSet']['Result']:\n",
        "    if r['symbol'] == symbol:\n",
        "      return r['name']\n",
        "\n",
        "#store the company name into a list\n",
        "#get the discrete allocation values\n",
        "discrete_allocation_list = []\n",
        "company_name = []\n",
        "for symbol in allocation:\n",
        "  company_name.append(get_company_name(symbol))\n",
        "  discrete_allocation_list.append(allocation.get(symbol))"
      ],
      "execution_count": 127,
      "outputs": []
    },
    {
      "cell_type": "code",
      "metadata": {
        "id": "BVKBoD9CE0lI"
      },
      "source": [
        "#create a dataframe for the portfolio\n",
        "portfolio_df = pd.DataFrame(columns = ['Company_name', 'Company_Ticker', 'Discrete_val_'+str(total_portfolio_value)])\n",
        "portfolio_df['Company_name'] = company_name\n",
        "portfolio_df['Company_Ticker'] = allocation\n",
        "portfolio_df['Discrete_val_'+str(total_portfolio_value)] = discrete_allocation_list \n",
        "#show the portfolio\n",
        "portfolio_df"
      ],
      "execution_count": null,
      "outputs": []
    },
    {
      "cell_type": "markdown",
      "metadata": {
        "id": "u8G7QRLuAaGo"
      },
      "source": [
        "**Machine Learning**\n",
        "\n",
        "---\n",
        "\n",
        "\n",
        "\n"
      ]
    },
    {
      "cell_type": "code",
      "metadata": {
        "id": "K7lTDmqpL4dU"
      },
      "source": [
        "#Create functions to calculate the Simple Moving Average (SMA) and Exponnetial Moving Average (EMA)\n",
        "#typical time period for moving averages are 15, 20, and 30\n",
        "#create the simple moving average (SMA)\n",
        "def SMA(data, period = 30, column = 'GOOG'):\n",
        "  return data[column].rolling(window = period).mean()\n",
        "\n",
        "#create the exponential moving average (EMA)\n",
        "def EMA(data, period = 20, column = 'GOOG'):\n",
        "  return data[column].ewm(span = period, adjust = False).mean()"
      ],
      "execution_count": 129,
      "outputs": []
    },
    {
      "cell_type": "code",
      "metadata": {
        "id": "nDlCITHoL9rh"
      },
      "source": [
        "#create a function to calculate the Moving Average Convergence/Divergence (MACD)\n",
        "def MACD(data, period_long = 26, period_short = 12, period_signal = 9, column = 'GOOG'):\n",
        "  #calculate the short term EMA\n",
        "  ShortEMA = EMA(data, period = period_short, column = column)\n",
        "  #calculate the long term EMA\n",
        "  LongEMA = EMA(data, period = period_long, column = column)\n",
        "  #calculate and store the MACD into the data frame\n",
        "  data['MACD'] = ShortEMA - LongEMA\n",
        "  #calculate the signal line and store it into the data frame\n",
        "  data['Signal_Line'] = EMA(data, period = period_signal, column = 'MACD')\n",
        "\n",
        "  return data"
      ],
      "execution_count": 130,
      "outputs": []
    },
    {
      "cell_type": "code",
      "metadata": {
        "id": "YfFPyGM0MBQT"
      },
      "source": [
        "#create a function to calculate Relative Strength Index (RSI)\n",
        "def RSI(data, period = 14, column = 'GOOG'):\n",
        "  delta = data[column].diff(1)\n",
        "  delta = delta.dropna()\n",
        "  up = delta.copy()\n",
        "  down = delta.copy()\n",
        "  up[up < 0] = 0\n",
        "  down[down > 0] = 0\n",
        "  data['up'] = up\n",
        "  data['down'] = down\n",
        "  AVG_Gain = SMA(data, period, column = 'up')\n",
        "  AVG_Loss = abs(SMA(data, period, column = 'down'))\n",
        "  RS = AVG_Gain / AVG_Loss\n",
        "  RSI = 100.0 - (100.0 / (1.0 + RS))\n",
        "\n",
        "  data['RSI'] = RSI\n",
        "  return data"
      ],
      "execution_count": 131,
      "outputs": []
    },
    {
      "cell_type": "code",
      "metadata": {
        "id": "g8FbmHQAMEot"
      },
      "source": [
        "#Add the indicators to the data set\n",
        "MACD(my_stocks)\n",
        "RSI(my_stocks)\n",
        "df['SMA'] = SMA(my_stocks)\n",
        "df['EMA'] = EMA(my_stocks)\n",
        "# show the data\n",
        "df\n",
        "#create the Target column\n",
        "#if tommorrow's close price is gonna increase or decrease \n",
        "my_stocks['Target'] = np.where(my_stocks['GOOG'].shift(-1) > my_stocks['GOOG'], 1, 0)\n",
        "#show the data\n",
        "my_stocks\n",
        "#Remove the first 29 days of data since the RSI has nan values\n",
        "df = df[29:]\n",
        "#show the data\n",
        "df"
      ],
      "execution_count": null,
      "outputs": []
    },
    {
      "cell_type": "code",
      "metadata": {
        "id": "OJffuqXYNLb-"
      },
      "source": [
        "#split the data set into a feature or independent data set (X) and a Target or dependent data set (Y)\n",
        "keep_columns = ['GOOG', 'MACD', 'Signal_Line', 'RSI', 'SMA', 'EMA']\n",
        "X = df[keep_columns].values\n",
        "Y = df['Target'].values\n",
        "#split the data again but this time into 80% training and 20% testing data set\n",
        "X_train, X_test, Y_train, Y_test = train_test_split(X, Y, test_size = 0.2, random_state = 2)\n",
        "#create and train the decision tree classifier model\n",
        "tree = DecisionTreeClassifier().fit(X_train, Y_train)\n",
        "#check how well the model did on the training data set\n",
        "print(tree.score(X_train, Y_train))"
      ],
      "execution_count": null,
      "outputs": []
    },
    {
      "cell_type": "code",
      "metadata": {
        "id": "_u8iC3L1Oxl6"
      },
      "source": [
        "#check how well the model did on the testing data set\n",
        "print(tree.score(X_test, Y_test))\n",
        "#show the model tree predictions\n",
        "tree_predictions = tree.predict(X_test)\n",
        "print(tree_predictions)\n",
        "#show the actual values from the test data\n",
        "Y_test"
      ],
      "execution_count": null,
      "outputs": []
    },
    {
      "cell_type": "code",
      "metadata": {
        "id": "Njpm4orQPVJD"
      },
      "source": [
        "#get the model metrics\n",
        "from sklearn.metrics import classification_report\n",
        "print(classification_report(Y_test, tree_predictions))"
      ],
      "execution_count": null,
      "outputs": []
    }
  ]
}