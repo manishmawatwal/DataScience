{
  "nbformat": 4,
  "nbformat_minor": 0,
  "metadata": {
    "colab": {
      "name": "StockMovementClassifier.ipynb",
      "provenance": [],
      "collapsed_sections": [],
      "authorship_tag": "ABX9TyOYiX25utbKk1nr77Fp3hbZ",
      "include_colab_link": true
    },
    "kernelspec": {
      "name": "python3",
      "display_name": "Python 3"
    },
    "language_info": {
      "name": "python"
    }
  },
  "cells": [
    {
      "cell_type": "markdown",
      "metadata": {
        "id": "view-in-github",
        "colab_type": "text"
      },
      "source": [
        "<a href=\"https://colab.research.google.com/github/manishmawatwal/DataScience/blob/main/StockMovementClassifier.ipynb\" target=\"_parent\"><img src=\"https://colab.research.google.com/assets/colab-badge.svg\" alt=\"Open In Colab\"/></a>"
      ]
    },
    {
      "cell_type": "code",
      "metadata": {
        "id": "9YJe-660FuQ_"
      },
      "source": [
        "#Description: Use stock indicators with Machine Learning to predict stock price"
      ],
      "execution_count": 15,
      "outputs": []
    },
    {
      "cell_type": "code",
      "metadata": {
        "id": "B4etLAu2TPsi"
      },
      "source": [
        "#install the below package\n",
        "#pip install sklearn"
      ],
      "execution_count": 16,
      "outputs": []
    },
    {
      "cell_type": "code",
      "metadata": {
        "id": "ueTKszisF38P"
      },
      "source": [
        "#import libraries\n",
        "import numpy as np\n",
        "import pandas as pd\n",
        "from sklearn.model_selection import train_test_split\n",
        "from sklearn.tree import DecisionTreeClassifier\n",
        "from pandas_datareader import data as web\n",
        "import requests\n",
        "from datetime import datetime\n",
        "import matplotlib.pyplot as plt\n",
        "plt.style.use('fivethirtyeight')\n",
        "from bokeh.plotting import figure, show"
      ],
      "execution_count": 17,
      "outputs": []
    },
    {
      "cell_type": "code",
      "metadata": {
        "id": "e0SBFT_DP4Qn"
      },
      "source": [
        "#get stock symbol/tickers in the portfolio\n",
        "assets = ['GOOG']\n",
        "#get the stock/portfolio starting date\n",
        "stockStartDate = '2013-01-01'\n",
        "#get the ending date\n",
        "today = datetime.today().strftime('%Y-%m-%d')\n",
        "#create a dataframe to store the adjusted close price of the stocks\n",
        "df = pd.DataFrame()"
      ],
      "execution_count": 18,
      "outputs": []
    },
    {
      "cell_type": "code",
      "metadata": {
        "colab": {
          "base_uri": "https://localhost:8080/",
          "height": 455
        },
        "id": "XkvupOR3QVgh",
        "outputId": "a3719540-7eb9-407c-fac8-33b703937db5"
      },
      "source": [
        "#store the adjusted close price of the stock into the df and display\n",
        "for stock in assets:\n",
        "  df[stock] = web.DataReader(stock, data_source='yahoo', start=stockStartDate, end=today)['Close']\n",
        "\n",
        "#show the df\n",
        "df"
      ],
      "execution_count": 19,
      "outputs": [
        {
          "output_type": "execute_result",
          "data": {
            "text/html": [
              "<div>\n",
              "<style scoped>\n",
              "    .dataframe tbody tr th:only-of-type {\n",
              "        vertical-align: middle;\n",
              "    }\n",
              "\n",
              "    .dataframe tbody tr th {\n",
              "        vertical-align: top;\n",
              "    }\n",
              "\n",
              "    .dataframe thead th {\n",
              "        text-align: right;\n",
              "    }\n",
              "</style>\n",
              "<table border=\"1\" class=\"dataframe\">\n",
              "  <thead>\n",
              "    <tr style=\"text-align: right;\">\n",
              "      <th></th>\n",
              "      <th>GOOG</th>\n",
              "    </tr>\n",
              "    <tr>\n",
              "      <th>Date</th>\n",
              "      <th></th>\n",
              "    </tr>\n",
              "  </thead>\n",
              "  <tbody>\n",
              "    <tr>\n",
              "      <th>2013-01-02</th>\n",
              "      <td>360.274597</td>\n",
              "    </tr>\n",
              "    <tr>\n",
              "      <th>2013-01-03</th>\n",
              "      <td>360.483826</td>\n",
              "    </tr>\n",
              "    <tr>\n",
              "      <th>2013-01-04</th>\n",
              "      <td>367.607117</td>\n",
              "    </tr>\n",
              "    <tr>\n",
              "      <th>2013-01-07</th>\n",
              "      <td>366.003143</td>\n",
              "    </tr>\n",
              "    <tr>\n",
              "      <th>2013-01-08</th>\n",
              "      <td>365.280823</td>\n",
              "    </tr>\n",
              "    <tr>\n",
              "      <th>...</th>\n",
              "      <td>...</td>\n",
              "    </tr>\n",
              "    <tr>\n",
              "      <th>2021-05-03</th>\n",
              "      <td>2395.169922</td>\n",
              "    </tr>\n",
              "    <tr>\n",
              "      <th>2021-05-04</th>\n",
              "      <td>2354.250000</td>\n",
              "    </tr>\n",
              "    <tr>\n",
              "      <th>2021-05-05</th>\n",
              "      <td>2356.739990</td>\n",
              "    </tr>\n",
              "    <tr>\n",
              "      <th>2021-05-06</th>\n",
              "      <td>2381.350098</td>\n",
              "    </tr>\n",
              "    <tr>\n",
              "      <th>2021-05-07</th>\n",
              "      <td>2398.689941</td>\n",
              "    </tr>\n",
              "  </tbody>\n",
              "</table>\n",
              "<p>2102 rows × 1 columns</p>\n",
              "</div>"
            ],
            "text/plain": [
              "                   GOOG\n",
              "Date                   \n",
              "2013-01-02   360.274597\n",
              "2013-01-03   360.483826\n",
              "2013-01-04   367.607117\n",
              "2013-01-07   366.003143\n",
              "2013-01-08   365.280823\n",
              "...                 ...\n",
              "2021-05-03  2395.169922\n",
              "2021-05-04  2354.250000\n",
              "2021-05-05  2356.739990\n",
              "2021-05-06  2381.350098\n",
              "2021-05-07  2398.689941\n",
              "\n",
              "[2102 rows x 1 columns]"
            ]
          },
          "metadata": {
            "tags": []
          },
          "execution_count": 19
        }
      ]
    },
    {
      "cell_type": "code",
      "metadata": {
        "colab": {
          "base_uri": "https://localhost:8080/",
          "height": 354
        },
        "id": "pr50-z69WpX4",
        "outputId": "1b8f5155-798d-4bab-f030-bdd385b77f0c"
      },
      "source": [
        "#Visualize the data\n",
        "plt.figure(figsize=(12.5, 4.5))\n",
        "plt.plot(df['GOOG'], label = 'GOOG')\n",
        "plt.title('Google Adj. Close Price History')\n",
        "plt.xlabel('Jan. 01. 2013 - Today')\n",
        "plt.ylabel('Adj. Close Price USD ($)')\n",
        "plt.legend(loc = 'upper left')\n",
        "plt.show()"
      ],
      "execution_count": 20,
      "outputs": [
        {
          "output_type": "display_data",
          "data": {
            "image/png": "[encoded data removed]",
            "text/plain": [
              "<Figure size 900x324 with 1 Axes>"
            ]
          },
          "metadata": {
            "tags": []
          }
        }
      ]
    },
    {
      "cell_type": "code",
      "metadata": {
        "id": "K7lTDmqpL4dU"
      },
      "source": [
        "#Create functions to calculate the Simple Moving Average (SMA) and Exponnetial Moving Average (EMA)\n",
        "#typical time period for moving averages are 15, 20, and 30\n",
        "#create the simple moving average (SMA)\n",
        "def SMA(data, period = 30, column = 'GOOG'):\n",
        "  return data[column].rolling(window = period).mean()\n",
        "\n",
        "#create the exponential moving average (EMA)\n",
        "def EMA(data, period = 20, column = 'GOOG'):\n",
        "  return data[column].ewm(span = period, adjust = False).mean()"
      ],
      "execution_count": 21,
      "outputs": []
    },
    {
      "cell_type": "code",
      "metadata": {
        "id": "nDlCITHoL9rh"
      },
      "source": [
        "#create a function to calculate the Moving Average Convergence/Divergence (MACD)\n",
        "def MACD(data, period_long = 26, period_short = 12, period_signal = 9, column = 'GOOG'):\n",
        "  #calculate the short term EMA\n",
        "  ShortEMA = EMA(data, period = period_short, column = column)\n",
        "  #calculate the long term EMA\n",
        "  LongEMA = EMA(data, period = period_long, column = column)\n",
        "  #calculate and store the MACD into the data frame\n",
        "  data['MACD'] = ShortEMA - LongEMA\n",
        "  #calculate the signal line and store it into the data frame\n",
        "  data['Signal_Line'] = EMA(data, period = period_signal, column = 'MACD')\n",
        "\n",
        "  return data"
      ],
      "execution_count": 22,
      "outputs": []
    },
    {
      "cell_type": "code",
      "metadata": {
        "id": "YfFPyGM0MBQT"
      },
      "source": [
        "#create a function to calculate Relative Strength Index (RSI)\n",
        "def RSI(data, period = 14, column = 'GOOG'):\n",
        "  delta = data[column].diff(1)\n",
        "  delta = delta.dropna()\n",
        "  up = delta.copy()\n",
        "  down = delta.copy()\n",
        "  up[up < 0] = 0\n",
        "  down[down > 0] = 0\n",
        "  data['up'] = up\n",
        "  data['down'] = down\n",
        "  AVG_Gain = SMA(data, period, column = 'up')\n",
        "  AVG_Loss = abs(SMA(data, period, column = 'down'))\n",
        "  RS = AVG_Gain / AVG_Loss\n",
        "  RSI = 100.0 - (100.0 / (1.0 + RS))\n",
        "\n",
        "  data['RSI'] = RSI\n",
        "  return data"
      ],
      "execution_count": 23,
      "outputs": []
    },
    {
      "cell_type": "code",
      "metadata": {
        "colab": {
          "base_uri": "https://localhost:8080/",
          "height": 455
        },
        "id": "g8FbmHQAMEot",
        "outputId": "e3c92eb9-15aa-4681-b630-eb68ed80d7b3"
      },
      "source": [
        "#Add the indicators to the data set\n",
        "MACD(df)\n",
        "RSI(df)\n",
        "df['SMA'] = SMA(df)\n",
        "df['EMA'] = EMA(df)\n",
        "# show the data\n",
        "df"
      ],
      "execution_count": 24,
      "outputs": [
        {
          "output_type": "execute_result",
          "data": {
            "text/html": [
              "<div>\n",
              "<style scoped>\n",
              "    .dataframe tbody tr th:only-of-type {\n",
              "        vertical-align: middle;\n",
              "    }\n",
              "\n",
              "    .dataframe tbody tr th {\n",
              "        vertical-align: top;\n",
              "    }\n",
              "\n",
              "    .dataframe thead th {\n",
              "        text-align: right;\n",
              "    }\n",
              "</style>\n",
              "<table border=\"1\" class=\"dataframe\">\n",
              "  <thead>\n",
              "    <tr style=\"text-align: right;\">\n",
              "      <th></th>\n",
              "      <th>GOOG</th>\n",
              "      <th>MACD</th>\n",
              "      <th>Signal_Line</th>\n",
              "      <th>up</th>\n",
              "      <th>down</th>\n",
              "      <th>RSI</th>\n",
              "      <th>SMA</th>\n",
              "      <th>EMA</th>\n",
              "    </tr>\n",
              "    <tr>\n",
              "      <th>Date</th>\n",
              "      <th></th>\n",
              "      <th></th>\n",
              "      <th></th>\n",
              "      <th></th>\n",
              "      <th></th>\n",
              "      <th></th>\n",
              "      <th></th>\n",
              "      <th></th>\n",
              "    </tr>\n",
              "  </thead>\n",
              "  <tbody>\n",
              "    <tr>\n",
              "      <th>2013-01-02</th>\n",
              "      <td>360.274597</td>\n",
              "      <td>0.000000</td>\n",
              "      <td>0.000000</td>\n",
              "      <td>NaN</td>\n",
              "      <td>NaN</td>\n",
              "      <td>NaN</td>\n",
              "      <td>NaN</td>\n",
              "      <td>360.274597</td>\n",
              "    </tr>\n",
              "    <tr>\n",
              "      <th>2013-01-03</th>\n",
              "      <td>360.483826</td>\n",
              "      <td>0.016691</td>\n",
              "      <td>0.003338</td>\n",
              "      <td>0.209229</td>\n",
              "      <td>0.000000</td>\n",
              "      <td>NaN</td>\n",
              "      <td>NaN</td>\n",
              "      <td>360.294524</td>\n",
              "    </tr>\n",
              "    <tr>\n",
              "      <th>2013-01-04</th>\n",
              "      <td>367.607117</td>\n",
              "      <td>0.597817</td>\n",
              "      <td>0.122234</td>\n",
              "      <td>7.123291</td>\n",
              "      <td>0.000000</td>\n",
              "      <td>NaN</td>\n",
              "      <td>NaN</td>\n",
              "      <td>360.990961</td>\n",
              "    </tr>\n",
              "    <tr>\n",
              "      <th>2013-01-07</th>\n",
              "      <td>366.003143</td>\n",
              "      <td>0.918350</td>\n",
              "      <td>0.281457</td>\n",
              "      <td>0.000000</td>\n",
              "      <td>-1.603973</td>\n",
              "      <td>NaN</td>\n",
              "      <td>NaN</td>\n",
              "      <td>361.468312</td>\n",
              "    </tr>\n",
              "    <tr>\n",
              "      <th>2013-01-08</th>\n",
              "      <td>365.280823</td>\n",
              "      <td>1.101394</td>\n",
              "      <td>0.445444</td>\n",
              "      <td>0.000000</td>\n",
              "      <td>-0.722321</td>\n",
              "      <td>NaN</td>\n",
              "      <td>NaN</td>\n",
              "      <td>361.831408</td>\n",
              "    </tr>\n",
              "    <tr>\n",
              "      <th>...</th>\n",
              "      <td>...</td>\n",
              "      <td>...</td>\n",
              "      <td>...</td>\n",
              "      <td>...</td>\n",
              "      <td>...</td>\n",
              "      <td>...</td>\n",
              "      <td>...</td>\n",
              "      <td>...</td>\n",
              "    </tr>\n",
              "    <tr>\n",
              "      <th>2021-05-03</th>\n",
              "      <td>2395.169922</td>\n",
              "      <td>69.268652</td>\n",
              "      <td>63.500948</td>\n",
              "      <td>0.000000</td>\n",
              "      <td>-14.950195</td>\n",
              "      <td>69.355346</td>\n",
              "      <td>2229.283317</td>\n",
              "      <td>2299.356322</td>\n",
              "    </tr>\n",
              "    <tr>\n",
              "      <th>2021-05-04</th>\n",
              "      <td>2354.250000</td>\n",
              "      <td>65.167418</td>\n",
              "      <td>63.834242</td>\n",
              "      <td>0.000000</td>\n",
              "      <td>-40.919922</td>\n",
              "      <td>63.849658</td>\n",
              "      <td>2239.805318</td>\n",
              "      <td>2304.584291</td>\n",
              "    </tr>\n",
              "    <tr>\n",
              "      <th>2021-05-05</th>\n",
              "      <td>2356.739990</td>\n",
              "      <td>61.410184</td>\n",
              "      <td>63.349430</td>\n",
              "      <td>2.489990</td>\n",
              "      <td>0.000000</td>\n",
              "      <td>59.400450</td>\n",
              "      <td>2249.931319</td>\n",
              "      <td>2309.551501</td>\n",
              "    </tr>\n",
              "    <tr>\n",
              "      <th>2021-05-06</th>\n",
              "      <td>2381.350098</td>\n",
              "      <td>59.729850</td>\n",
              "      <td>62.625514</td>\n",
              "      <td>24.610107</td>\n",
              "      <td>0.000000</td>\n",
              "      <td>62.182673</td>\n",
              "      <td>2261.140987</td>\n",
              "      <td>2316.389462</td>\n",
              "    </tr>\n",
              "    <tr>\n",
              "      <th>2021-05-07</th>\n",
              "      <td>2398.689941</td>\n",
              "      <td>59.115902</td>\n",
              "      <td>61.923592</td>\n",
              "      <td>17.339844</td>\n",
              "      <td>0.000000</td>\n",
              "      <td>63.532643</td>\n",
              "      <td>2272.951986</td>\n",
              "      <td>2324.227603</td>\n",
              "    </tr>\n",
              "  </tbody>\n",
              "</table>\n",
              "<p>2102 rows × 8 columns</p>\n",
              "</div>"
            ],
            "text/plain": [
              "                   GOOG       MACD  ...          SMA          EMA\n",
              "Date                                ...                          \n",
              "2013-01-02   360.274597   0.000000  ...          NaN   360.274597\n",
              "2013-01-03   360.483826   0.016691  ...          NaN   360.294524\n",
              "2013-01-04   367.607117   0.597817  ...          NaN   360.990961\n",
              "2013-01-07   366.003143   0.918350  ...          NaN   361.468312\n",
              "2013-01-08   365.280823   1.101394  ...          NaN   361.831408\n",
              "...                 ...        ...  ...          ...          ...\n",
              "2021-05-03  2395.169922  69.268652  ...  2229.283317  2299.356322\n",
              "2021-05-04  2354.250000  65.167418  ...  2239.805318  2304.584291\n",
              "2021-05-05  2356.739990  61.410184  ...  2249.931319  2309.551501\n",
              "2021-05-06  2381.350098  59.729850  ...  2261.140987  2316.389462\n",
              "2021-05-07  2398.689941  59.115902  ...  2272.951986  2324.227603\n",
              "\n",
              "[2102 rows x 8 columns]"
            ]
          },
          "metadata": {
            "tags": []
          },
          "execution_count": 24
        }
      ]
    },
    {
      "cell_type": "code",
      "metadata": {
        "colab": {
          "base_uri": "https://localhost:8080/",
          "height": 455
        },
        "id": "AwxPwWVwMTSP",
        "outputId": "5530deda-fe5f-4aea-982d-ea68f4a9769c"
      },
      "source": [
        "#create the Target column\n",
        "#if tommorrow's close price is gonna increase or decrease \n",
        "df['Target'] = np.where(df['GOOG'].shift(-1) > df['GOOG'], 1, 0)\n",
        "#show the data\n",
        "df"
      ],
      "execution_count": 25,
      "outputs": [
        {
          "output_type": "execute_result",
          "data": {
            "text/html": [
              "<div>\n",
              "<style scoped>\n",
              "    .dataframe tbody tr th:only-of-type {\n",
              "        vertical-align: middle;\n",
              "    }\n",
              "\n",
              "    .dataframe tbody tr th {\n",
              "        vertical-align: top;\n",
              "    }\n",
              "\n",
              "    .dataframe thead th {\n",
              "        text-align: right;\n",
              "    }\n",
              "</style>\n",
              "<table border=\"1\" class=\"dataframe\">\n",
              "  <thead>\n",
              "    <tr style=\"text-align: right;\">\n",
              "      <th></th>\n",
              "      <th>GOOG</th>\n",
              "      <th>MACD</th>\n",
              "      <th>Signal_Line</th>\n",
              "      <th>up</th>\n",
              "      <th>down</th>\n",
              "      <th>RSI</th>\n",
              "      <th>SMA</th>\n",
              "      <th>EMA</th>\n",
              "      <th>Target</th>\n",
              "    </tr>\n",
              "    <tr>\n",
              "      <th>Date</th>\n",
              "      <th></th>\n",
              "      <th></th>\n",
              "      <th></th>\n",
              "      <th></th>\n",
              "      <th></th>\n",
              "      <th></th>\n",
              "      <th></th>\n",
              "      <th></th>\n",
              "      <th></th>\n",
              "    </tr>\n",
              "  </thead>\n",
              "  <tbody>\n",
              "    <tr>\n",
              "      <th>2013-01-02</th>\n",
              "      <td>360.274597</td>\n",
              "      <td>0.000000</td>\n",
              "      <td>0.000000</td>\n",
              "      <td>NaN</td>\n",
              "      <td>NaN</td>\n",
              "      <td>NaN</td>\n",
              "      <td>NaN</td>\n",
              "      <td>360.274597</td>\n",
              "      <td>1</td>\n",
              "    </tr>\n",
              "    <tr>\n",
              "      <th>2013-01-03</th>\n",
              "      <td>360.483826</td>\n",
              "      <td>0.016691</td>\n",
              "      <td>0.003338</td>\n",
              "      <td>0.209229</td>\n",
              "      <td>0.000000</td>\n",
              "      <td>NaN</td>\n",
              "      <td>NaN</td>\n",
              "      <td>360.294524</td>\n",
              "      <td>1</td>\n",
              "    </tr>\n",
              "    <tr>\n",
              "      <th>2013-01-04</th>\n",
              "      <td>367.607117</td>\n",
              "      <td>0.597817</td>\n",
              "      <td>0.122234</td>\n",
              "      <td>7.123291</td>\n",
              "      <td>0.000000</td>\n",
              "      <td>NaN</td>\n",
              "      <td>NaN</td>\n",
              "      <td>360.990961</td>\n",
              "      <td>0</td>\n",
              "    </tr>\n",
              "    <tr>\n",
              "      <th>2013-01-07</th>\n",
              "      <td>366.003143</td>\n",
              "      <td>0.918350</td>\n",
              "      <td>0.281457</td>\n",
              "      <td>0.000000</td>\n",
              "      <td>-1.603973</td>\n",
              "      <td>NaN</td>\n",
              "      <td>NaN</td>\n",
              "      <td>361.468312</td>\n",
              "      <td>0</td>\n",
              "    </tr>\n",
              "    <tr>\n",
              "      <th>2013-01-08</th>\n",
              "      <td>365.280823</td>\n",
              "      <td>1.101394</td>\n",
              "      <td>0.445444</td>\n",
              "      <td>0.000000</td>\n",
              "      <td>-0.722321</td>\n",
              "      <td>NaN</td>\n",
              "      <td>NaN</td>\n",
              "      <td>361.831408</td>\n",
              "      <td>1</td>\n",
              "    </tr>\n",
              "    <tr>\n",
              "      <th>...</th>\n",
              "      <td>...</td>\n",
              "      <td>...</td>\n",
              "      <td>...</td>\n",
              "      <td>...</td>\n",
              "      <td>...</td>\n",
              "      <td>...</td>\n",
              "      <td>...</td>\n",
              "      <td>...</td>\n",
              "      <td>...</td>\n",
              "    </tr>\n",
              "    <tr>\n",
              "      <th>2021-05-03</th>\n",
              "      <td>2395.169922</td>\n",
              "      <td>69.268652</td>\n",
              "      <td>63.500948</td>\n",
              "      <td>0.000000</td>\n",
              "      <td>-14.950195</td>\n",
              "      <td>69.355346</td>\n",
              "      <td>2229.283317</td>\n",
              "      <td>2299.356322</td>\n",
              "      <td>0</td>\n",
              "    </tr>\n",
              "    <tr>\n",
              "      <th>2021-05-04</th>\n",
              "      <td>2354.250000</td>\n",
              "      <td>65.167418</td>\n",
              "      <td>63.834242</td>\n",
              "      <td>0.000000</td>\n",
              "      <td>-40.919922</td>\n",
              "      <td>63.849658</td>\n",
              "      <td>2239.805318</td>\n",
              "      <td>2304.584291</td>\n",
              "      <td>1</td>\n",
              "    </tr>\n",
              "    <tr>\n",
              "      <th>2021-05-05</th>\n",
              "      <td>2356.739990</td>\n",
              "      <td>61.410184</td>\n",
              "      <td>63.349430</td>\n",
              "      <td>2.489990</td>\n",
              "      <td>0.000000</td>\n",
              "      <td>59.400450</td>\n",
              "      <td>2249.931319</td>\n",
              "      <td>2309.551501</td>\n",
              "      <td>1</td>\n",
              "    </tr>\n",
              "    <tr>\n",
              "      <th>2021-05-06</th>\n",
              "      <td>2381.350098</td>\n",
              "      <td>59.729850</td>\n",
              "      <td>62.625514</td>\n",
              "      <td>24.610107</td>\n",
              "      <td>0.000000</td>\n",
              "      <td>62.182673</td>\n",
              "      <td>2261.140987</td>\n",
              "      <td>2316.389462</td>\n",
              "      <td>1</td>\n",
              "    </tr>\n",
              "    <tr>\n",
              "      <th>2021-05-07</th>\n",
              "      <td>2398.689941</td>\n",
              "      <td>59.115902</td>\n",
              "      <td>61.923592</td>\n",
              "      <td>17.339844</td>\n",
              "      <td>0.000000</td>\n",
              "      <td>63.532643</td>\n",
              "      <td>2272.951986</td>\n",
              "      <td>2324.227603</td>\n",
              "      <td>0</td>\n",
              "    </tr>\n",
              "  </tbody>\n",
              "</table>\n",
              "<p>2102 rows × 9 columns</p>\n",
              "</div>"
            ],
            "text/plain": [
              "                   GOOG       MACD  ...          EMA  Target\n",
              "Date                                ...                     \n",
              "2013-01-02   360.274597   0.000000  ...   360.274597       1\n",
              "2013-01-03   360.483826   0.016691  ...   360.294524       1\n",
              "2013-01-04   367.607117   0.597817  ...   360.990961       0\n",
              "2013-01-07   366.003143   0.918350  ...   361.468312       0\n",
              "2013-01-08   365.280823   1.101394  ...   361.831408       1\n",
              "...                 ...        ...  ...          ...     ...\n",
              "2021-05-03  2395.169922  69.268652  ...  2299.356322       0\n",
              "2021-05-04  2354.250000  65.167418  ...  2304.584291       1\n",
              "2021-05-05  2356.739990  61.410184  ...  2309.551501       1\n",
              "2021-05-06  2381.350098  59.729850  ...  2316.389462       1\n",
              "2021-05-07  2398.689941  59.115902  ...  2324.227603       0\n",
              "\n",
              "[2102 rows x 9 columns]"
            ]
          },
          "metadata": {
            "tags": []
          },
          "execution_count": 25
        }
      ]
    },
    {
      "cell_type": "code",
      "metadata": {
        "colab": {
          "base_uri": "https://localhost:8080/",
          "height": 455
        },
        "id": "R-V5Kr25MwHY",
        "outputId": "58da675f-41fe-4e08-860e-5a90a8d28ce1"
      },
      "source": [
        "#Remove the first 29 days of data since the RSI and SMA have NaN values\n",
        "df = df[29:]\n",
        "#show the data\n",
        "df"
      ],
      "execution_count": 26,
      "outputs": [
        {
          "output_type": "execute_result",
          "data": {
            "text/html": [
              "<div>\n",
              "<style scoped>\n",
              "    .dataframe tbody tr th:only-of-type {\n",
              "        vertical-align: middle;\n",
              "    }\n",
              "\n",
              "    .dataframe tbody tr th {\n",
              "        vertical-align: top;\n",
              "    }\n",
              "\n",
              "    .dataframe thead th {\n",
              "        text-align: right;\n",
              "    }\n",
              "</style>\n",
              "<table border=\"1\" class=\"dataframe\">\n",
              "  <thead>\n",
              "    <tr style=\"text-align: right;\">\n",
              "      <th></th>\n",
              "      <th>GOOG</th>\n",
              "      <th>MACD</th>\n",
              "      <th>Signal_Line</th>\n",
              "      <th>up</th>\n",
              "      <th>down</th>\n",
              "      <th>RSI</th>\n",
              "      <th>SMA</th>\n",
              "      <th>EMA</th>\n",
              "      <th>Target</th>\n",
              "    </tr>\n",
              "    <tr>\n",
              "      <th>Date</th>\n",
              "      <th></th>\n",
              "      <th></th>\n",
              "      <th></th>\n",
              "      <th></th>\n",
              "      <th></th>\n",
              "      <th></th>\n",
              "      <th></th>\n",
              "      <th></th>\n",
              "      <th></th>\n",
              "    </tr>\n",
              "  </thead>\n",
              "  <tbody>\n",
              "    <tr>\n",
              "      <th>2013-02-13</th>\n",
              "      <td>389.968292</td>\n",
              "      <td>7.042438</td>\n",
              "      <td>5.781522</td>\n",
              "      <td>1.075958</td>\n",
              "      <td>0.000000</td>\n",
              "      <td>68.339454</td>\n",
              "      <td>371.835270</td>\n",
              "      <td>378.920834</td>\n",
              "      <td>1</td>\n",
              "    </tr>\n",
              "    <tr>\n",
              "      <th>2013-02-14</th>\n",
              "      <td>392.439056</td>\n",
              "      <td>7.236307</td>\n",
              "      <td>6.072479</td>\n",
              "      <td>2.470764</td>\n",
              "      <td>0.000000</td>\n",
              "      <td>70.689431</td>\n",
              "      <td>372.907419</td>\n",
              "      <td>380.208284</td>\n",
              "      <td>1</td>\n",
              "    </tr>\n",
              "    <tr>\n",
              "      <th>2013-02-15</th>\n",
              "      <td>394.964569</td>\n",
              "      <td>7.507200</td>\n",
              "      <td>6.359423</td>\n",
              "      <td>2.525513</td>\n",
              "      <td>0.000000</td>\n",
              "      <td>74.899558</td>\n",
              "      <td>374.056777</td>\n",
              "      <td>381.613644</td>\n",
              "      <td>1</td>\n",
              "    </tr>\n",
              "    <tr>\n",
              "      <th>2013-02-19</th>\n",
              "      <td>401.918518</td>\n",
              "      <td>8.188616</td>\n",
              "      <td>6.725262</td>\n",
              "      <td>6.953949</td>\n",
              "      <td>0.000000</td>\n",
              "      <td>77.788187</td>\n",
              "      <td>375.200490</td>\n",
              "      <td>383.547442</td>\n",
              "      <td>0</td>\n",
              "    </tr>\n",
              "    <tr>\n",
              "      <th>2013-02-20</th>\n",
              "      <td>394.750366</td>\n",
              "      <td>8.057353</td>\n",
              "      <td>6.991680</td>\n",
              "      <td>0.000000</td>\n",
              "      <td>-7.168152</td>\n",
              "      <td>67.573426</td>\n",
              "      <td>376.158731</td>\n",
              "      <td>384.614387</td>\n",
              "      <td>1</td>\n",
              "    </tr>\n",
              "    <tr>\n",
              "      <th>...</th>\n",
              "      <td>...</td>\n",
              "      <td>...</td>\n",
              "      <td>...</td>\n",
              "      <td>...</td>\n",
              "      <td>...</td>\n",
              "      <td>...</td>\n",
              "      <td>...</td>\n",
              "      <td>...</td>\n",
              "      <td>...</td>\n",
              "    </tr>\n",
              "    <tr>\n",
              "      <th>2021-05-03</th>\n",
              "      <td>2395.169922</td>\n",
              "      <td>69.268652</td>\n",
              "      <td>63.500948</td>\n",
              "      <td>0.000000</td>\n",
              "      <td>-14.950195</td>\n",
              "      <td>69.355346</td>\n",
              "      <td>2229.283317</td>\n",
              "      <td>2299.356322</td>\n",
              "      <td>0</td>\n",
              "    </tr>\n",
              "    <tr>\n",
              "      <th>2021-05-04</th>\n",
              "      <td>2354.250000</td>\n",
              "      <td>65.167418</td>\n",
              "      <td>63.834242</td>\n",
              "      <td>0.000000</td>\n",
              "      <td>-40.919922</td>\n",
              "      <td>63.849658</td>\n",
              "      <td>2239.805318</td>\n",
              "      <td>2304.584291</td>\n",
              "      <td>1</td>\n",
              "    </tr>\n",
              "    <tr>\n",
              "      <th>2021-05-05</th>\n",
              "      <td>2356.739990</td>\n",
              "      <td>61.410184</td>\n",
              "      <td>63.349430</td>\n",
              "      <td>2.489990</td>\n",
              "      <td>0.000000</td>\n",
              "      <td>59.400450</td>\n",
              "      <td>2249.931319</td>\n",
              "      <td>2309.551501</td>\n",
              "      <td>1</td>\n",
              "    </tr>\n",
              "    <tr>\n",
              "      <th>2021-05-06</th>\n",
              "      <td>2381.350098</td>\n",
              "      <td>59.729850</td>\n",
              "      <td>62.625514</td>\n",
              "      <td>24.610107</td>\n",
              "      <td>0.000000</td>\n",
              "      <td>62.182673</td>\n",
              "      <td>2261.140987</td>\n",
              "      <td>2316.389462</td>\n",
              "      <td>1</td>\n",
              "    </tr>\n",
              "    <tr>\n",
              "      <th>2021-05-07</th>\n",
              "      <td>2398.689941</td>\n",
              "      <td>59.115902</td>\n",
              "      <td>61.923592</td>\n",
              "      <td>17.339844</td>\n",
              "      <td>0.000000</td>\n",
              "      <td>63.532643</td>\n",
              "      <td>2272.951986</td>\n",
              "      <td>2324.227603</td>\n",
              "      <td>0</td>\n",
              "    </tr>\n",
              "  </tbody>\n",
              "</table>\n",
              "<p>2073 rows × 9 columns</p>\n",
              "</div>"
            ],
            "text/plain": [
              "                   GOOG       MACD  ...          EMA  Target\n",
              "Date                                ...                     \n",
              "2013-02-13   389.968292   7.042438  ...   378.920834       1\n",
              "2013-02-14   392.439056   7.236307  ...   380.208284       1\n",
              "2013-02-15   394.964569   7.507200  ...   381.613644       1\n",
              "2013-02-19   401.918518   8.188616  ...   383.547442       0\n",
              "2013-02-20   394.750366   8.057353  ...   384.614387       1\n",
              "...                 ...        ...  ...          ...     ...\n",
              "2021-05-03  2395.169922  69.268652  ...  2299.356322       0\n",
              "2021-05-04  2354.250000  65.167418  ...  2304.584291       1\n",
              "2021-05-05  2356.739990  61.410184  ...  2309.551501       1\n",
              "2021-05-06  2381.350098  59.729850  ...  2316.389462       1\n",
              "2021-05-07  2398.689941  59.115902  ...  2324.227603       0\n",
              "\n",
              "[2073 rows x 9 columns]"
            ]
          },
          "metadata": {
            "tags": []
          },
          "execution_count": 26
        }
      ]
    },
    {
      "cell_type": "code",
      "metadata": {
        "id": "OJffuqXYNLb-"
      },
      "source": [
        "#split the data set into a feature or independent data set (X) and a Target or dependent data set (Y)\n",
        "keep_columns = ['GOOG', 'MACD', 'Signal_Line', 'RSI', 'SMA', 'EMA']\n",
        "X = df[keep_columns].values\n",
        "Y = df['Target'].values"
      ],
      "execution_count": 27,
      "outputs": []
    },
    {
      "cell_type": "code",
      "metadata": {
        "id": "DXY4UetaN7jR"
      },
      "source": [
        "#split the data again but this time into 80% training and 20% testing data set\n",
        "X_train, X_test, Y_train, Y_test = train_test_split(X, Y, test_size = 0.2, random_state = 2)"
      ],
      "execution_count": 28,
      "outputs": []
    },
    {
      "cell_type": "code",
      "metadata": {
        "id": "062jycNVOWWb"
      },
      "source": [
        "#create and train the decision tree classifier model\n",
        "tree = DecisionTreeClassifier().fit(X_train, Y_train)"
      ],
      "execution_count": 29,
      "outputs": []
    },
    {
      "cell_type": "code",
      "metadata": {
        "colab": {
          "base_uri": "https://localhost:8080/"
        },
        "id": "tv5w8UwzOlvo",
        "outputId": "9f73377a-81ea-43f2-d9d2-eee9ddee563e"
      },
      "source": [
        "#check how well the model did on the training data set\n",
        "print(tree.score(X_train, Y_train))"
      ],
      "execution_count": 30,
      "outputs": [
        {
          "output_type": "stream",
          "text": [
            "1.0\n"
          ],
          "name": "stdout"
        }
      ]
    },
    {
      "cell_type": "code",
      "metadata": {
        "colab": {
          "base_uri": "https://localhost:8080/"
        },
        "id": "_u8iC3L1Oxl6",
        "outputId": "6e035b58-5a93-49ee-e241-88a1fa1ecef9"
      },
      "source": [
        "#check how well the model did on the testing data set\n",
        "print(tree.score(X_test, Y_test))"
      ],
      "execution_count": 31,
      "outputs": [
        {
          "output_type": "stream",
          "text": [
            "0.4987951807228916\n"
          ],
          "name": "stdout"
        }
      ]
    },
    {
      "cell_type": "code",
      "metadata": {
        "colab": {
          "base_uri": "https://localhost:8080/"
        },
        "id": "HDKpiK7oO8o1",
        "outputId": "1c7a7266-c0af-477c-baf4-84c68d981cc9"
      },
      "source": [
        "#show the model tree predictions\n",
        "tree_predictions = tree.predict(X_test)\n",
        "print(tree_predictions)"
      ],
      "execution_count": 32,
      "outputs": [
        {
          "output_type": "stream",
          "text": [
            "[0 1 0 1 1 0 1 0 0 1 0 1 0 1 0 1 1 1 0 0 1 1 1 0 0 0 1 1 1 0 1 1 0 1 1 0 1\n",
            " 0 0 1 0 0 0 0 1 0 1 0 1 0 0 1 1 0 1 1 1 1 1 1 0 0 0 0 0 0 0 1 0 1 1 0 1 1\n",
            " 1 1 0 1 0 1 0 0 0 0 1 1 0 0 0 0 1 0 1 1 0 1 0 1 0 1 1 1 0 0 1 1 1 1 1 1 0\n",
            " 1 1 0 0 0 0 1 0 0 1 1 0 1 1 0 1 1 1 1 0 0 0 0 0 0 0 1 0 1 1 0 1 0 1 1 0 0\n",
            " 0 0 0 1 0 0 0 1 1 1 0 1 1 1 0 1 0 1 1 0 0 1 0 1 1 1 1 0 1 0 1 0 0 0 1 1 1\n",
            " 0 1 1 0 1 1 0 0 1 1 1 1 0 1 1 1 1 1 1 1 1 0 1 1 1 0 1 0 1 1 1 0 1 0 1 1 0\n",
            " 0 0 1 0 1 0 0 1 1 1 1 1 0 0 1 0 1 0 1 0 1 0 1 1 1 0 0 1 1 1 0 1 1 1 1 0 0\n",
            " 1 0 0 1 1 1 1 0 1 1 0 1 1 1 1 0 0 1 1 0 0 0 0 1 0 0 0 0 0 0 0 0 1 0 0 1 1\n",
            " 1 1 1 1 0 0 0 0 1 1 1 0 0 0 1 1 0 1 1 0 0 1 0 0 1 0 0 1 1 0 1 1 1 1 1 0 1\n",
            " 1 1 0 1 1 1 1 1 0 0 1 0 0 0 1 1 1 0 0 0 0 1 0 1 0 1 0 1 1 0 1 0 0 1 1 1 1\n",
            " 1 1 1 1 1 1 1 0 0 0 1 1 1 1 0 0 0 0 1 1 0 0 1 1 1 0 0 0 0 1 0 0 0 0 0 1 1\n",
            " 1 0 0 1 0 1 0 1]\n"
          ],
          "name": "stdout"
        }
      ]
    },
    {
      "cell_type": "code",
      "metadata": {
        "colab": {
          "base_uri": "https://localhost:8080/"
        },
        "id": "c7OYmVsGPJD9",
        "outputId": "602354dd-7dd2-4c29-ab34-aca08690f8d1"
      },
      "source": [
        "#show the actual values from the test data\n",
        "Y_test"
      ],
      "execution_count": 33,
      "outputs": [
        {
          "output_type": "execute_result",
          "data": {
            "text/plain": [
              "array([1, 1, 0, 0, 0, 1, 0, 1, 0, 1, 1, 1, 0, 0, 0, 1, 0, 0, 1, 0, 1, 0,\n",
              "       0, 0, 0, 1, 0, 1, 0, 1, 0, 0, 1, 0, 1, 1, 1, 0, 0, 0, 1, 1, 0, 1,\n",
              "       1, 1, 1, 0, 1, 1, 0, 0, 0, 0, 0, 1, 0, 1, 1, 1, 0, 1, 0, 0, 1, 1,\n",
              "       1, 1, 1, 0, 1, 1, 0, 1, 1, 1, 1, 1, 1, 1, 1, 1, 1, 1, 0, 0, 1, 1,\n",
              "       0, 1, 0, 1, 1, 0, 1, 0, 0, 1, 0, 1, 0, 0, 1, 1, 0, 1, 0, 1, 0, 0,\n",
              "       0, 1, 0, 0, 1, 0, 0, 0, 1, 1, 1, 1, 1, 0, 0, 0, 0, 1, 0, 0, 0, 1,\n",
              "       0, 0, 1, 1, 0, 1, 1, 1, 1, 1, 1, 1, 1, 1, 0, 0, 0, 0, 0, 1, 0, 0,\n",
              "       1, 0, 1, 1, 0, 0, 0, 1, 1, 0, 1, 1, 0, 1, 0, 0, 1, 1, 1, 0, 0, 0,\n",
              "       0, 0, 1, 0, 1, 0, 0, 0, 0, 1, 0, 0, 1, 0, 1, 1, 1, 1, 1, 1, 1, 0,\n",
              "       0, 1, 1, 1, 0, 1, 1, 1, 0, 1, 0, 1, 1, 1, 0, 1, 1, 0, 0, 1, 0, 1,\n",
              "       1, 0, 1, 1, 0, 1, 1, 1, 0, 1, 1, 1, 0, 0, 0, 0, 0, 1, 1, 1, 1, 0,\n",
              "       0, 0, 0, 0, 0, 0, 0, 0, 0, 1, 0, 0, 0, 1, 1, 0, 0, 0, 0, 0, 1, 0,\n",
              "       0, 0, 0, 0, 1, 1, 0, 0, 0, 0, 1, 0, 0, 1, 1, 0, 1, 0, 1, 0, 1, 1,\n",
              "       1, 1, 1, 0, 0, 1, 1, 1, 1, 1, 0, 1, 0, 0, 0, 1, 0, 0, 1, 0, 1, 0,\n",
              "       1, 0, 0, 1, 1, 1, 1, 0, 1, 1, 1, 1, 0, 0, 0, 1, 1, 0, 1, 0, 1, 1,\n",
              "       0, 0, 1, 1, 1, 1, 1, 1, 1, 1, 0, 1, 1, 1, 0, 0, 1, 0, 0, 0, 0, 0,\n",
              "       0, 0, 1, 1, 0, 1, 0, 0, 0, 1, 0, 1, 1, 1, 0, 0, 0, 1, 1, 1, 1, 1,\n",
              "       1, 0, 1, 1, 0, 0, 0, 1, 0, 0, 1, 0, 1, 1, 1, 0, 0, 1, 0, 1, 1, 1,\n",
              "       1, 1, 1, 0, 1, 0, 1, 0, 1, 1, 0, 1, 1, 1, 0, 1, 0, 1, 1])"
            ]
          },
          "metadata": {
            "tags": []
          },
          "execution_count": 33
        }
      ]
    },
    {
      "cell_type": "code",
      "metadata": {
        "colab": {
          "base_uri": "https://localhost:8080/"
        },
        "id": "Njpm4orQPVJD",
        "outputId": "a6a1e45e-cb20-4d15-99e6-8f4c903251fb"
      },
      "source": [
        "#get the model metrics\n",
        "from sklearn.metrics import classification_report\n",
        "print(classification_report(Y_test, tree_predictions))"
      ],
      "execution_count": 34,
      "outputs": [
        {
          "output_type": "stream",
          "text": [
            "              precision    recall  f1-score   support\n",
            "\n",
            "           0       0.47      0.46      0.46       197\n",
            "           1       0.52      0.54      0.53       218\n",
            "\n",
            "    accuracy                           0.50       415\n",
            "   macro avg       0.50      0.50      0.50       415\n",
            "weighted avg       0.50      0.50      0.50       415\n",
            "\n"
          ],
          "name": "stdout"
        }
      ]
    }
  ]
}