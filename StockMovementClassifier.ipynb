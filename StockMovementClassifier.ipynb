{
  "nbformat": 4,
  "nbformat_minor": 0,
  "metadata": {
    "colab": {
      "name": "StockMovementClassifier.ipynb",
      "provenance": [],
      "collapsed_sections": [],
      "authorship_tag": "ABX9TyOIQC5drIgh97pS36nLQGq6",
      "include_colab_link": true
    },
    "kernelspec": {
      "name": "python3",
      "display_name": "Python 3"
    },
    "language_info": {
      "name": "python"
    }
  },
  "cells": [
    {
      "cell_type": "markdown",
      "metadata": {
        "id": "view-in-github",
        "colab_type": "text"
      },
      "source": [
        "<a href=\"https://colab.research.google.com/github/manishmawatwal/DataScience/blob/main/StockMovementClassifier.ipynb\" target=\"_parent\"><img src=\"https://colab.research.google.com/assets/colab-badge.svg\" alt=\"Open In Colab\"/></a>"
      ]
    },
    {
      "cell_type": "code",
      "metadata": {
        "id": "9YJe-660FuQ_"
      },
      "source": [
        "#Description: Use stock indicators with Machine Learning to predict stock price"
      ],
      "execution_count": 67,
      "outputs": []
    },
    {
      "cell_type": "code",
      "metadata": {
        "id": "ueTKszisF38P"
      },
      "source": [
        "#import libraries\n",
        "import numpy as np\n",
        "import pandas as pd\n",
        "from sklearn.model_selection import train_test_split\n",
        "from sklearn.tree import DecisionTreeClassifier\n",
        "from pandas_datareader import data as web\n",
        "import requests\n",
        "from datetime import datetime\n",
        "import matplotlib.pyplot as plt\n",
        "plt.style.use('fivethirtyeight')\n",
        "from bokeh.plotting import figure, show"
      ],
      "execution_count": 79,
      "outputs": []
    },
    {
      "cell_type": "code",
      "metadata": {
        "id": "e0SBFT_DP4Qn"
      },
      "source": [
        "#get stock symbol/tickers in the portfolio\n",
        "stockSymbols = ['GOOG', 'TSLA', 'NFLX']\n",
        "#get the stock/portfolio starting date\n",
        "stockStartDate = '2013-01-01'\n",
        "#get the ending date in the format YYYY-mm-dd / today's date\n",
        "today = datetime.today().strftime('%Y-%m-%d')\n",
        "#create a dataframe to store the adjusted close price of the stocks\n",
        "df = pd.DataFrame()"
      ],
      "execution_count": 89,
      "outputs": []
    },
    {
      "cell_type": "code",
      "metadata": {
        "id": "QPFusJZUDOes"
      },
      "source": [
        "#get the number of assets in the portfolio\n",
        "numAssets = len(stockSymbols)\n",
        "#print('You have '+str(numAssets)+' assets in your portfolio')"
      ],
      "execution_count": 90,
      "outputs": []
    },
    {
      "cell_type": "code",
      "metadata": {
        "colab": {
          "base_uri": "https://localhost:8080/",
          "height": 455
        },
        "id": "givYfEMrEkv5",
        "outputId": "ee3fdcc7-a617-44c6-bfe6-f517dd798332"
      },
      "source": [
        "#create function to get the stock price in the portfolio\n",
        "def getMyPortfolio(stocks = stockSymbols, start = stockStartDate, end = today, col='Adj Close'):\n",
        "  data = web.DataReader(stocks, data_source = 'yahoo', start = start, end = end)[col]\n",
        "  return data\n",
        "\n",
        "#get the stock portfolio Adj Close Price\n",
        "my_stocks = getMyPortfolio(stockSymbols)\n",
        "my_stocks"
      ],
      "execution_count": 91,
      "outputs": [
        {
          "output_type": "execute_result",
          "data": {
            "text/html": [
              "<div>\n",
              "<style scoped>\n",
              "    .dataframe tbody tr th:only-of-type {\n",
              "        vertical-align: middle;\n",
              "    }\n",
              "\n",
              "    .dataframe tbody tr th {\n",
              "        vertical-align: top;\n",
              "    }\n",
              "\n",
              "    .dataframe thead th {\n",
              "        text-align: right;\n",
              "    }\n",
              "</style>\n",
              "<table border=\"1\" class=\"dataframe\">\n",
              "  <thead>\n",
              "    <tr style=\"text-align: right;\">\n",
              "      <th>Symbols</th>\n",
              "      <th>GOOG</th>\n",
              "      <th>TSLA</th>\n",
              "      <th>NFLX</th>\n",
              "    </tr>\n",
              "    <tr>\n",
              "      <th>Date</th>\n",
              "      <th></th>\n",
              "      <th></th>\n",
              "      <th></th>\n",
              "    </tr>\n",
              "  </thead>\n",
              "  <tbody>\n",
              "    <tr>\n",
              "      <th>2013-01-02</th>\n",
              "      <td>360.274597</td>\n",
              "      <td>7.072000</td>\n",
              "      <td>13.144286</td>\n",
              "    </tr>\n",
              "    <tr>\n",
              "      <th>2013-01-03</th>\n",
              "      <td>360.483826</td>\n",
              "      <td>6.954000</td>\n",
              "      <td>13.798571</td>\n",
              "    </tr>\n",
              "    <tr>\n",
              "      <th>2013-01-04</th>\n",
              "      <td>367.607117</td>\n",
              "      <td>6.880000</td>\n",
              "      <td>13.711429</td>\n",
              "    </tr>\n",
              "    <tr>\n",
              "      <th>2013-01-07</th>\n",
              "      <td>366.003143</td>\n",
              "      <td>6.868000</td>\n",
              "      <td>14.171429</td>\n",
              "    </tr>\n",
              "    <tr>\n",
              "      <th>2013-01-08</th>\n",
              "      <td>365.280823</td>\n",
              "      <td>6.736000</td>\n",
              "      <td>13.880000</td>\n",
              "    </tr>\n",
              "    <tr>\n",
              "      <th>...</th>\n",
              "      <td>...</td>\n",
              "      <td>...</td>\n",
              "      <td>...</td>\n",
              "    </tr>\n",
              "    <tr>\n",
              "      <th>2021-05-03</th>\n",
              "      <td>2395.169922</td>\n",
              "      <td>684.900024</td>\n",
              "      <td>509.109985</td>\n",
              "    </tr>\n",
              "    <tr>\n",
              "      <th>2021-05-04</th>\n",
              "      <td>2354.250000</td>\n",
              "      <td>673.599976</td>\n",
              "      <td>503.179993</td>\n",
              "    </tr>\n",
              "    <tr>\n",
              "      <th>2021-05-05</th>\n",
              "      <td>2356.739990</td>\n",
              "      <td>670.940002</td>\n",
              "      <td>496.079987</td>\n",
              "    </tr>\n",
              "    <tr>\n",
              "      <th>2021-05-06</th>\n",
              "      <td>2381.350098</td>\n",
              "      <td>663.539978</td>\n",
              "      <td>499.549988</td>\n",
              "    </tr>\n",
              "    <tr>\n",
              "      <th>2021-05-07</th>\n",
              "      <td>2398.689941</td>\n",
              "      <td>672.369995</td>\n",
              "      <td>503.839996</td>\n",
              "    </tr>\n",
              "  </tbody>\n",
              "</table>\n",
              "<p>2102 rows × 3 columns</p>\n",
              "</div>"
            ],
            "text/plain": [
              "Symbols            GOOG        TSLA        NFLX\n",
              "Date                                           \n",
              "2013-01-02   360.274597    7.072000   13.144286\n",
              "2013-01-03   360.483826    6.954000   13.798571\n",
              "2013-01-04   367.607117    6.880000   13.711429\n",
              "2013-01-07   366.003143    6.868000   14.171429\n",
              "2013-01-08   365.280823    6.736000   13.880000\n",
              "...                 ...         ...         ...\n",
              "2021-05-03  2395.169922  684.900024  509.109985\n",
              "2021-05-04  2354.250000  673.599976  503.179993\n",
              "2021-05-05  2356.739990  670.940002  496.079987\n",
              "2021-05-06  2381.350098  663.539978  499.549988\n",
              "2021-05-07  2398.689941  672.369995  503.839996\n",
              "\n",
              "[2102 rows x 3 columns]"
            ]
          },
          "metadata": {
            "tags": []
          },
          "execution_count": 91
        }
      ]
    },
    {
      "cell_type": "code",
      "metadata": {
        "colab": {
          "base_uri": "https://localhost:8080/",
          "height": 274
        },
        "id": "PITpFJ1lG41w",
        "outputId": "5fe496c3-a33a-4c5e-d5a7-044535b26043"
      },
      "source": [
        "#create a function to visualize the portfolio\n",
        "def showGraph(stocks = stockSymbols, start = stockStartDate, end = today, col = 'Adj Close'):\n",
        "  #Create the title for the portfolio\n",
        "  title = 'Portfolio '+col+' Price History'\n",
        "  #get the stocks\n",
        "  my_stocks = getMyPortfolio(stocks = stocks, start= start, end =end, col=col)\n",
        "  #give the figure size\n",
        "  plt.figure(figsize=(12.2, 4.5))\n",
        "  #loop through each stock and plot the price\n",
        "  for c in my_stocks.columns.values:\n",
        "    plt.plot(my_stocks[c], label = c)\n",
        "  plt.title(title)\n",
        "  plt.xlabel('Date', fontsize = 18)\n",
        "  plt.ylabel(col+'Price USD ($)', fontsize = 18)\n",
        "  plt.legend(my_stocks.columns.values, loc = 'upper left')\n",
        "  plt.show()\n",
        "\n",
        "#show the adjusted close price\n",
        "showGraph(stockSymbols)"
      ],
      "execution_count": 92,
      "outputs": [
        {
          "output_type": "display_data",
          "data": {
            "image/png": "[encoded data removed]",
            "text/plain": [
              "<Figure size 878.4x324 with 1 Axes>"
            ]
          },
          "metadata": {
            "tags": []
          }
        }
      ]
    },
    {
      "cell_type": "code",
      "metadata": {
        "colab": {
          "base_uri": "https://localhost:8080/",
          "height": 455
        },
        "id": "4X9RFLcvJkqB",
        "outputId": "f82e29f9-b724-4f97-e91d-f25534bee7bb"
      },
      "source": [
        "#calculate and print the daily simple returns\n",
        "daily_simple_returns = my_stocks.pct_change(1)\n",
        "daily_simple_returns"
      ],
      "execution_count": 98,
      "outputs": [
        {
          "output_type": "execute_result",
          "data": {
            "text/html": [
              "<div>\n",
              "<style scoped>\n",
              "    .dataframe tbody tr th:only-of-type {\n",
              "        vertical-align: middle;\n",
              "    }\n",
              "\n",
              "    .dataframe tbody tr th {\n",
              "        vertical-align: top;\n",
              "    }\n",
              "\n",
              "    .dataframe thead th {\n",
              "        text-align: right;\n",
              "    }\n",
              "</style>\n",
              "<table border=\"1\" class=\"dataframe\">\n",
              "  <thead>\n",
              "    <tr style=\"text-align: right;\">\n",
              "      <th>Symbols</th>\n",
              "      <th>GOOG</th>\n",
              "      <th>TSLA</th>\n",
              "      <th>NFLX</th>\n",
              "    </tr>\n",
              "    <tr>\n",
              "      <th>Date</th>\n",
              "      <th></th>\n",
              "      <th></th>\n",
              "      <th></th>\n",
              "    </tr>\n",
              "  </thead>\n",
              "  <tbody>\n",
              "    <tr>\n",
              "      <th>2013-01-02</th>\n",
              "      <td>NaN</td>\n",
              "      <td>NaN</td>\n",
              "      <td>NaN</td>\n",
              "    </tr>\n",
              "    <tr>\n",
              "      <th>2013-01-03</th>\n",
              "      <td>0.000581</td>\n",
              "      <td>-0.016686</td>\n",
              "      <td>0.049777</td>\n",
              "    </tr>\n",
              "    <tr>\n",
              "      <th>2013-01-04</th>\n",
              "      <td>0.019760</td>\n",
              "      <td>-0.010641</td>\n",
              "      <td>-0.006315</td>\n",
              "    </tr>\n",
              "    <tr>\n",
              "      <th>2013-01-07</th>\n",
              "      <td>-0.004363</td>\n",
              "      <td>-0.001744</td>\n",
              "      <td>0.033549</td>\n",
              "    </tr>\n",
              "    <tr>\n",
              "      <th>2013-01-08</th>\n",
              "      <td>-0.001974</td>\n",
              "      <td>-0.019220</td>\n",
              "      <td>-0.020565</td>\n",
              "    </tr>\n",
              "    <tr>\n",
              "      <th>...</th>\n",
              "      <td>...</td>\n",
              "      <td>...</td>\n",
              "      <td>...</td>\n",
              "    </tr>\n",
              "    <tr>\n",
              "      <th>2021-05-03</th>\n",
              "      <td>-0.006203</td>\n",
              "      <td>-0.034591</td>\n",
              "      <td>-0.008491</td>\n",
              "    </tr>\n",
              "    <tr>\n",
              "      <th>2021-05-04</th>\n",
              "      <td>-0.017084</td>\n",
              "      <td>-0.016499</td>\n",
              "      <td>-0.011648</td>\n",
              "    </tr>\n",
              "    <tr>\n",
              "      <th>2021-05-05</th>\n",
              "      <td>0.001058</td>\n",
              "      <td>-0.003949</td>\n",
              "      <td>-0.014110</td>\n",
              "    </tr>\n",
              "    <tr>\n",
              "      <th>2021-05-06</th>\n",
              "      <td>0.010442</td>\n",
              "      <td>-0.011029</td>\n",
              "      <td>0.006995</td>\n",
              "    </tr>\n",
              "    <tr>\n",
              "      <th>2021-05-07</th>\n",
              "      <td>0.007282</td>\n",
              "      <td>0.013307</td>\n",
              "      <td>0.008588</td>\n",
              "    </tr>\n",
              "  </tbody>\n",
              "</table>\n",
              "<p>2102 rows × 3 columns</p>\n",
              "</div>"
            ],
            "text/plain": [
              "Symbols         GOOG      TSLA      NFLX\n",
              "Date                                    \n",
              "2013-01-02       NaN       NaN       NaN\n",
              "2013-01-03  0.000581 -0.016686  0.049777\n",
              "2013-01-04  0.019760 -0.010641 -0.006315\n",
              "2013-01-07 -0.004363 -0.001744  0.033549\n",
              "2013-01-08 -0.001974 -0.019220 -0.020565\n",
              "...              ...       ...       ...\n",
              "2021-05-03 -0.006203 -0.034591 -0.008491\n",
              "2021-05-04 -0.017084 -0.016499 -0.011648\n",
              "2021-05-05  0.001058 -0.003949 -0.014110\n",
              "2021-05-06  0.010442 -0.011029  0.006995\n",
              "2021-05-07  0.007282  0.013307  0.008588\n",
              "\n",
              "[2102 rows x 3 columns]"
            ]
          },
          "metadata": {
            "tags": []
          },
          "execution_count": 98
        }
      ]
    },
    {
      "cell_type": "code",
      "metadata": {
        "colab": {
          "base_uri": "https://localhost:8080/",
          "height": 175
        },
        "id": "QaIR0OVvN-zt",
        "outputId": "2abe73b3-0747-42c5-ca17-f4ec24155e3e"
      },
      "source": [
        "#show the daily simple stock correlation\n",
        "daily_simple_returns.corr()"
      ],
      "execution_count": 99,
      "outputs": [
        {
          "output_type": "execute_result",
          "data": {
            "text/html": [
              "<div>\n",
              "<style scoped>\n",
              "    .dataframe tbody tr th:only-of-type {\n",
              "        vertical-align: middle;\n",
              "    }\n",
              "\n",
              "    .dataframe tbody tr th {\n",
              "        vertical-align: top;\n",
              "    }\n",
              "\n",
              "    .dataframe thead th {\n",
              "        text-align: right;\n",
              "    }\n",
              "</style>\n",
              "<table border=\"1\" class=\"dataframe\">\n",
              "  <thead>\n",
              "    <tr style=\"text-align: right;\">\n",
              "      <th>Symbols</th>\n",
              "      <th>GOOG</th>\n",
              "      <th>TSLA</th>\n",
              "      <th>NFLX</th>\n",
              "    </tr>\n",
              "    <tr>\n",
              "      <th>Symbols</th>\n",
              "      <th></th>\n",
              "      <th></th>\n",
              "      <th></th>\n",
              "    </tr>\n",
              "  </thead>\n",
              "  <tbody>\n",
              "    <tr>\n",
              "      <th>GOOG</th>\n",
              "      <td>1.000000</td>\n",
              "      <td>0.325718</td>\n",
              "      <td>0.417245</td>\n",
              "    </tr>\n",
              "    <tr>\n",
              "      <th>TSLA</th>\n",
              "      <td>0.325718</td>\n",
              "      <td>1.000000</td>\n",
              "      <td>0.286280</td>\n",
              "    </tr>\n",
              "    <tr>\n",
              "      <th>NFLX</th>\n",
              "      <td>0.417245</td>\n",
              "      <td>0.286280</td>\n",
              "      <td>1.000000</td>\n",
              "    </tr>\n",
              "  </tbody>\n",
              "</table>\n",
              "</div>"
            ],
            "text/plain": [
              "Symbols      GOOG      TSLA      NFLX\n",
              "Symbols                              \n",
              "GOOG     1.000000  0.325718  0.417245\n",
              "TSLA     0.325718  1.000000  0.286280\n",
              "NFLX     0.417245  0.286280  1.000000"
            ]
          },
          "metadata": {
            "tags": []
          },
          "execution_count": 99
        }
      ]
    },
    {
      "cell_type": "code",
      "metadata": {
        "colab": {
          "base_uri": "https://localhost:8080/",
          "height": 175
        },
        "id": "0Xm6eFHnLiQK",
        "outputId": "004079af-4a8f-470d-d290-66efdc335a9b"
      },
      "source": [
        "#create and show the annualized covariance matrix\n",
        "daily_simple_returns.cov()"
      ],
      "execution_count": 100,
      "outputs": [
        {
          "output_type": "execute_result",
          "data": {
            "text/html": [
              "<div>\n",
              "<style scoped>\n",
              "    .dataframe tbody tr th:only-of-type {\n",
              "        vertical-align: middle;\n",
              "    }\n",
              "\n",
              "    .dataframe tbody tr th {\n",
              "        vertical-align: top;\n",
              "    }\n",
              "\n",
              "    .dataframe thead th {\n",
              "        text-align: right;\n",
              "    }\n",
              "</style>\n",
              "<table border=\"1\" class=\"dataframe\">\n",
              "  <thead>\n",
              "    <tr style=\"text-align: right;\">\n",
              "      <th>Symbols</th>\n",
              "      <th>GOOG</th>\n",
              "      <th>TSLA</th>\n",
              "      <th>NFLX</th>\n",
              "    </tr>\n",
              "    <tr>\n",
              "      <th>Symbols</th>\n",
              "      <th></th>\n",
              "      <th></th>\n",
              "      <th></th>\n",
              "    </tr>\n",
              "  </thead>\n",
              "  <tbody>\n",
              "    <tr>\n",
              "      <th>GOOG</th>\n",
              "      <td>0.000265</td>\n",
              "      <td>0.000189</td>\n",
              "      <td>0.000196</td>\n",
              "    </tr>\n",
              "    <tr>\n",
              "      <th>TSLA</th>\n",
              "      <td>0.000189</td>\n",
              "      <td>0.001273</td>\n",
              "      <td>0.000295</td>\n",
              "    </tr>\n",
              "    <tr>\n",
              "      <th>NFLX</th>\n",
              "      <td>0.000196</td>\n",
              "      <td>0.000295</td>\n",
              "      <td>0.000833</td>\n",
              "    </tr>\n",
              "  </tbody>\n",
              "</table>\n",
              "</div>"
            ],
            "text/plain": [
              "Symbols      GOOG      TSLA      NFLX\n",
              "Symbols                              \n",
              "GOOG     0.000265  0.000189  0.000196\n",
              "TSLA     0.000189  0.001273  0.000295\n",
              "NFLX     0.000196  0.000295  0.000833"
            ]
          },
          "metadata": {
            "tags": []
          },
          "execution_count": 100
        }
      ]
    },
    {
      "cell_type": "code",
      "metadata": {
        "colab": {
          "base_uri": "https://localhost:8080/"
        },
        "id": "Z_6Uyfh9MmJL",
        "outputId": "eb06ff9c-7ccf-4c0f-d708-b354414dffa1"
      },
      "source": [
        "#show variance\n",
        "daily_simple_returns.var()"
      ],
      "execution_count": 101,
      "outputs": [
        {
          "output_type": "execute_result",
          "data": {
            "text/plain": [
              "Symbols\n",
              "GOOG    0.000265\n",
              "TSLA    0.001273\n",
              "NFLX    0.000833\n",
              "dtype: float64"
            ]
          },
          "metadata": {
            "tags": []
          },
          "execution_count": 101
        }
      ]
    },
    {
      "cell_type": "code",
      "metadata": {
        "colab": {
          "base_uri": "https://localhost:8080/"
        },
        "id": "FlNMiAnnPjJ8",
        "outputId": "4e576529-9aa9-4b65-c188-feba71b15deb"
      },
      "source": [
        "#print the standard deviation for daily simple returns\n",
        "daily_simple_returns.std()"
      ],
      "execution_count": 102,
      "outputs": [
        {
          "output_type": "execute_result",
          "data": {
            "text/plain": [
              "Symbols\n",
              "GOOG    0.016277\n",
              "TSLA    0.035674\n",
              "NFLX    0.028863\n",
              "dtype: float64"
            ]
          },
          "metadata": {
            "tags": []
          },
          "execution_count": 102
        }
      ]
    },
    {
      "cell_type": "code",
      "metadata": {
        "id": "K7lTDmqpL4dU"
      },
      "source": [
        "#Create functions to calculate the Simple Moving Average (SMA) and Exponnetial Moving Average (EMA)\n",
        "#typical time period for moving averages are 15, 20, and 30\n",
        "#create the simple moving average (SMA)\n",
        "def SMA(data, period = 30, column = 'GOOG'):\n",
        "  return data[column].rolling(window = period).mean()\n",
        "\n",
        "#create the exponential moving average (EMA)\n",
        "def EMA(data, period = 20, column = 'GOOG'):\n",
        "  return data[column].ewm(span = period, adjust = False).mean()"
      ],
      "execution_count": 74,
      "outputs": []
    },
    {
      "cell_type": "code",
      "metadata": {
        "id": "nDlCITHoL9rh"
      },
      "source": [
        "#create a function to calculate the Moving Average Convergence/Divergence (MACD)\n",
        "def MACD(data, period_long = 26, period_short = 12, period_signal = 9, column = 'GOOG'):\n",
        "  #calculate the short term EMA\n",
        "  ShortEMA = EMA(data, period = period_short, column = column)\n",
        "  #calculate the long term EMA\n",
        "  LongEMA = EMA(data, period = period_long, column = column)\n",
        "  #calculate and store the MACD into the data frame\n",
        "  data['MACD'] = ShortEMA - LongEMA\n",
        "  #calculate the signal line and store it into the data frame\n",
        "  data['Signal_Line'] = EMA(data, period = period_signal, column = 'MACD')\n",
        "\n",
        "  return data"
      ],
      "execution_count": 75,
      "outputs": []
    },
    {
      "cell_type": "code",
      "metadata": {
        "id": "YfFPyGM0MBQT"
      },
      "source": [
        "#create a function to calculate Relative Strength Index (RSI)\n",
        "def RSI(data, period = 14, column = 'GOOG'):\n",
        "  delta = data[column].diff(1)\n",
        "  delta = delta.dropna()\n",
        "  up = delta.copy()\n",
        "  down = delta.copy()\n",
        "  up[up < 0] = 0\n",
        "  down[down > 0] = 0\n",
        "  data['up'] = up\n",
        "  data['down'] = down\n",
        "  AVG_Gain = SMA(data, period, column = 'up')\n",
        "  AVG_Loss = abs(SMA(data, period, column = 'down'))\n",
        "  RS = AVG_Gain / AVG_Loss\n",
        "  RSI = 100.0 - (100.0 / (1.0 + RS))\n",
        "\n",
        "  data['RSI'] = RSI\n",
        "  return data"
      ],
      "execution_count": 76,
      "outputs": []
    },
    {
      "cell_type": "code",
      "metadata": {
        "colab": {
          "base_uri": "https://localhost:8080/",
          "height": 667
        },
        "id": "g8FbmHQAMEot",
        "outputId": "01924eed-7afc-4574-9671-df28794d2006"
      },
      "source": [
        "#Add the indicators to the data set\n",
        "MACD(df)\n",
        "RSI(df)\n",
        "df['SMA'] = SMA(df)\n",
        "df['EMA'] = EMA(df)\n",
        "# show the data\n",
        "df"
      ],
      "execution_count": 77,
      "outputs": [
        {
          "output_type": "error",
          "ename": "KeyError",
          "evalue": "ignored",
          "traceback": [
            "\u001b[0;31m---------------------------------------------------------------------------\u001b[0m",
            "\u001b[0;31mKeyError\u001b[0m                                  Traceback (most recent call last)",
            "\u001b[0;32m/usr/local/lib/python3.7/dist-packages/pandas/core/indexes/base.py\u001b[0m in \u001b[0;36mget_loc\u001b[0;34m(self, key, method, tolerance)\u001b[0m\n\u001b[1;32m   2897\u001b[0m             \u001b[0;32mtry\u001b[0m\u001b[0;34m:\u001b[0m\u001b[0;34m\u001b[0m\u001b[0;34m\u001b[0m\u001b[0m\n\u001b[0;32m-> 2898\u001b[0;31m                 \u001b[0;32mreturn\u001b[0m \u001b[0mself\u001b[0m\u001b[0;34m.\u001b[0m\u001b[0m_engine\u001b[0m\u001b[0;34m.\u001b[0m\u001b[0mget_loc\u001b[0m\u001b[0;34m(\u001b[0m\u001b[0mcasted_key\u001b[0m\u001b[0;34m)\u001b[0m\u001b[0;34m\u001b[0m\u001b[0;34m\u001b[0m\u001b[0m\n\u001b[0m\u001b[1;32m   2899\u001b[0m             \u001b[0;32mexcept\u001b[0m \u001b[0mKeyError\u001b[0m \u001b[0;32mas\u001b[0m \u001b[0merr\u001b[0m\u001b[0;34m:\u001b[0m\u001b[0;34m\u001b[0m\u001b[0;34m\u001b[0m\u001b[0m\n",
            "\u001b[0;32mpandas/_libs/index.pyx\u001b[0m in \u001b[0;36mpandas._libs.index.IndexEngine.get_loc\u001b[0;34m()\u001b[0m\n",
            "\u001b[0;32mpandas/_libs/index.pyx\u001b[0m in \u001b[0;36mpandas._libs.index.IndexEngine.get_loc\u001b[0;34m()\u001b[0m\n",
            "\u001b[0;32mpandas/_libs/hashtable_class_helper.pxi\u001b[0m in \u001b[0;36mpandas._libs.hashtable.PyObjectHashTable.get_item\u001b[0;34m()\u001b[0m\n",
            "\u001b[0;32mpandas/_libs/hashtable_class_helper.pxi\u001b[0m in \u001b[0;36mpandas._libs.hashtable.PyObjectHashTable.get_item\u001b[0;34m()\u001b[0m\n",
            "\u001b[0;31mKeyError\u001b[0m: 'GOOG'",
            "\nThe above exception was the direct cause of the following exception:\n",
            "\u001b[0;31mKeyError\u001b[0m                                  Traceback (most recent call last)",
            "\u001b[0;32m<ipython-input-77-eb5f6d986cab>\u001b[0m in \u001b[0;36m<module>\u001b[0;34m()\u001b[0m\n\u001b[1;32m      1\u001b[0m \u001b[0;31m#Add the indicators to the data set\u001b[0m\u001b[0;34m\u001b[0m\u001b[0;34m\u001b[0m\u001b[0;34m\u001b[0m\u001b[0m\n\u001b[0;32m----> 2\u001b[0;31m \u001b[0mMACD\u001b[0m\u001b[0;34m(\u001b[0m\u001b[0mdf\u001b[0m\u001b[0;34m)\u001b[0m\u001b[0;34m\u001b[0m\u001b[0;34m\u001b[0m\u001b[0m\n\u001b[0m\u001b[1;32m      3\u001b[0m \u001b[0mRSI\u001b[0m\u001b[0;34m(\u001b[0m\u001b[0mdf\u001b[0m\u001b[0;34m)\u001b[0m\u001b[0;34m\u001b[0m\u001b[0;34m\u001b[0m\u001b[0m\n\u001b[1;32m      4\u001b[0m \u001b[0mdf\u001b[0m\u001b[0;34m[\u001b[0m\u001b[0;34m'SMA'\u001b[0m\u001b[0;34m]\u001b[0m \u001b[0;34m=\u001b[0m \u001b[0mSMA\u001b[0m\u001b[0;34m(\u001b[0m\u001b[0mdf\u001b[0m\u001b[0;34m)\u001b[0m\u001b[0;34m\u001b[0m\u001b[0;34m\u001b[0m\u001b[0m\n\u001b[1;32m      5\u001b[0m \u001b[0mdf\u001b[0m\u001b[0;34m[\u001b[0m\u001b[0;34m'EMA'\u001b[0m\u001b[0;34m]\u001b[0m \u001b[0;34m=\u001b[0m \u001b[0mEMA\u001b[0m\u001b[0;34m(\u001b[0m\u001b[0mdf\u001b[0m\u001b[0;34m)\u001b[0m\u001b[0;34m\u001b[0m\u001b[0;34m\u001b[0m\u001b[0m\n",
            "\u001b[0;32m<ipython-input-75-7900bbeb6f3e>\u001b[0m in \u001b[0;36mMACD\u001b[0;34m(data, period_long, period_short, period_signal, column)\u001b[0m\n\u001b[1;32m      2\u001b[0m \u001b[0;32mdef\u001b[0m \u001b[0mMACD\u001b[0m\u001b[0;34m(\u001b[0m\u001b[0mdata\u001b[0m\u001b[0;34m,\u001b[0m \u001b[0mperiod_long\u001b[0m \u001b[0;34m=\u001b[0m \u001b[0;36m26\u001b[0m\u001b[0;34m,\u001b[0m \u001b[0mperiod_short\u001b[0m \u001b[0;34m=\u001b[0m \u001b[0;36m12\u001b[0m\u001b[0;34m,\u001b[0m \u001b[0mperiod_signal\u001b[0m \u001b[0;34m=\u001b[0m \u001b[0;36m9\u001b[0m\u001b[0;34m,\u001b[0m \u001b[0mcolumn\u001b[0m \u001b[0;34m=\u001b[0m \u001b[0;34m'GOOG'\u001b[0m\u001b[0;34m)\u001b[0m\u001b[0;34m:\u001b[0m\u001b[0;34m\u001b[0m\u001b[0;34m\u001b[0m\u001b[0m\n\u001b[1;32m      3\u001b[0m   \u001b[0;31m#calculate the short term EMA\u001b[0m\u001b[0;34m\u001b[0m\u001b[0;34m\u001b[0m\u001b[0;34m\u001b[0m\u001b[0m\n\u001b[0;32m----> 4\u001b[0;31m   \u001b[0mShortEMA\u001b[0m \u001b[0;34m=\u001b[0m \u001b[0mEMA\u001b[0m\u001b[0;34m(\u001b[0m\u001b[0mdata\u001b[0m\u001b[0;34m,\u001b[0m \u001b[0mperiod\u001b[0m \u001b[0;34m=\u001b[0m \u001b[0mperiod_short\u001b[0m\u001b[0;34m,\u001b[0m \u001b[0mcolumn\u001b[0m \u001b[0;34m=\u001b[0m \u001b[0mcolumn\u001b[0m\u001b[0;34m)\u001b[0m\u001b[0;34m\u001b[0m\u001b[0;34m\u001b[0m\u001b[0m\n\u001b[0m\u001b[1;32m      5\u001b[0m   \u001b[0;31m#calculate the long term EMA\u001b[0m\u001b[0;34m\u001b[0m\u001b[0;34m\u001b[0m\u001b[0;34m\u001b[0m\u001b[0m\n\u001b[1;32m      6\u001b[0m   \u001b[0mLongEMA\u001b[0m \u001b[0;34m=\u001b[0m \u001b[0mEMA\u001b[0m\u001b[0;34m(\u001b[0m\u001b[0mdata\u001b[0m\u001b[0;34m,\u001b[0m \u001b[0mperiod\u001b[0m \u001b[0;34m=\u001b[0m \u001b[0mperiod_long\u001b[0m\u001b[0;34m,\u001b[0m \u001b[0mcolumn\u001b[0m \u001b[0;34m=\u001b[0m \u001b[0mcolumn\u001b[0m\u001b[0;34m)\u001b[0m\u001b[0;34m\u001b[0m\u001b[0;34m\u001b[0m\u001b[0m\n",
            "\u001b[0;32m<ipython-input-74-d6665af6dc98>\u001b[0m in \u001b[0;36mEMA\u001b[0;34m(data, period, column)\u001b[0m\n\u001b[1;32m      7\u001b[0m \u001b[0;31m#create the exponential moving average (EMA)\u001b[0m\u001b[0;34m\u001b[0m\u001b[0;34m\u001b[0m\u001b[0;34m\u001b[0m\u001b[0m\n\u001b[1;32m      8\u001b[0m \u001b[0;32mdef\u001b[0m \u001b[0mEMA\u001b[0m\u001b[0;34m(\u001b[0m\u001b[0mdata\u001b[0m\u001b[0;34m,\u001b[0m \u001b[0mperiod\u001b[0m \u001b[0;34m=\u001b[0m \u001b[0;36m20\u001b[0m\u001b[0;34m,\u001b[0m \u001b[0mcolumn\u001b[0m \u001b[0;34m=\u001b[0m \u001b[0;34m'GOOG'\u001b[0m\u001b[0;34m)\u001b[0m\u001b[0;34m:\u001b[0m\u001b[0;34m\u001b[0m\u001b[0;34m\u001b[0m\u001b[0m\n\u001b[0;32m----> 9\u001b[0;31m   \u001b[0;32mreturn\u001b[0m \u001b[0mdata\u001b[0m\u001b[0;34m[\u001b[0m\u001b[0mcolumn\u001b[0m\u001b[0;34m]\u001b[0m\u001b[0;34m.\u001b[0m\u001b[0mewm\u001b[0m\u001b[0;34m(\u001b[0m\u001b[0mspan\u001b[0m \u001b[0;34m=\u001b[0m \u001b[0mperiod\u001b[0m\u001b[0;34m,\u001b[0m \u001b[0madjust\u001b[0m \u001b[0;34m=\u001b[0m \u001b[0;32mFalse\u001b[0m\u001b[0;34m)\u001b[0m\u001b[0;34m.\u001b[0m\u001b[0mmean\u001b[0m\u001b[0;34m(\u001b[0m\u001b[0;34m)\u001b[0m\u001b[0;34m\u001b[0m\u001b[0;34m\u001b[0m\u001b[0m\n\u001b[0m",
            "\u001b[0;32m/usr/local/lib/python3.7/dist-packages/pandas/core/frame.py\u001b[0m in \u001b[0;36m__getitem__\u001b[0;34m(self, key)\u001b[0m\n\u001b[1;32m   2904\u001b[0m             \u001b[0;32mif\u001b[0m \u001b[0mself\u001b[0m\u001b[0;34m.\u001b[0m\u001b[0mcolumns\u001b[0m\u001b[0;34m.\u001b[0m\u001b[0mnlevels\u001b[0m \u001b[0;34m>\u001b[0m \u001b[0;36m1\u001b[0m\u001b[0;34m:\u001b[0m\u001b[0;34m\u001b[0m\u001b[0;34m\u001b[0m\u001b[0m\n\u001b[1;32m   2905\u001b[0m                 \u001b[0;32mreturn\u001b[0m \u001b[0mself\u001b[0m\u001b[0;34m.\u001b[0m\u001b[0m_getitem_multilevel\u001b[0m\u001b[0;34m(\u001b[0m\u001b[0mkey\u001b[0m\u001b[0;34m)\u001b[0m\u001b[0;34m\u001b[0m\u001b[0;34m\u001b[0m\u001b[0m\n\u001b[0;32m-> 2906\u001b[0;31m             \u001b[0mindexer\u001b[0m \u001b[0;34m=\u001b[0m \u001b[0mself\u001b[0m\u001b[0;34m.\u001b[0m\u001b[0mcolumns\u001b[0m\u001b[0;34m.\u001b[0m\u001b[0mget_loc\u001b[0m\u001b[0;34m(\u001b[0m\u001b[0mkey\u001b[0m\u001b[0;34m)\u001b[0m\u001b[0;34m\u001b[0m\u001b[0;34m\u001b[0m\u001b[0m\n\u001b[0m\u001b[1;32m   2907\u001b[0m             \u001b[0;32mif\u001b[0m \u001b[0mis_integer\u001b[0m\u001b[0;34m(\u001b[0m\u001b[0mindexer\u001b[0m\u001b[0;34m)\u001b[0m\u001b[0;34m:\u001b[0m\u001b[0;34m\u001b[0m\u001b[0;34m\u001b[0m\u001b[0m\n\u001b[1;32m   2908\u001b[0m                 \u001b[0mindexer\u001b[0m \u001b[0;34m=\u001b[0m \u001b[0;34m[\u001b[0m\u001b[0mindexer\u001b[0m\u001b[0;34m]\u001b[0m\u001b[0;34m\u001b[0m\u001b[0;34m\u001b[0m\u001b[0m\n",
            "\u001b[0;32m/usr/local/lib/python3.7/dist-packages/pandas/core/indexes/base.py\u001b[0m in \u001b[0;36mget_loc\u001b[0;34m(self, key, method, tolerance)\u001b[0m\n\u001b[1;32m   2898\u001b[0m                 \u001b[0;32mreturn\u001b[0m \u001b[0mself\u001b[0m\u001b[0;34m.\u001b[0m\u001b[0m_engine\u001b[0m\u001b[0;34m.\u001b[0m\u001b[0mget_loc\u001b[0m\u001b[0;34m(\u001b[0m\u001b[0mcasted_key\u001b[0m\u001b[0;34m)\u001b[0m\u001b[0;34m\u001b[0m\u001b[0;34m\u001b[0m\u001b[0m\n\u001b[1;32m   2899\u001b[0m             \u001b[0;32mexcept\u001b[0m \u001b[0mKeyError\u001b[0m \u001b[0;32mas\u001b[0m \u001b[0merr\u001b[0m\u001b[0;34m:\u001b[0m\u001b[0;34m\u001b[0m\u001b[0;34m\u001b[0m\u001b[0m\n\u001b[0;32m-> 2900\u001b[0;31m                 \u001b[0;32mraise\u001b[0m \u001b[0mKeyError\u001b[0m\u001b[0;34m(\u001b[0m\u001b[0mkey\u001b[0m\u001b[0;34m)\u001b[0m \u001b[0;32mfrom\u001b[0m \u001b[0merr\u001b[0m\u001b[0;34m\u001b[0m\u001b[0;34m\u001b[0m\u001b[0m\n\u001b[0m\u001b[1;32m   2901\u001b[0m \u001b[0;34m\u001b[0m\u001b[0m\n\u001b[1;32m   2902\u001b[0m         \u001b[0;32mif\u001b[0m \u001b[0mtolerance\u001b[0m \u001b[0;32mis\u001b[0m \u001b[0;32mnot\u001b[0m \u001b[0;32mNone\u001b[0m\u001b[0;34m:\u001b[0m\u001b[0;34m\u001b[0m\u001b[0;34m\u001b[0m\u001b[0m\n",
            "\u001b[0;31mKeyError\u001b[0m: 'GOOG'"
          ]
        }
      ]
    },
    {
      "cell_type": "code",
      "metadata": {
        "id": "AwxPwWVwMTSP"
      },
      "source": [
        "#create the Target column\n",
        "#if tommorrow's close price is gonna increase or decrease \n",
        "df['Target'] = np.where(df['GOOG'].shift(-1) > df['GOOG'], 1, 0)\n",
        "#show the data\n",
        "df"
      ],
      "execution_count": null,
      "outputs": []
    },
    {
      "cell_type": "code",
      "metadata": {
        "id": "R-V5Kr25MwHY"
      },
      "source": [
        "#Remove the first 29 days of data since the RSI and SMA have NaN values\n",
        "df = df[29:]\n",
        "#show the data\n",
        "df"
      ],
      "execution_count": null,
      "outputs": []
    },
    {
      "cell_type": "code",
      "metadata": {
        "id": "OJffuqXYNLb-"
      },
      "source": [
        "#split the data set into a feature or independent data set (X) and a Target or dependent data set (Y)\n",
        "keep_columns = ['GOOG', 'MACD', 'Signal_Line', 'RSI', 'SMA', 'EMA']\n",
        "X = df[keep_columns].values\n",
        "Y = df['Target'].values"
      ],
      "execution_count": null,
      "outputs": []
    },
    {
      "cell_type": "code",
      "metadata": {
        "id": "DXY4UetaN7jR"
      },
      "source": [
        "#split the data again but this time into 80% training and 20% testing data set\n",
        "X_train, X_test, Y_train, Y_test = train_test_split(X, Y, test_size = 0.2, random_state = 2)"
      ],
      "execution_count": null,
      "outputs": []
    },
    {
      "cell_type": "code",
      "metadata": {
        "id": "062jycNVOWWb"
      },
      "source": [
        "#create and train the decision tree classifier model\n",
        "tree = DecisionTreeClassifier().fit(X_train, Y_train)"
      ],
      "execution_count": null,
      "outputs": []
    },
    {
      "cell_type": "code",
      "metadata": {
        "id": "tv5w8UwzOlvo"
      },
      "source": [
        "#check how well the model did on the training data set\n",
        "print(tree.score(X_train, Y_train))"
      ],
      "execution_count": null,
      "outputs": []
    },
    {
      "cell_type": "code",
      "metadata": {
        "id": "_u8iC3L1Oxl6"
      },
      "source": [
        "#check how well the model did on the testing data set\n",
        "print(tree.score(X_test, Y_test))"
      ],
      "execution_count": null,
      "outputs": []
    },
    {
      "cell_type": "code",
      "metadata": {
        "id": "HDKpiK7oO8o1"
      },
      "source": [
        "#show the model tree predictions\n",
        "tree_predictions = tree.predict(X_test)\n",
        "print(tree_predictions)"
      ],
      "execution_count": null,
      "outputs": []
    },
    {
      "cell_type": "code",
      "metadata": {
        "id": "c7OYmVsGPJD9"
      },
      "source": [
        "#show the actual values from the test data\n",
        "Y_test"
      ],
      "execution_count": null,
      "outputs": []
    },
    {
      "cell_type": "code",
      "metadata": {
        "id": "Njpm4orQPVJD"
      },
      "source": [
        "#get the model metrics\n",
        "from sklearn.metrics import classification_report\n",
        "print(classification_report(Y_test, tree_predictions))"
      ],
      "execution_count": null,
      "outputs": []
    }
  ]
}