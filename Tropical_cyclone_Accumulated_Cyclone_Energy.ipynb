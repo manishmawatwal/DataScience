{
  "nbformat": 4,
  "nbformat_minor": 0,
  "metadata": {
    "colab": {
      "name": "Tropical cyclone Accumulated Cyclone Energy.ipynb",
      "provenance": [],
      "authorship_tag": "ABX9TyMGjEB8b8XtITaRpmRJ6nYf",
      "include_colab_link": true
    },
    "kernelspec": {
      "name": "python3",
      "display_name": "Python 3"
    },
    "language_info": {
      "name": "python"
    }
  },
  "cells": [
    {
      "cell_type": "markdown",
      "metadata": {
        "id": "view-in-github",
        "colab_type": "text"
      },
      "source": [
        "<a href=\"https://colab.research.google.com/github/manishmawatwal/DataScience/blob/main/Tropical_cyclone_Accumulated_Cyclone_Energy.ipynb\" target=\"_parent\"><img src=\"https://colab.research.google.com/assets/colab-badge.svg\" alt=\"Open In Colab\"/></a>"
      ]
    },
    {
      "cell_type": "markdown",
      "metadata": {
        "id": "V_AvFHGnl1mm"
      },
      "source": [
        "ACE (accumulated cyclone energy)\n",
        "\n",
        "Data source from\n",
        "    Global Tropical Cyclone Activity,\n",
        "    Dr. Ryan N. Maue,\n",
        "    https://policlimate.com/tropical/\n",
        "\n",
        "sea surface temperature from pre-industrial times\n",
        "    \n",
        "source :\n",
        "    US EPA climate change indicators\n",
        "    https://www.epa.gov/climate-indicators/climate-change-indicators-sea-surface-temperature    \n",
        "\n",
        "\n",
        "NOAA Named storm history\n",
        "    https://www.nhc.noaa.gov/climo/images/AtlanticStormTotalsTable.pdf"
      ]
    },
    {
      "cell_type": "code",
      "metadata": {
        "id": "YdfxGbJ_5p4F"
      },
      "source": [
        "# import libraries\n",
        "import numpy as np\n",
        "import pandas as pd\n",
        "import matplotlib.pyplot as plt\n",
        "import seaborn as sb\n",
        "import math"
      ],
      "execution_count": 48,
      "outputs": []
    },
    {
      "cell_type": "code",
      "metadata": {
        "id": "3fCx9-qN7B85",
        "colab": {
          "resources": {
            "http://localhost:8080/nbextensions/google.colab/files.js": {
              "data": "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",
              "ok": true,
              "headers": [
                [
                  "content-type",
                  "application/javascript"
                ]
              ],
              "status": 200,
              "status_text": ""
            }
          },
          "base_uri": "https://localhost:8080/",
          "height": 73
        },
        "outputId": "af7f0505-08cf-4b58-8ca0-50ee57c44ca4"
      },
      "source": [
        "# upload files on google colab drive\n",
        "from google.colab import files\n",
        "uploaded = files.upload()"
      ],
      "execution_count": 19,
      "outputs": [
        {
          "output_type": "display_data",
          "data": {
            "text/html": [
              "\n",
              "     <input type=\"file\" id=\"files-c18ec363-ca12-4b49-a2d1-ddf5b391f7ea\" name=\"files[]\" multiple disabled\n",
              "        style=\"border:none\" />\n",
              "     <output id=\"result-c18ec363-ca12-4b49-a2d1-ddf5b391f7ea\">\n",
              "      Upload widget is only available when the cell has been executed in the\n",
              "      current browser session. Please rerun this cell to enable.\n",
              "      </output>\n",
              "      <script src=\"/nbextensions/google.colab/files.js\"></script> "
            ],
            "text/plain": [
              "<IPython.core.display.HTML object>"
            ]
          },
          "metadata": {}
        },
        {
          "output_type": "stream",
          "name": "stdout",
          "text": [
            "Saving sea_surface_temperature.txt to sea_surface_temperature.txt\n"
          ]
        }
      ]
    },
    {
      "cell_type": "code",
      "metadata": {
        "id": "LlA_jndskzWg"
      },
      "source": [
        "ACE_FILE = 'tropical_storm_ace.txt'\n",
        "SS_FILE = 'sea_surface_temperatures.txt'"
      ],
      "execution_count": 22,
      "outputs": []
    },
    {
      "cell_type": "code",
      "metadata": {
        "id": "fibeuTNuklKV"
      },
      "source": [
        "ace = pd.read_csv('tropical_storm_ace.txt',delimiter='\\t',parse_dates=['MONTH'])\n",
        "ss = pd.read_csv('sea_surface_temperature.txt')\n",
        "ns = pd.read_csv('named_storms_history.csv').dropna()"
      ],
      "execution_count": 37,
      "outputs": []
    },
    {
      "cell_type": "code",
      "metadata": {
        "colab": {
          "base_uri": "https://localhost:8080/"
        },
        "id": "8q-oFBRGk-Lf",
        "outputId": "b5ebed26-96f5-40f1-9a43-47df999d44bb"
      },
      "source": [
        "ace.head"
      ],
      "execution_count": 24,
      "outputs": [
        {
          "output_type": "execute_result",
          "data": {
            "text/plain": [
              "<bound method NDFrame.head of          MONTH    NEPAC      NATL  ...        NH        SH    GLOBAL\n",
              "0   1970-01-01   0.0000    0.0000  ...    0.0000   34.3975   34.3975\n",
              "1   1970-02-01   0.0000    0.0000  ...   21.2100  121.4605  142.6705\n",
              "2   1970-03-01   0.0000    0.0000  ...    0.0000   38.1975   38.1975\n",
              "3   1970-04-01   0.0000    0.0000  ...    0.0000    2.6850    2.6850\n",
              "4   1970-05-01   1.2150    2.1950  ...    9.2275    0.6125    9.8400\n",
              "..         ...      ...       ...  ...       ...       ...       ...\n",
              "568 2017-05-01   0.5275    0.0000  ...    3.3800   28.9175   32.2975\n",
              "569 2017-06-01   5.2300    2.3600  ...    8.6825    0.0000    8.6825\n",
              "570 2017-07-01  66.2550    1.2150  ...  107.2350    0.0000  107.2350\n",
              "571 2017-08-01  12.3000   25.0975  ...   87.8250    0.0000   87.8250\n",
              "572 2017-09-01  13.3000  175.1450  ...  218.9696    0.0000  218.9696\n",
              "\n",
              "[573 rows x 8 columns]>"
            ]
          },
          "metadata": {},
          "execution_count": 24
        }
      ]
    },
    {
      "cell_type": "code",
      "metadata": {
        "colab": {
          "base_uri": "https://localhost:8080/"
        },
        "id": "BtLSWjGMlCMc",
        "outputId": "3dfc0e18-a83d-4af6-cb4a-fbb886b1c7d8"
      },
      "source": [
        "ss.head"
      ],
      "execution_count": 25,
      "outputs": [
        {
          "output_type": "execute_result",
          "data": {
            "text/plain": [
              "<bound method NDFrame.head of      Year  ...  Upper 95% confidence interval\n",
              "0    1880  ...                      -0.267371\n",
              "1    1881  ...                      -0.153169\n",
              "2    1882  ...                      -0.169594\n",
              "3    1883  ...                      -0.246082\n",
              "4    1884  ...                      -0.389030\n",
              "..    ...  ...                            ...\n",
              "131  2011  ...                       0.724058\n",
              "132  2012  ...                       0.824523\n",
              "133  2013  ...                       0.880122\n",
              "134  2014  ...                       1.046703\n",
              "135  2015  ...                       1.231025\n",
              "\n",
              "[136 rows x 4 columns]>"
            ]
          },
          "metadata": {},
          "execution_count": 25
        }
      ]
    },
    {
      "cell_type": "code",
      "metadata": {
        "id": "mx3YIjejlG0u"
      },
      "source": [
        "period = 4 ; base_year = [1970,1878]\n",
        "ace['year_group'] = ace.apply(lambda x: \n",
        "        base_year[0]+period*(math.floor((x['MONTH'].year-base_year[0])/period)),axis=1)\n",
        "ss['year_group'] = ss.apply(lambda x: \n",
        "        base_year[1]+period*(math.floor((x['Year']-base_year[1])/period)),axis=1)"
      ],
      "execution_count": 28,
      "outputs": []
    },
    {
      "cell_type": "code",
      "metadata": {
        "id": "aAamgQN7lV4z"
      },
      "source": [
        "ace_pvt = pd.pivot_table(ace,index=['year_group'],values=['GLOBAL'],aggfunc='mean').reset_index()\n",
        "ss_pvt = pd.pivot_table(ss,index=['year_group'],values=['Annual anomaly'],aggfunc='mean').reset_index()\n",
        "df = pd.merge(ace_pvt,ss_pvt,on='year_group')\n",
        "df.rename(columns={'GLOBAL':'ACE','Annual anomaly':'sea surface temp+'},inplace=True)"
      ],
      "execution_count": 29,
      "outputs": []
    },
    {
      "cell_type": "code",
      "metadata": {
        "colab": {
          "base_uri": "https://localhost:8080/",
          "height": 418
        },
        "id": "bn0myC_vlW8t",
        "outputId": "e6edd49e-263c-4fb4-b810-0d966d8b36aa"
      },
      "source": [
        "df"
      ],
      "execution_count": 30,
      "outputs": [
        {
          "output_type": "execute_result",
          "data": {
            "text/html": [
              "<div>\n",
              "<style scoped>\n",
              "    .dataframe tbody tr th:only-of-type {\n",
              "        vertical-align: middle;\n",
              "    }\n",
              "\n",
              "    .dataframe tbody tr th {\n",
              "        vertical-align: top;\n",
              "    }\n",
              "\n",
              "    .dataframe thead th {\n",
              "        text-align: right;\n",
              "    }\n",
              "</style>\n",
              "<table border=\"1\" class=\"dataframe\">\n",
              "  <thead>\n",
              "    <tr style=\"text-align: right;\">\n",
              "      <th></th>\n",
              "      <th>year_group</th>\n",
              "      <th>ACE</th>\n",
              "      <th>sea surface temp+</th>\n",
              "    </tr>\n",
              "  </thead>\n",
              "  <tbody>\n",
              "    <tr>\n",
              "      <th>0</th>\n",
              "      <td>1970</td>\n",
              "      <td>61.839440</td>\n",
              "      <td>-0.313663</td>\n",
              "    </tr>\n",
              "    <tr>\n",
              "      <th>1</th>\n",
              "      <td>1974</td>\n",
              "      <td>44.844219</td>\n",
              "      <td>-0.335533</td>\n",
              "    </tr>\n",
              "    <tr>\n",
              "      <th>2</th>\n",
              "      <td>1978</td>\n",
              "      <td>57.863598</td>\n",
              "      <td>0.000764</td>\n",
              "    </tr>\n",
              "    <tr>\n",
              "      <th>3</th>\n",
              "      <td>1982</td>\n",
              "      <td>59.184300</td>\n",
              "      <td>-0.012208</td>\n",
              "    </tr>\n",
              "    <tr>\n",
              "      <th>4</th>\n",
              "      <td>1986</td>\n",
              "      <td>58.348796</td>\n",
              "      <td>0.118470</td>\n",
              "    </tr>\n",
              "    <tr>\n",
              "      <th>5</th>\n",
              "      <td>1990</td>\n",
              "      <td>75.729438</td>\n",
              "      <td>0.166613</td>\n",
              "    </tr>\n",
              "    <tr>\n",
              "      <th>6</th>\n",
              "      <td>1994</td>\n",
              "      <td>79.478813</td>\n",
              "      <td>0.239991</td>\n",
              "    </tr>\n",
              "    <tr>\n",
              "      <th>7</th>\n",
              "      <td>1998</td>\n",
              "      <td>56.452135</td>\n",
              "      <td>0.334827</td>\n",
              "    </tr>\n",
              "    <tr>\n",
              "      <th>8</th>\n",
              "      <td>2002</td>\n",
              "      <td>73.792344</td>\n",
              "      <td>0.504911</td>\n",
              "    </tr>\n",
              "    <tr>\n",
              "      <th>9</th>\n",
              "      <td>2006</td>\n",
              "      <td>52.052344</td>\n",
              "      <td>0.463203</td>\n",
              "    </tr>\n",
              "    <tr>\n",
              "      <th>10</th>\n",
              "      <td>2010</td>\n",
              "      <td>51.005844</td>\n",
              "      <td>0.538690</td>\n",
              "    </tr>\n",
              "    <tr>\n",
              "      <th>11</th>\n",
              "      <td>2014</td>\n",
              "      <td>68.850491</td>\n",
              "      <td>0.843416</td>\n",
              "    </tr>\n",
              "  </tbody>\n",
              "</table>\n",
              "</div>"
            ],
            "text/plain": [
              "    year_group        ACE  sea surface temp+\n",
              "0         1970  61.839440          -0.313663\n",
              "1         1974  44.844219          -0.335533\n",
              "2         1978  57.863598           0.000764\n",
              "3         1982  59.184300          -0.012208\n",
              "4         1986  58.348796           0.118470\n",
              "5         1990  75.729438           0.166613\n",
              "6         1994  79.478813           0.239991\n",
              "7         1998  56.452135           0.334827\n",
              "8         2002  73.792344           0.504911\n",
              "9         2006  52.052344           0.463203\n",
              "10        2010  51.005844           0.538690\n",
              "11        2014  68.850491           0.843416"
            ]
          },
          "metadata": {},
          "execution_count": 30
        }
      ]
    },
    {
      "cell_type": "code",
      "metadata": {
        "colab": {
          "base_uri": "https://localhost:8080/",
          "height": 296
        },
        "id": "PKaXAbdSlgeW",
        "outputId": "b6f53157-1938-4e3b-cc6f-6bb11b4fe384"
      },
      "source": [
        "sb.scatterplot(x='sea surface temp+',y='ACE',data=df)"
      ],
      "execution_count": 33,
      "outputs": [
        {
          "output_type": "execute_result",
          "data": {
            "text/plain": [
              "<matplotlib.axes._subplots.AxesSubplot at 0x7f1337729290>"
            ]
          },
          "metadata": {},
          "execution_count": 33
        },
        {
          "output_type": "display_data",
          "data": {
            "image/png": "[encoded data removed]",
            "text/plain": [
              "<Figure size 432x288 with 1 Axes>"
            ]
          },
          "metadata": {
            "needs_background": "light"
          }
        }
      ]
    },
    {
      "cell_type": "code",
      "metadata": {
        "colab": {
          "base_uri": "https://localhost:8080/",
          "height": 514
        },
        "id": "9Uy6fhlnlqsd",
        "outputId": "e2d07ef0-8e0e-4be7-a1e7-017336f635fd"
      },
      "source": [
        "#sb.set(rc={'figure.figsize':(11, 4)})\n",
        "f, axes = plt.subplots(2,1,figsize=(16,8))\n",
        "sb.lineplot(x='year_group',y='ACE',label='ACE',data=df,ax=axes.flat[0])\n",
        "sb.lineplot(x='year_group',y='sea surface temp+',label='sea temp',data=df,ax=axes.flat[1])"
      ],
      "execution_count": 34,
      "outputs": [
        {
          "output_type": "execute_result",
          "data": {
            "text/plain": [
              "<matplotlib.axes._subplots.AxesSubplot at 0x7f133770de50>"
            ]
          },
          "metadata": {},
          "execution_count": 34
        },
        {
          "output_type": "display_data",
          "data": {
            "image/png": "[encoded data removed]",
            "text/plain": [
              "<Figure size 1152x576 with 2 Axes>"
            ]
          },
          "metadata": {
            "needs_background": "light"
          }
        }
      ]
    },
    {
      "cell_type": "code",
      "metadata": {
        "id": "VzlH5L5jnHsg"
      },
      "source": [
        "ns['h-ratio'] = ns['Hurricanes']/ns['Tropical Storms']\n",
        "ns['major'] = ns['Major Hurricanes']/ns['Tropical Storms']"
      ],
      "execution_count": 38,
      "outputs": []
    },
    {
      "cell_type": "code",
      "metadata": {
        "colab": {
          "base_uri": "https://localhost:8080/",
          "height": 203
        },
        "id": "99PrUKEqnKf0",
        "outputId": "85f7d0b3-3cc9-41b5-8e2a-59ffad420a43"
      },
      "source": [
        "ns.tail()"
      ],
      "execution_count": 39,
      "outputs": [
        {
          "output_type": "execute_result",
          "data": {
            "text/html": [
              "<div>\n",
              "<style scoped>\n",
              "    .dataframe tbody tr th:only-of-type {\n",
              "        vertical-align: middle;\n",
              "    }\n",
              "\n",
              "    .dataframe tbody tr th {\n",
              "        vertical-align: top;\n",
              "    }\n",
              "\n",
              "    .dataframe thead th {\n",
              "        text-align: right;\n",
              "    }\n",
              "</style>\n",
              "<table border=\"1\" class=\"dataframe\">\n",
              "  <thead>\n",
              "    <tr style=\"text-align: right;\">\n",
              "      <th></th>\n",
              "      <th>Year</th>\n",
              "      <th>Tropical Storms</th>\n",
              "      <th>Hurricanes</th>\n",
              "      <th>Major Hurricanes</th>\n",
              "      <th>h-ratio</th>\n",
              "      <th>major</th>\n",
              "    </tr>\n",
              "  </thead>\n",
              "  <tbody>\n",
              "    <tr>\n",
              "      <th>166</th>\n",
              "      <td>2014.0</td>\n",
              "      <td>8.0</td>\n",
              "      <td>6.0</td>\n",
              "      <td>2.0</td>\n",
              "      <td>0.750000</td>\n",
              "      <td>0.250000</td>\n",
              "    </tr>\n",
              "    <tr>\n",
              "      <th>167</th>\n",
              "      <td>2015.0</td>\n",
              "      <td>11.0</td>\n",
              "      <td>4.0</td>\n",
              "      <td>2.0</td>\n",
              "      <td>0.363636</td>\n",
              "      <td>0.181818</td>\n",
              "    </tr>\n",
              "    <tr>\n",
              "      <th>168</th>\n",
              "      <td>2016.0</td>\n",
              "      <td>15.0</td>\n",
              "      <td>7.0</td>\n",
              "      <td>4.0</td>\n",
              "      <td>0.466667</td>\n",
              "      <td>0.266667</td>\n",
              "    </tr>\n",
              "    <tr>\n",
              "      <th>169</th>\n",
              "      <td>2017.0</td>\n",
              "      <td>17.0</td>\n",
              "      <td>10.0</td>\n",
              "      <td>6.0</td>\n",
              "      <td>0.588235</td>\n",
              "      <td>0.352941</td>\n",
              "    </tr>\n",
              "    <tr>\n",
              "      <th>170</th>\n",
              "      <td>2018.0</td>\n",
              "      <td>15.0</td>\n",
              "      <td>8.0</td>\n",
              "      <td>2.0</td>\n",
              "      <td>0.533333</td>\n",
              "      <td>0.133333</td>\n",
              "    </tr>\n",
              "  </tbody>\n",
              "</table>\n",
              "</div>"
            ],
            "text/plain": [
              "       Year  Tropical Storms  Hurricanes  Major Hurricanes   h-ratio     major\n",
              "166  2014.0              8.0         6.0               2.0  0.750000  0.250000\n",
              "167  2015.0             11.0         4.0               2.0  0.363636  0.181818\n",
              "168  2016.0             15.0         7.0               4.0  0.466667  0.266667\n",
              "169  2017.0             17.0        10.0               6.0  0.588235  0.352941\n",
              "170  2018.0             15.0         8.0               2.0  0.533333  0.133333"
            ]
          },
          "metadata": {},
          "execution_count": 39
        }
      ]
    },
    {
      "cell_type": "code",
      "metadata": {
        "colab": {
          "base_uri": "https://localhost:8080/",
          "height": 203
        },
        "id": "C5L8q8lQnNVW",
        "outputId": "212daf86-cf58-4d91-bd73-d077ebf96d9d"
      },
      "source": [
        "ss.tail()"
      ],
      "execution_count": 40,
      "outputs": [
        {
          "output_type": "execute_result",
          "data": {
            "text/html": [
              "<div>\n",
              "<style scoped>\n",
              "    .dataframe tbody tr th:only-of-type {\n",
              "        vertical-align: middle;\n",
              "    }\n",
              "\n",
              "    .dataframe tbody tr th {\n",
              "        vertical-align: top;\n",
              "    }\n",
              "\n",
              "    .dataframe thead th {\n",
              "        text-align: right;\n",
              "    }\n",
              "</style>\n",
              "<table border=\"1\" class=\"dataframe\">\n",
              "  <thead>\n",
              "    <tr style=\"text-align: right;\">\n",
              "      <th></th>\n",
              "      <th>Year</th>\n",
              "      <th>Annual anomaly</th>\n",
              "      <th>Lower 95% confidence interval</th>\n",
              "      <th>Upper 95% confidence interval</th>\n",
              "    </tr>\n",
              "  </thead>\n",
              "  <tbody>\n",
              "    <tr>\n",
              "      <th>131</th>\n",
              "      <td>2011</td>\n",
              "      <td>0.428674</td>\n",
              "      <td>0.133289</td>\n",
              "      <td>0.724058</td>\n",
              "    </tr>\n",
              "    <tr>\n",
              "      <th>132</th>\n",
              "      <td>2012</td>\n",
              "      <td>0.528696</td>\n",
              "      <td>0.232869</td>\n",
              "      <td>0.824523</td>\n",
              "    </tr>\n",
              "    <tr>\n",
              "      <th>133</th>\n",
              "      <td>2013</td>\n",
              "      <td>0.584674</td>\n",
              "      <td>0.289227</td>\n",
              "      <td>0.880122</td>\n",
              "    </tr>\n",
              "    <tr>\n",
              "      <th>134</th>\n",
              "      <td>2014</td>\n",
              "      <td>0.751255</td>\n",
              "      <td>0.455808</td>\n",
              "      <td>1.046703</td>\n",
              "    </tr>\n",
              "    <tr>\n",
              "      <th>135</th>\n",
              "      <td>2015</td>\n",
              "      <td>0.935577</td>\n",
              "      <td>0.640129</td>\n",
              "      <td>1.231025</td>\n",
              "    </tr>\n",
              "  </tbody>\n",
              "</table>\n",
              "</div>"
            ],
            "text/plain": [
              "     Year  ...  Upper 95% confidence interval\n",
              "131  2011  ...                       0.724058\n",
              "132  2012  ...                       0.824523\n",
              "133  2013  ...                       0.880122\n",
              "134  2014  ...                       1.046703\n",
              "135  2015  ...                       1.231025\n",
              "\n",
              "[5 rows x 4 columns]"
            ]
          },
          "metadata": {},
          "execution_count": 40
        }
      ]
    },
    {
      "cell_type": "code",
      "metadata": {
        "id": "6TApm_hGnQTM"
      },
      "source": [
        "period = 12 ; base_year = [1854,1878]\n",
        "ns['year_group'] = ns.apply(lambda x: \n",
        "        base_year[0]+period*(math.floor((x['Year']-base_year[0])/period)),axis=1)\n",
        "ss['year_group'] = ss.apply(lambda x: \n",
        "        base_year[1]+period*(math.floor((x['Year']-base_year[1])/period)),axis=1)"
      ],
      "execution_count": 41,
      "outputs": []
    },
    {
      "cell_type": "code",
      "metadata": {
        "colab": {
          "base_uri": "https://localhost:8080/",
          "height": 203
        },
        "id": "EqeM2c89nSmO",
        "outputId": "ccdfc1e7-f196-4b37-9c6f-6b78dc43e323"
      },
      "source": [
        "ns.tail()"
      ],
      "execution_count": 42,
      "outputs": [
        {
          "output_type": "execute_result",
          "data": {
            "text/html": [
              "<div>\n",
              "<style scoped>\n",
              "    .dataframe tbody tr th:only-of-type {\n",
              "        vertical-align: middle;\n",
              "    }\n",
              "\n",
              "    .dataframe tbody tr th {\n",
              "        vertical-align: top;\n",
              "    }\n",
              "\n",
              "    .dataframe thead th {\n",
              "        text-align: right;\n",
              "    }\n",
              "</style>\n",
              "<table border=\"1\" class=\"dataframe\">\n",
              "  <thead>\n",
              "    <tr style=\"text-align: right;\">\n",
              "      <th></th>\n",
              "      <th>Year</th>\n",
              "      <th>Tropical Storms</th>\n",
              "      <th>Hurricanes</th>\n",
              "      <th>Major Hurricanes</th>\n",
              "      <th>h-ratio</th>\n",
              "      <th>major</th>\n",
              "      <th>year_group</th>\n",
              "    </tr>\n",
              "  </thead>\n",
              "  <tbody>\n",
              "    <tr>\n",
              "      <th>166</th>\n",
              "      <td>2014.0</td>\n",
              "      <td>8.0</td>\n",
              "      <td>6.0</td>\n",
              "      <td>2.0</td>\n",
              "      <td>0.750000</td>\n",
              "      <td>0.250000</td>\n",
              "      <td>2010</td>\n",
              "    </tr>\n",
              "    <tr>\n",
              "      <th>167</th>\n",
              "      <td>2015.0</td>\n",
              "      <td>11.0</td>\n",
              "      <td>4.0</td>\n",
              "      <td>2.0</td>\n",
              "      <td>0.363636</td>\n",
              "      <td>0.181818</td>\n",
              "      <td>2010</td>\n",
              "    </tr>\n",
              "    <tr>\n",
              "      <th>168</th>\n",
              "      <td>2016.0</td>\n",
              "      <td>15.0</td>\n",
              "      <td>7.0</td>\n",
              "      <td>4.0</td>\n",
              "      <td>0.466667</td>\n",
              "      <td>0.266667</td>\n",
              "      <td>2010</td>\n",
              "    </tr>\n",
              "    <tr>\n",
              "      <th>169</th>\n",
              "      <td>2017.0</td>\n",
              "      <td>17.0</td>\n",
              "      <td>10.0</td>\n",
              "      <td>6.0</td>\n",
              "      <td>0.588235</td>\n",
              "      <td>0.352941</td>\n",
              "      <td>2010</td>\n",
              "    </tr>\n",
              "    <tr>\n",
              "      <th>170</th>\n",
              "      <td>2018.0</td>\n",
              "      <td>15.0</td>\n",
              "      <td>8.0</td>\n",
              "      <td>2.0</td>\n",
              "      <td>0.533333</td>\n",
              "      <td>0.133333</td>\n",
              "      <td>2010</td>\n",
              "    </tr>\n",
              "  </tbody>\n",
              "</table>\n",
              "</div>"
            ],
            "text/plain": [
              "       Year  Tropical Storms  Hurricanes  ...   h-ratio     major  year_group\n",
              "166  2014.0              8.0         6.0  ...  0.750000  0.250000        2010\n",
              "167  2015.0             11.0         4.0  ...  0.363636  0.181818        2010\n",
              "168  2016.0             15.0         7.0  ...  0.466667  0.266667        2010\n",
              "169  2017.0             17.0        10.0  ...  0.588235  0.352941        2010\n",
              "170  2018.0             15.0         8.0  ...  0.533333  0.133333        2010\n",
              "\n",
              "[5 rows x 7 columns]"
            ]
          },
          "metadata": {},
          "execution_count": 42
        }
      ]
    },
    {
      "cell_type": "code",
      "metadata": {
        "id": "6G01sWNYnVRM"
      },
      "source": [
        "ns_pvt = pd.pivot_table(ns,index=['year_group'],values=['Tropical Storms','Major Hurricanes','major','h-ratio'],aggfunc='mean').reset_index()\n",
        "ss_pvt = pd.pivot_table(ss,index=['year_group'],values=['Annual anomaly'],aggfunc='mean').reset_index()\n",
        "df = pd.merge(ns_pvt,ss_pvt,on='year_group')\n",
        "df.rename(columns={'Annual anomaly':'sea surface temp+'},inplace=True)"
      ],
      "execution_count": 43,
      "outputs": []
    },
    {
      "cell_type": "code",
      "metadata": {
        "colab": {
          "base_uri": "https://localhost:8080/",
          "height": 203
        },
        "id": "jwpTLod-nXdW",
        "outputId": "0c137e1f-b694-48d1-82d2-d3eac12713bb"
      },
      "source": [
        "df.tail()"
      ],
      "execution_count": 44,
      "outputs": [
        {
          "output_type": "execute_result",
          "data": {
            "text/html": [
              "<div>\n",
              "<style scoped>\n",
              "    .dataframe tbody tr th:only-of-type {\n",
              "        vertical-align: middle;\n",
              "    }\n",
              "\n",
              "    .dataframe tbody tr th {\n",
              "        vertical-align: top;\n",
              "    }\n",
              "\n",
              "    .dataframe thead th {\n",
              "        text-align: right;\n",
              "    }\n",
              "</style>\n",
              "<table border=\"1\" class=\"dataframe\">\n",
              "  <thead>\n",
              "    <tr style=\"text-align: right;\">\n",
              "      <th></th>\n",
              "      <th>year_group</th>\n",
              "      <th>Major Hurricanes</th>\n",
              "      <th>Tropical Storms</th>\n",
              "      <th>h-ratio</th>\n",
              "      <th>major</th>\n",
              "      <th>sea surface temp+</th>\n",
              "    </tr>\n",
              "  </thead>\n",
              "  <tbody>\n",
              "    <tr>\n",
              "      <th>7</th>\n",
              "      <td>1962</td>\n",
              "      <td>1.916667</td>\n",
              "      <td>9.583333</td>\n",
              "      <td>0.592715</td>\n",
              "      <td>0.180526</td>\n",
              "      <td>-0.345942</td>\n",
              "    </tr>\n",
              "    <tr>\n",
              "      <th>8</th>\n",
              "      <td>1974</td>\n",
              "      <td>1.916667</td>\n",
              "      <td>9.500000</td>\n",
              "      <td>0.587733</td>\n",
              "      <td>0.205737</td>\n",
              "      <td>-0.115659</td>\n",
              "    </tr>\n",
              "    <tr>\n",
              "      <th>9</th>\n",
              "      <td>1986</td>\n",
              "      <td>1.916667</td>\n",
              "      <td>10.000000</td>\n",
              "      <td>0.530496</td>\n",
              "      <td>0.167805</td>\n",
              "      <td>0.175025</td>\n",
              "    </tr>\n",
              "    <tr>\n",
              "      <th>10</th>\n",
              "      <td>1998</td>\n",
              "      <td>3.666667</td>\n",
              "      <td>14.750000</td>\n",
              "      <td>0.512847</td>\n",
              "      <td>0.247487</td>\n",
              "      <td>0.434314</td>\n",
              "    </tr>\n",
              "    <tr>\n",
              "      <th>11</th>\n",
              "      <td>2010</td>\n",
              "      <td>3.000000</td>\n",
              "      <td>15.222222</td>\n",
              "      <td>0.485672</td>\n",
              "      <td>0.195967</td>\n",
              "      <td>0.640266</td>\n",
              "    </tr>\n",
              "  </tbody>\n",
              "</table>\n",
              "</div>"
            ],
            "text/plain": [
              "    year_group  Major Hurricanes  ...     major  sea surface temp+\n",
              "7         1962          1.916667  ...  0.180526          -0.345942\n",
              "8         1974          1.916667  ...  0.205737          -0.115659\n",
              "9         1986          1.916667  ...  0.167805           0.175025\n",
              "10        1998          3.666667  ...  0.247487           0.434314\n",
              "11        2010          3.000000  ...  0.195967           0.640266\n",
              "\n",
              "[5 rows x 6 columns]"
            ]
          },
          "metadata": {},
          "execution_count": 44
        }
      ]
    },
    {
      "cell_type": "code",
      "metadata": {
        "colab": {
          "base_uri": "https://localhost:8080/",
          "height": 234
        },
        "id": "62RHiWktnaLa",
        "outputId": "eda18987-3717-4d86-d221-31477b5e4997"
      },
      "source": [
        "df.corr()"
      ],
      "execution_count": 45,
      "outputs": [
        {
          "output_type": "execute_result",
          "data": {
            "text/html": [
              "<div>\n",
              "<style scoped>\n",
              "    .dataframe tbody tr th:only-of-type {\n",
              "        vertical-align: middle;\n",
              "    }\n",
              "\n",
              "    .dataframe tbody tr th {\n",
              "        vertical-align: top;\n",
              "    }\n",
              "\n",
              "    .dataframe thead th {\n",
              "        text-align: right;\n",
              "    }\n",
              "</style>\n",
              "<table border=\"1\" class=\"dataframe\">\n",
              "  <thead>\n",
              "    <tr style=\"text-align: right;\">\n",
              "      <th></th>\n",
              "      <th>year_group</th>\n",
              "      <th>Major Hurricanes</th>\n",
              "      <th>Tropical Storms</th>\n",
              "      <th>h-ratio</th>\n",
              "      <th>major</th>\n",
              "      <th>sea surface temp+</th>\n",
              "    </tr>\n",
              "  </thead>\n",
              "  <tbody>\n",
              "    <tr>\n",
              "      <th>year_group</th>\n",
              "      <td>1.000000</td>\n",
              "      <td>0.674602</td>\n",
              "      <td>0.750101</td>\n",
              "      <td>-0.486867</td>\n",
              "      <td>0.237699</td>\n",
              "      <td>0.893114</td>\n",
              "    </tr>\n",
              "    <tr>\n",
              "      <th>Major Hurricanes</th>\n",
              "      <td>0.674602</td>\n",
              "      <td>1.000000</td>\n",
              "      <td>0.879687</td>\n",
              "      <td>-0.233819</td>\n",
              "      <td>0.779675</td>\n",
              "      <td>0.685774</td>\n",
              "    </tr>\n",
              "    <tr>\n",
              "      <th>Tropical Storms</th>\n",
              "      <td>0.750101</td>\n",
              "      <td>0.879687</td>\n",
              "      <td>1.000000</td>\n",
              "      <td>-0.292982</td>\n",
              "      <td>0.465059</td>\n",
              "      <td>0.850089</td>\n",
              "    </tr>\n",
              "    <tr>\n",
              "      <th>h-ratio</th>\n",
              "      <td>-0.486867</td>\n",
              "      <td>-0.233819</td>\n",
              "      <td>-0.292982</td>\n",
              "      <td>1.000000</td>\n",
              "      <td>0.064525</td>\n",
              "      <td>-0.284183</td>\n",
              "    </tr>\n",
              "    <tr>\n",
              "      <th>major</th>\n",
              "      <td>0.237699</td>\n",
              "      <td>0.779675</td>\n",
              "      <td>0.465059</td>\n",
              "      <td>0.064525</td>\n",
              "      <td>1.000000</td>\n",
              "      <td>0.230714</td>\n",
              "    </tr>\n",
              "    <tr>\n",
              "      <th>sea surface temp+</th>\n",
              "      <td>0.893114</td>\n",
              "      <td>0.685774</td>\n",
              "      <td>0.850089</td>\n",
              "      <td>-0.284183</td>\n",
              "      <td>0.230714</td>\n",
              "      <td>1.000000</td>\n",
              "    </tr>\n",
              "  </tbody>\n",
              "</table>\n",
              "</div>"
            ],
            "text/plain": [
              "                   year_group  Major Hurricanes  ...     major  sea surface temp+\n",
              "year_group           1.000000          0.674602  ...  0.237699           0.893114\n",
              "Major Hurricanes     0.674602          1.000000  ...  0.779675           0.685774\n",
              "Tropical Storms      0.750101          0.879687  ...  0.465059           0.850089\n",
              "h-ratio             -0.486867         -0.233819  ...  0.064525          -0.284183\n",
              "major                0.237699          0.779675  ...  1.000000           0.230714\n",
              "sea surface temp+    0.893114          0.685774  ...  0.230714           1.000000\n",
              "\n",
              "[6 rows x 6 columns]"
            ]
          },
          "metadata": {},
          "execution_count": 45
        }
      ]
    },
    {
      "cell_type": "code",
      "metadata": {
        "colab": {
          "base_uri": "https://localhost:8080/",
          "height": 519
        },
        "id": "_MNkqt-PndWh",
        "outputId": "14b5155b-37d5-45d3-95b5-f4bfa972f8c1"
      },
      "source": [
        "sb.set(rc={'figure.figsize':(16, 8)})\n",
        "f, axes = plt.subplots(2,1,figsize=(16,8))\n",
        "sb.barplot(x='year_group',y='Major Hurricanes',label='major hurricanes',data=df,ax=axes.flat[0])\n",
        "sb.barplot(x='year_group',y='sea surface temp+',label='sea temp',data=df,ax=axes.flat[1])"
      ],
      "execution_count": 47,
      "outputs": [
        {
          "output_type": "execute_result",
          "data": {
            "text/plain": [
              "<matplotlib.axes._subplots.AxesSubplot at 0x7f1337c45d90>"
            ]
          },
          "metadata": {},
          "execution_count": 47
        },
        {
          "output_type": "display_data",
          "data": {
            "image/png": "[encoded data removed]",
            "text/plain": [
              "<Figure size 1152x576 with 2 Axes>"
            ]
          },
          "metadata": {}
        }
      ]
    }
  ]
}