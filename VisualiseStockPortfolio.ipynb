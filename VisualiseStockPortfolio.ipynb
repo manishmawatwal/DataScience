{
  "nbformat": 4,
  "nbformat_minor": 0,
  "metadata": {
    "colab": {
      "name": "VisualiseStockPortfolio.ipynb",
      "provenance": [],
      "authorship_tag": "ABX9TyNDcZUpyEiPqH7cNmVXYWG8",
      "include_colab_link": true
    },
    "kernelspec": {
      "name": "python3",
      "display_name": "Python 3"
    },
    "language_info": {
      "name": "python"
    }
  },
  "cells": [
    {
      "cell_type": "markdown",
      "metadata": {
        "id": "view-in-github",
        "colab_type": "text"
      },
      "source": [
        "<a href=\"https://colab.research.google.com/github/manishmawatwal/DataScience/blob/main/VisualiseStockPortfolio.ipynb\" target=\"_parent\"><img src=\"https://colab.research.google.com/assets/colab-badge.svg\" alt=\"Open In Colab\"/></a>"
      ]
    },
    {
      "cell_type": "code",
      "metadata": {
        "id": "FuTHqNlUJPSv"
      },
      "source": [
        "#Description:This program visualizes my stock portfolio"
      ],
      "execution_count": 1,
      "outputs": []
    },
    {
      "cell_type": "code",
      "metadata": {
        "id": "f-QA56LqJVq2"
      },
      "source": [
        "#importing libraries\n",
        "import pandas as pd\n",
        "import numpy as np\n",
        "import matplotlib.pyplot as plt\n",
        "import random"
      ],
      "execution_count": 2,
      "outputs": []
    },
    {
      "cell_type": "code",
      "metadata": {
        "id": "GkIOSCr0JfYz"
      },
      "source": [
        "#load the data\n",
        "from google.colab import files\n",
        "files.upload()"
      ],
      "execution_count": null,
      "outputs": []
    },
    {
      "cell_type": "code",
      "metadata": {
        "id": "ztRVwr8CJr1r"
      },
      "source": [
        "#store the dat and show\n",
        "df = pd.read_csv('MyPortfolio.csv')\n",
        "df"
      ],
      "execution_count": null,
      "outputs": []
    },
    {
      "cell_type": "code",
      "metadata": {
        "id": "ugCJV0jkJ7Do"
      },
      "source": [
        "#get the total invested amount of money in the portfolio\n",
        "total_amount = sum(df['Amount'] * df['Average_Price'])\n",
        "total_amount = round(total_amount, 2)"
      ],
      "execution_count": null,
      "outputs": []
    },
    {
      "cell_type": "code",
      "metadata": {
        "id": "xSvFN3HfKf5F"
      },
      "source": [
        "#Visualise the portfolio\n",
        "stock_tickers = df['Ticker'].values\n",
        "sizes = df['Amount'] * df['Average_Price']\n",
        "\n",
        "listofzeros = [0] * df.shape[0]\n",
        "n = random.randint(0, df.shape[0] - 1)\n",
        "listofzeros[n] = 0.1\n",
        "explode = listofzeros\n",
        "\n",
        "#create a figure\n",
        "fig1, ax1 = plt.subplot(figsize = (10,10))\n",
        "#plot the pie chart\n",
        "ax1.pie(sizes, explode = explode, labels = stock_tickers, autopct = '%.2f%%', shadom = 'True', startingangle = 360)\n",
        "\n",
        "#set the title\n",
        "ax1.set_title('Portfolio Pie Chart', color = 'Purple', fontsize = 22)\n",
        "\n",
        "#Add text to the visual\n",
        "x = -1.75\n",
        "y = 1\n",
        "ax1.text(x, y, 'Overview:', fontsize = 24, color = 'Purple')\n",
        "\n",
        "y_counter = 0.12\n",
        "ax1.text(x, y - y_counter, 'Total:'+str(total_amount), fontsize = 15, color = 'Purple')\n",
        "for i in range(0, df.shape[0]):\n",
        "  ax1.test(x, 0.88 - y_counter, df['Ticker'][i]+':$' + str(round(df['Amount'][i] * df['Average_Price'][i], 2)), fontsize = 14, color = 'Black')\n",
        "  y_counter = y_counter + 0.12"
      ],
      "execution_count": null,
      "outputs": []
    }
  ]
}